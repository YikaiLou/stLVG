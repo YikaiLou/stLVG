{
 "cells": [
  {
   "cell_type": "code",
   "execution_count": null,
   "metadata": {},
   "outputs": [],
   "source": [
    "import os\n",
    "import csv\n",
    "import time\n",
    "import yaml\n",
    "from pathlib import Path\n",
    "import _pickle as cpickle\n",
    "\n",
    "import scanpy as sc\n",
    "import torch\n",
    "import numpy as np\n",
    "import pandas as pd\n",
    "import cv2\n",
    "from sklearn.metrics import f1_score\n",
    "\n",
    "from scSLAT.model import load_anndatas, run_SLAT, Cal_Spatial_Net, probabilistic_match\n",
    "from scSLAT.model.prematch import icp, alpha_shape\n",
    "from scSLAT.metrics import global_score"
   ]
  },
  {
   "cell_type": "code",
   "execution_count": null,
   "metadata": {},
   "outputs": [],
   "source": [
    "sc.set_figure_params(dpi_save=200, dpi=150)"
   ]
  },
  {
   "cell_type": "code",
   "execution_count": null,
   "metadata": {
    "tags": [
     "parameters"
    ]
   },
   "outputs": [],
   "source": [
    "# parameter cells\n",
    "adata1_file = ''\n",
    "adata2_file = ''\n",
    "metric_file = ''\n",
    "emb0_file = ''\n",
    "emb1_file = ''\n",
    "graphs_file = ''\n",
    "matching_file = ''"
   ]
  },
  {
   "cell_type": "code",
   "execution_count": null,
   "metadata": {},
   "outputs": [],
   "source": [
    "adata1 = sc.read_h5ad(adata1_file)\n",
    "adata2 = sc.read_h5ad(adata2_file)"
   ]
  },
  {
   "attachments": {},
   "cell_type": "markdown",
   "metadata": {},
   "source": [
    "# Parameter for dataset"
   ]
  },
  {
   "cell_type": "code",
   "execution_count": null,
   "metadata": {},
   "outputs": [],
   "source": [
    "if 'visium' and 'DLPFC' in adata1_file:\n",
    "    biology_meta = 'cell_type'\n",
    "    topology_meta = 'layer_guess'\n",
    "    alpha = 10\n",
    "    spot_size = 5\n",
    "elif 'merfish' and 'hypothalamic' in adata1_file:\n",
    "    biology_meta = 'Cell_class'\n",
    "    topology_meta = 'region'\n",
    "    alpha = 25\n",
    "    spot_size = 15\n",
    "elif 'stereo' and 'embryo' in adata1_file:\n",
    "    biology_meta = 'annotation'\n",
    "    topology_meta = 'region'\n",
    "    alpha = 3\n",
    "    spot_size = 5\n",
    "elif 'brain' in adata1_file:\n",
    "    biology_meta = 'layer_guess'\n",
    "    topology_meta = 'layer_guess'\n",
    "    alpha = 10\n",
    "    spot_size = 5"
   ]
  },
  {
   "attachments": {},
   "cell_type": "markdown",
   "metadata": {},
   "source": [
    "# Prematch"
   ]
  },
  {
   "cell_type": "code",
   "execution_count": null,
   "metadata": {},
   "outputs": [],
   "source": [
    "start = time.time()\n",
    "if 'rotation' in adata2.uns.keys():\n",
    "    boundary_1, edges_1, _ = alpha_shape(adata1.obsm['spatial'], alpha=alpha, only_outer=True)\n",
    "    boundary_2, edges_2, _ = alpha_shape(adata2.obsm['spatial'], alpha=alpha, only_outer=True)\n",
    "    T, error = icp(adata2.obsm['spatial'][boundary_2,:].T, adata1.obsm['spatial'][boundary_1,:].T)\n",
    "    rotation = np.arcsin(T[0,1]) * 360 / 2 / np.pi\n",
    "\n",
    "    print(\"T\",  T)\n",
    "    print(\"icp loss\", error)\n",
    "    print(\"rotation°\", rotation)\n",
    "\n",
    "    print(f\"ground truth: {adata2.uns['rotation']}, prematch result:{rotation}, error is {adata2.uns['rotation'] - rotation}\")\n",
    "\n",
    "    trans = np.squeeze(cv2.transform(np.array([adata2.obsm['spatial']], copy=True).astype(np.float32), T))[:,:2]\n",
    "    adata2.obsm['spatial'] = trans"
   ]
  },
  {
   "attachments": {},
   "cell_type": "markdown",
   "metadata": {},
   "source": [
    "# run SLAT with DPCA"
   ]
  },
  {
   "cell_type": "code",
   "execution_count": null,
   "metadata": {},
   "outputs": [],
   "source": [
    "Cal_Spatial_Net(adata1, k_cutoff=20, model='KNN')\n",
    "Cal_Spatial_Net(adata2, k_cutoff=20, model='KNN')\n",
    "edges, features = load_anndatas([adata1, adata2], feature='dpca', singular=True, dim=30)\n",
    "embd0, embd1, time1 = run_SLAT(features, edges, 6, LGCN_layer=3)\n",
    "run_time = str(time.time() - start)\n",
    "print('Runtime: ' + run_time)"
   ]
  },
  {
   "cell_type": "code",
   "execution_count": null,
   "metadata": {},
   "outputs": [],
   "source": [
    "adata1.obsm['X_slat'] = embd0.cpu().detach().numpy()\n",
    "adata2.obsm['X_slat'] = embd1.cpu().detach().numpy()"
   ]
  },
  {
   "attachments": {},
   "cell_type": "markdown",
   "metadata": {},
   "source": [
    "# Metric"
   ]
  },
  {
   "cell_type": "code",
   "execution_count": null,
   "metadata": {},
   "outputs": [],
   "source": [
    "embd0 = adata1.obsm['X_slat']\n",
    "embd1 = adata2.obsm['X_slat']\n",
    "matching = probabilistic_match(embds=[embd0, embd1], adatas = [adata1,adata2])"
   ]
  },
  {
   "cell_type": "code",
   "execution_count": null,
   "metadata": {},
   "outputs": [],
   "source": [
    "overall_score = global_score([adata1,adata2], matching, biology_meta, topology_meta)\n",
    "celltype_score = global_score([adata1,adata2], matching, biology_meta=biology_meta)\n",
    "region_score = global_score([adata1,adata2], matching, topology_meta=topology_meta)"
   ]
  },
  {
   "attachments": {},
   "cell_type": "markdown",
   "metadata": {},
   "source": [
    "# Save"
   ]
  },
  {
   "cell_type": "code",
   "execution_count": null,
   "metadata": {},
   "outputs": [],
   "source": [
    "metric_dic = {}\n",
    "metric_dic['global_score'] = overall_score\n",
    "metric_dic['celltype_score'] = celltype_score\n",
    "metric_dic['region_score'] = region_score\n",
    "metric_dic['run_time'] = run_time\n",
    "metric_dic['euclidean_dis'] = -1\n",
    "metric_dic['angle_delta'] = -1\n",
    "\n",
    "metric_dic['celltype_macro_f1'] = -1\n",
    "metric_dic['celltype_micro_f1'] = -1\n",
    "metric_dic['region_macro_f1'] = -1\n",
    "metric_dic['region_micro_f1'] = -1\n",
    "metric_dic['total_macro_f1'] = -1\n",
    "metric_dic['total_micro_f1'] = -1\n",
    "\n",
    "metric_dic['match_ratio'] = -1\n",
    "\n",
    "with open(metric_file, \"w\") as f:\n",
    "    yaml.dump(metric_dic, f)\n",
    "\n",
    "np.savetxt(emb0_file, adata1.obsm['X_slat'], delimiter=',')\n",
    "np.savetxt(emb1_file, adata2.obsm['X_slat'], delimiter=',')\n",
    "# np.savetxt(matching_file, matching, fmt='%i')\n",
    "with open(matching_file, 'w', newline='') as csvfile:\n",
    "    writer = csv.writer(csvfile)\n",
    "    writer.writerows(matching)"
   ]
  },
  {
   "cell_type": "code",
   "execution_count": null,
   "metadata": {},
   "outputs": [],
   "source": [
    "# save graphs for edge score\n",
    "edges = [edge.cpu().detach() for edge in edges]\n",
    "with open(graphs_file, 'wb') as f:\n",
    "    cpickle.dump(edges, f)"
   ]
  }
 ],
 "metadata": {
  "kernelspec": {
   "display_name": "Python 3",
   "language": "python",
   "name": "python3"
  },
  "language_info": {
   "codemirror_mode": {
    "name": "ipython",
    "version": 3
   },
   "file_extension": ".py",
   "mimetype": "text/x-python",
   "name": "python",
   "nbconvert_exporter": "python",
   "pygments_lexer": "ipython3",
   "version": "3.8.13 | packaged by conda-forge | (default, Mar 25 2022, 06:04:18) \n[GCC 10.3.0]"
  },
  "vscode": {
   "interpreter": {
    "hash": "88786030ea59a7c96004ff67a345d53abff4d58eacfbb401c324cb520462373b"
   }
  }
 },
 "nbformat": 4,
 "nbformat_minor": 4
}
