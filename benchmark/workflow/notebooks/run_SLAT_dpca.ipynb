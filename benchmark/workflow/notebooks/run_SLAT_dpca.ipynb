{
 "cells": [
  {
   "cell_type": "code",
   "execution_count": null,
   "metadata": {},
   "outputs": [],
   "source": [
    "import os\n",
    "import time\n",
    "import yaml\n",
    "from pathlib import Path\n",
    "import _pickle as cpickle\n",
    "\n",
    "import numpy as np\n",
    "import pandas as pd\n",
    "import scanpy as sc\n",
    "import scipy.sparse as sp\n",
    "from matplotlib import pyplot as plt\n",
    "import cv2\n",
    "from sklearn.metrics import f1_score\n",
    "\n",
    "from scSLAT.model import load_anndatas, run_SLAT, Cal_Spatial_Net, spatial_match\n",
    "from scSLAT.model.prematch import icp, alpha_shape\n",
    "from scSLAT.metrics import global_score, euclidean_dis, rotation_angle\n",
    "from scSLAT.viz import match_3D_multi, matching_2d, Sankey"
   ]
  },
  {
   "cell_type": "code",
   "execution_count": null,
   "metadata": {},
   "outputs": [],
   "source": [
    "sc.set_figure_params(dpi_save=200, dpi=150)"
   ]
  },
  {
   "cell_type": "code",
   "execution_count": null,
   "metadata": {
    "tags": [
     "parameters"
    ]
   },
   "outputs": [],
   "source": [
    "# parameter cells\n",
    "adata1_file = ''\n",
    "adata2_file = ''\n",
    "metric_file = ''\n",
    "emb0_file = ''\n",
    "emb1_file = ''\n",
    "graphs_file = ''\n",
    "matching_file = ''\n",
    "ground_truth = 60"
   ]
  },
  {
   "cell_type": "code",
   "execution_count": null,
   "metadata": {},
   "outputs": [],
   "source": [
    "adata1 = sc.read_h5ad(adata1_file)\n",
    "adata2 = sc.read_h5ad(adata2_file)"
   ]
  },
  {
   "attachments": {},
   "cell_type": "markdown",
   "metadata": {},
   "source": [
    "# Parameter for dataset"
   ]
  },
  {
   "cell_type": "code",
   "execution_count": null,
   "metadata": {},
   "outputs": [],
   "source": [
    "if 'visium' and 'DLPFC' in adata1_file:\n",
    "    biology_meta = 'cell_type'\n",
    "    topology_meta = 'layer_guess'\n",
    "    alpha = 10\n",
    "    spot_size = 5\n",
    "elif 'merfish' and 'hypothalamic' in adata1_file:\n",
    "    biology_meta = 'Cell_class'\n",
    "    topology_meta = 'region'\n",
    "    alpha = 25\n",
    "    spot_size = 15\n",
    "elif 'stereo' and 'embryo' in adata1_file:\n",
    "    biology_meta = 'annotation'\n",
    "    topology_meta = 'region'\n",
    "    alpha = 3\n",
    "    spot_size = 5\n",
    "elif 'brain' in adata1_file:\n",
    "    biology_meta = 'layer_guess'\n",
    "    topology_meta = 'layer_guess'\n",
    "    alpha = 10\n",
    "    spot_size = 5"
   ]
  },
  {
   "attachments": {},
   "cell_type": "markdown",
   "metadata": {},
   "source": [
    "# Prematch"
   ]
  },
  {
   "cell_type": "code",
   "execution_count": null,
   "metadata": {},
   "outputs": [],
   "source": [
    "start = time.time()\n",
    "if 'rotation' in adata2.uns.keys():\n",
    "    boundary_1, edges_1, _ = alpha_shape(adata1.obsm['spatial'], alpha=alpha, only_outer=True)\n",
    "    boundary_2, edges_2, _ = alpha_shape(adata2.obsm['spatial'], alpha=alpha, only_outer=True)\n",
    "    T, error = icp(adata2.obsm['spatial'][boundary_2,:].T, adata1.obsm['spatial'][boundary_1,:].T)\n",
    "    rotation = np.arcsin(T[0,1]) * 360 / 2 / np.pi\n",
    "\n",
    "    print(\"T\",  T)\n",
    "    print(\"icp loss\", error)\n",
    "    print(\"rotation°\", rotation)\n",
    "\n",
    "    print(f\"ground truth: {adata2.uns['rotation']}, prematch result:{rotation}, error is {adata2.uns['rotation'] - rotation}\")\n",
    "\n",
    "    trans = np.squeeze(cv2.transform(np.array([adata2.obsm['spatial']], copy=True).astype(np.float32), T))[:,:2]\n",
    "    adata2.obsm['spatial'] = trans"
   ]
  },
  {
   "attachments": {},
   "cell_type": "markdown",
   "metadata": {},
   "source": [
    "# run SLAT with DPCA"
   ]
  },
  {
   "cell_type": "code",
   "execution_count": null,
   "metadata": {},
   "outputs": [],
   "source": [
    "Cal_Spatial_Net(adata1, k_cutoff=20, model='KNN')\n",
    "Cal_Spatial_Net(adata2, k_cutoff=20, model='KNN')\n",
    "edges, features = load_anndatas([adata1, adata2], feature='dpca', singular=True, dim=30)\n",
    "embd0, embd1, time1 = run_SLAT(features, edges, 6, LGCN_layer=3)\n",
    "run_time = str(time.time() - start)\n",
    "print('Runtime: ' + run_time)"
   ]
  },
  {
   "cell_type": "code",
   "execution_count": null,
   "metadata": {},
   "outputs": [],
   "source": [
    "adata1.obsm['X_slat'] = embd0.cpu().detach().numpy()\n",
    "adata2.obsm['X_slat'] = embd1.cpu().detach().numpy()"
   ]
  },
  {
   "attachments": {},
   "cell_type": "markdown",
   "metadata": {},
   "source": [
    "# Metric"
   ]
  },
  {
   "cell_type": "code",
   "execution_count": null,
   "metadata": {},
   "outputs": [],
   "source": [
    "embd0 = adata1.obsm['X_slat']\n",
    "embd1 = adata2.obsm['X_slat']\n",
    "best, index, distance = spatial_match([embd0, embd1], adatas=[adata1,adata2])\n",
    "matching = np.array([range(index.shape[0]), best])"
   ]
  },
  {
   "cell_type": "code",
   "execution_count": null,
   "metadata": {},
   "outputs": [],
   "source": [
    "# angle\n",
    "data = np.ones(matching.shape[1])\n",
    "matching_sparse = sp.coo_matrix((data, (matching[1], matching[0])), shape=(adata1.n_obs, adata2.n_obs))\n",
    "angle = rotation_angle(adata1.obsm['spatial'], adata2.obsm['spatial'], matching_sparse.toarray(), ground_truth=ground_truth)"
   ]
  },
  {
   "cell_type": "code",
   "execution_count": null,
   "metadata": {},
   "outputs": [],
   "source": [
    "overall_score = global_score([adata1,adata2], matching.T, biology_meta, topology_meta)\n",
    "celltype_score = global_score([adata1,adata2], matching.T, biology_meta=biology_meta)\n",
    "region_score = global_score([adata1,adata2], matching.T, topology_meta=topology_meta)"
   ]
  },
  {
   "cell_type": "code",
   "execution_count": null,
   "metadata": {},
   "outputs": [],
   "source": [
    "eud = euclidean_dis(adata1, adata2, matching)"
   ]
  },
  {
   "cell_type": "markdown",
   "metadata": {},
   "source": [
    "## F1 score"
   ]
  },
  {
   "cell_type": "code",
   "execution_count": null,
   "metadata": {},
   "outputs": [],
   "source": [
    "if 'visium' and 'DLPFC' in adata1_file:\n",
    "    adata2.obs[biology_meta] = 'celltype_' + adata2.obs[biology_meta].astype('str')\n",
    "    adata1.obs[biology_meta] = 'celltype_' + adata1.obs[biology_meta].astype('str')\n",
    "\n",
    "adata2.obs['target_celltype'] = adata1.obs.iloc[matching[1,:],:][biology_meta].to_list()\n",
    "adata2.obs['target_region'] = adata1.obs.iloc[matching[1,:],:][topology_meta].to_list()\n",
    "adata2.obs['target_celltype_region'] = adata2.obs['target_celltype'].astype('str') + '_' + adata2.obs['target_region'].astype('str')\n",
    "adata2.obs['celltype_region'] = adata2.obs[biology_meta].astype('str') + '_' + adata2.obs[topology_meta].astype('str')"
   ]
  },
  {
   "cell_type": "code",
   "execution_count": null,
   "metadata": {},
   "outputs": [],
   "source": [
    "celltype_macro_f1 = f1_score(adata2.obs[biology_meta], adata2.obs['target_celltype'], average='macro')\n",
    "celltype_micro_f1 = f1_score(adata2.obs[biology_meta], adata2.obs['target_celltype'], average='micro')\n",
    "\n",
    "region_macro_f1 = f1_score(adata2.obs[topology_meta], adata2.obs['target_region'], average='macro')\n",
    "region_micro_f1 = f1_score(adata2.obs[topology_meta], adata2.obs['target_region'], average='micro')\n",
    "\n",
    "total_macro_f1 = f1_score(adata2.obs['celltype_region'], adata2.obs['target_celltype_region'], average='macro')\n",
    "total_micro_f1 = f1_score(adata2.obs['celltype_region'], adata2.obs['target_celltype_region'], average='micro')"
   ]
  },
  {
   "cell_type": "markdown",
   "metadata": {},
   "source": [
    "## Ground truth (perturb)"
   ]
  },
  {
   "cell_type": "code",
   "execution_count": null,
   "metadata": {},
   "outputs": [],
   "source": [
    "if 'perturb' in matching_file:\n",
    "    match_ratio =  (matching[0] == matching[1]).sum() / len(matching[0])\n",
    "else:\n",
    "    match_ratio = -1"
   ]
  },
  {
   "attachments": {},
   "cell_type": "markdown",
   "metadata": {},
   "source": [
    "# Save"
   ]
  },
  {
   "cell_type": "code",
   "execution_count": null,
   "metadata": {},
   "outputs": [],
   "source": [
    "metric_dic = {}\n",
    "metric_dic['global_score'] = overall_score\n",
    "metric_dic['celltype_score'] = celltype_score\n",
    "metric_dic['region_score'] = region_score\n",
    "metric_dic['run_time'] = run_time\n",
    "metric_dic['euclidean_dis'] = eud\n",
    "metric_dic['angle_delta'] = float(angle)\n",
    "\n",
    "metric_dic['celltype_macro_f1'] = float(celltype_macro_f1)\n",
    "metric_dic['celltype_micro_f1'] = float(celltype_micro_f1)\n",
    "metric_dic['region_macro_f1'] = float(region_macro_f1)\n",
    "metric_dic['region_micro_f1'] = float(region_micro_f1)\n",
    "metric_dic['total_macro_f1'] = float(total_macro_f1)\n",
    "metric_dic['total_micro_f1'] = float(total_micro_f1)\n",
    "\n",
    "metric_dic['match_ratio'] = float(match_ratio)\n",
    "\n",
    "with open(metric_file, \"w\") as f:\n",
    "    yaml.dump(metric_dic, f)\n",
    "\n",
    "np.savetxt(emb0_file, adata1.obsm['X_slat'], delimiter=',')\n",
    "np.savetxt(emb1_file, adata2.obsm['X_slat'], delimiter=',')\n",
    "np.savetxt(matching_file, matching, fmt='%i')"
   ]
  },
  {
   "cell_type": "code",
   "execution_count": null,
   "metadata": {},
   "outputs": [],
   "source": [
    "# save graphs for edge score\n",
    "edges = [edge.cpu().detach() for edge in edges]\n",
    "with open(graphs_file, 'wb') as f:\n",
    "    cpickle.dump(edges, f)"
   ]
  },
  {
   "attachments": {},
   "cell_type": "markdown",
   "metadata": {},
   "source": [
    "# Plot"
   ]
  },
  {
   "cell_type": "code",
   "execution_count": null,
   "metadata": {},
   "outputs": [],
   "source": [
    "out_dir = Path(os.path.dirname(metric_file))\n",
    "sc.settings.figdir = out_dir\n",
    "print(f\"Saving figures to {out_dir}\")"
   ]
  },
  {
   "cell_type": "code",
   "execution_count": null,
   "metadata": {},
   "outputs": [],
   "source": [
    "# show prematch results\n",
    "if 'rotation' in adata2.uns.keys():\n",
    "    plt.scatter(trans[:,0], trans[:,1], s=1)\n",
    "    plt.show()"
   ]
  },
  {
   "cell_type": "code",
   "execution_count": null,
   "metadata": {},
   "outputs": [],
   "source": [
    "# adata_all = adata1.concatenate(adata2)\n",
    "# sc.pp.neighbors(adata_all, metric=\"cosine\", use_rep='X_slat')\n",
    "# sc.tl.umap(adata_all)\n",
    "# sc.pl.umap(adata_all, color=biology_meta, save=out_dir / 'biology.pdf')\n",
    "# sc.pl.umap(adata_all, color=topology_meta, save=out_dir / 'topology.pdf')\n",
    "# sc.pl.umap(adata_all, color=\"batch\", save=out_dir / 'batch.pdf')"
   ]
  },
  {
   "cell_type": "code",
   "execution_count": null,
   "metadata": {},
   "outputs": [],
   "source": [
    "adata1_df = pd.DataFrame({'index':range(embd0.shape[0]),\n",
    "                          'x': adata1.obsm['spatial'][:,0],\n",
    "                          'y': adata1.obsm['spatial'][:,1],\n",
    "                          'celltype':adata1.obs[biology_meta],\n",
    "                          'region':adata1.obs[topology_meta]})\n",
    "adata2_df = pd.DataFrame({'index':range(embd1.shape[0]),\n",
    "                          'x': adata2.obsm['spatial'][:,0],\n",
    "                          'y': adata2.obsm['spatial'][:,1],\n",
    "                          'celltype':adata2.obs[biology_meta],\n",
    "                          'region':adata2.obs[topology_meta]})\n",
    "matching = np.array([range(index.shape[0]), best])"
   ]
  },
  {
   "cell_type": "code",
   "execution_count": null,
   "metadata": {},
   "outputs": [],
   "source": [
    "# 3D matching by cell type\n",
    "multi_align = match_3D_multi(adata1_df, adata2_df, matching, meta='celltype',\n",
    "                             scale_coordinate=True, subsample_size=300, exchange_xy=False)\n",
    "\n",
    "multi_align.draw_3D(size=[7, 8], line_width=1, point_size=[0.8, 0.8], hide_axis=True, \n",
    "                    show_error=True, save=out_dir / 'match_by_celltype.pdf')"
   ]
  },
  {
   "cell_type": "code",
   "execution_count": null,
   "metadata": {},
   "outputs": [],
   "source": [
    "# 3D matching by region\n",
    "multi_align = match_3D_multi(adata1_df, adata2_df, matching, meta='region',\n",
    "                             scale_coordinate=True, subsample_size=300, exchange_xy=False)\n",
    "\n",
    "multi_align.draw_3D(size=[7, 8], line_width=1, point_size=[0.8, 0.8], hide_axis=True, \n",
    "                    show_error=True, save=out_dir / 'match_by_region.pdf')"
   ]
  },
  {
   "cell_type": "code",
   "execution_count": null,
   "metadata": {},
   "outputs": [],
   "source": [
    "# 2D matching plot\n",
    "matching_2d(matching, adata1, adata2, biology_meta, topology_meta, spot_size, save='matching_2d.pdf')"
   ]
  },
  {
   "cell_type": "code",
   "execution_count": null,
   "metadata": {},
   "outputs": [],
   "source": [
    "# Sankey plot\n",
    "adata2.obs['target_celltype'] = adata1.obs.iloc[matching[1,:],:][biology_meta].to_list()\n",
    "adata2.obs['target_region'] = adata1.obs.iloc[matching[1,:],:][topology_meta].to_list()\n",
    "## by cell type\n",
    "matching_table = adata2.obs.groupby([biology_meta,'target_celltype']).size().unstack(fill_value=0)\n",
    "matching_table.index = adata2.obs[biology_meta].unique()\n",
    "matching_table.columns = adata2.obs['target_celltype'].unique()\n",
    "print(matching_table)\n",
    "\n",
    "Sankey(matching_table, prefix=['Slide1', 'Slide2'], save_name=str(out_dir/'celltype_sankey'),\n",
    "       format='svg', width=1000, height=1000)\n",
    "\n",
    "## by region\n",
    "matching_table = adata2.obs.groupby([topology_meta,'target_region']).size().unstack(fill_value=0)\n",
    "matching_table.index = adata2.obs[topology_meta].unique()\n",
    "matching_table.columns = adata2.obs['target_region'].unique()\n",
    "print(matching_table)\n",
    "\n",
    "Sankey(matching_table, prefix=['Slide1', 'Slide2'], save_name=str(out_dir/'region_sankey'),\n",
    "       format='svg', width=1000, height=1000)\n"
   ]
  },
  {
   "cell_type": "markdown",
   "metadata": {},
   "source": [
    "# Reverse matching"
   ]
  },
  {
   "cell_type": "code",
   "execution_count": null,
   "metadata": {},
   "outputs": [],
   "source": [
    "best_rev, index_rev, _ = spatial_match([embd1, embd0], adatas=[adata2, adata1], reorder=False)\n",
    "matching_rev = np.array([range(index_rev.shape[0]), best_rev])"
   ]
  },
  {
   "cell_type": "code",
   "execution_count": null,
   "metadata": {},
   "outputs": [],
   "source": [
    "matching_2d(matching_rev, adata2, adata1, biology_meta, topology_meta, spot_size, save='matching_rev_2d.pdf')"
   ]
  }
 ],
 "metadata": {
  "kernelspec": {
   "display_name": "Python 3",
   "language": "python",
   "name": "python3"
  },
  "language_info": {
   "codemirror_mode": {
    "name": "ipython",
    "version": 3
   },
   "file_extension": ".py",
   "mimetype": "text/x-python",
   "name": "python",
   "nbconvert_exporter": "python",
   "pygments_lexer": "ipython3",
   "version": "3.8.13 | packaged by conda-forge | (default, Mar 25 2022, 06:04:18) \n[GCC 10.3.0]"
  },
  "vscode": {
   "interpreter": {
    "hash": "88786030ea59a7c96004ff67a345d53abff4d58eacfbb401c324cb520462373b"
   }
  }
 },
 "nbformat": 4,
 "nbformat_minor": 4
}
