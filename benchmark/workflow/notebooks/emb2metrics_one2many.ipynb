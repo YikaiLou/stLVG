{
 "cells": [
  {
   "cell_type": "code",
   "execution_count": null,
   "metadata": {},
   "outputs": [],
   "source": [
    "import os\n",
    "import yaml\n",
    "from pathlib import Path\n",
    "import csv\n",
    "\n",
    "import scanpy as sc\n",
    "import torch\n",
    "import numpy as np\n",
    "import pandas as pd\n",
    "\n",
    "from scSLAT.model import spatial_match\n",
    "from scSLAT.metrics import global_score"
   ]
  },
  {
   "cell_type": "code",
   "execution_count": null,
   "metadata": {
    "tags": [
     "parameters"
    ]
   },
   "outputs": [],
   "source": [
    "# parameter cells\n",
    "adata1_file = ''\n",
    "adata2_file = ''\n",
    "emb0_file = ''\n",
    "emb1_file = ''\n",
    "metric_file = ''\n",
    "matching_file = ''\n",
    "method = ''"
   ]
  },
  {
   "cell_type": "code",
   "execution_count": null,
   "metadata": {},
   "outputs": [],
   "source": [
    "adata1 = sc.read_h5ad(adata1_file)\n",
    "adata2 = sc.read_h5ad(adata2_file)"
   ]
  },
  {
   "cell_type": "markdown",
   "metadata": {},
   "source": [
    "# Matching"
   ]
  },
  {
   "cell_type": "code",
   "execution_count": null,
   "metadata": {},
   "outputs": [],
   "source": [
    "if 'paste' in metric_file.lower():\n",
    "    matching = np.loadtxt(matching_file, dtype=int)\n",
    "else:\n",
    "    if 'harmony' in metric_file.lower():\n",
    "        embd0 = adata1.obsm['X_harmony']\n",
    "        embd1 = adata2.obsm['X_harmony']\n",
    "    elif 'pca' in metric_file.lower():\n",
    "        embd0 = adata1.obsm['X_pca']\n",
    "        embd1 = adata2.obsm['X_pca']\n",
    "    else:\n",
    "        embd0 = np.loadtxt(emb0_file, delimiter=',')\n",
    "        embd1 = np.loadtxt(emb1_file, delimiter=',')\n",
    "        embd0 = torch.from_numpy(embd0)\n",
    "        embd1 = torch.from_numpy(embd1)\n",
    "\n",
    "    best, index, similarity = spatial_match([embd0, embd1], adatas=[adata1,adata2])\n",
    "    # fitler out the unconfident matches\n",
    "    filter_list = [row[mask > 0.6].tolist() for row, mask in zip(index, similarity)]\n",
    "    matching = [ [i,j] for i,j in zip(np.arange(index.shape[0]), filter_list) ]"
   ]
  },
  {
   "cell_type": "code",
   "execution_count": null,
   "metadata": {},
   "outputs": [],
   "source": [
    "if 'visium' and 'DLPFC' in adata1_file:\n",
    "    biology_meta = 'cell_type'\n",
    "    topology_meta = 'layer_guess'\n",
    "    spot_size = 5\n",
    "elif 'merfish' and 'hypothalamic' in adata1_file:\n",
    "    biology_meta = 'Cell_class'\n",
    "    topology_meta = 'region'\n",
    "    spot_size = 15\n",
    "elif 'stereo' and 'embryo' in adata1_file:\n",
    "    biology_meta = 'annotation'\n",
    "    topology_meta = 'region'\n",
    "    spot_size = 5\n",
    "elif 'brain' in adata1_file:\n",
    "    biology_meta = 'layer_guess'\n",
    "    topology_meta = 'layer_guess'\n",
    "    spot_size = 5"
   ]
  },
  {
   "cell_type": "markdown",
   "metadata": {},
   "source": [
    "# Metics"
   ]
  },
  {
   "cell_type": "code",
   "execution_count": null,
   "metadata": {},
   "outputs": [],
   "source": [
    "overall_score = global_score([adata1,adata2], matching, biology_meta, topology_meta)\n",
    "celltype_score = global_score([adata1,adata2], matching, biology_meta=biology_meta)\n",
    "region_score = global_score([adata1,adata2], matching, topology_meta=topology_meta)"
   ]
  },
  {
   "attachments": {},
   "cell_type": "markdown",
   "metadata": {},
   "source": [
    "# Save"
   ]
  },
  {
   "cell_type": "code",
   "execution_count": null,
   "metadata": {},
   "outputs": [],
   "source": [
    "out_dir = Path(os.path.dirname(metric_file))\n",
    "sc.settings.figdir = out_dir"
   ]
  },
  {
   "cell_type": "code",
   "execution_count": null,
   "metadata": {},
   "outputs": [],
   "source": [
    "# run time\n",
    "if 'harmony' in metric_file.lower():\n",
    "    run_time = adata1.uns['harmony_time']\n",
    "elif 'pca' in metric_file.lower():\n",
    "    run_time = adata1.uns['pca_time']\n",
    "else:\n",
    "    with open(out_dir.parent / method / 'run_time.yaml', 'r') as stream:\n",
    "        run_time_dic = yaml.safe_load(stream)\n",
    "    run_time = run_time_dic['run_time']"
   ]
  },
  {
   "cell_type": "code",
   "execution_count": null,
   "metadata": {},
   "outputs": [],
   "source": [
    "metric_dic = {}\n",
    "metric_dic['global_score'] = overall_score\n",
    "metric_dic['celltype_score'] = celltype_score\n",
    "metric_dic['region_score'] = region_score\n",
    "metric_dic['euclidean_dis'] = -1\n",
    "metric_dic['angle_delta'] = -1\n",
    "metric_dic['run_time'] = run_time\n",
    "\n",
    "metric_dic['celltype_macro_f1'] = -1\n",
    "metric_dic['celltype_micro_f1'] = -1\n",
    "metric_dic['region_macro_f1'] = -1\n",
    "metric_dic['region_micro_f1'] = -1\n",
    "metric_dic['total_macro_f1'] = -1\n",
    "metric_dic['total_micro_f1'] = -1\n",
    "\n",
    "metric_dic['match_ratio'] = -1\n",
    "\n",
    "with open(metric_file, \"w\") as f:\n",
    "    yaml.dump(metric_dic, f)\n",
    "\n",
    "if 'paste' not in metric_file.lower():\n",
    "    # np.savetxt(matching_file, matching, fmt='%i')\n",
    "    with open(matching_file, 'w', newline='') as csvfile:\n",
    "        writer = csv.writer(csvfile)\n",
    "        writer.writerows(matching)"
   ]
  }
 ],
 "metadata": {
  "kernelspec": {
   "display_name": "Python 3.8.13",
   "language": "python",
   "name": "python3"
  },
  "language_info": {
   "codemirror_mode": {
    "name": "ipython",
    "version": 3
   },
   "file_extension": ".py",
   "mimetype": "text/x-python",
   "name": "python",
   "nbconvert_exporter": "python",
   "pygments_lexer": "ipython3",
   "version": "3.8.17"
  },
  "vscode": {
   "interpreter": {
    "hash": "621de31e2976773a15ee61e49bb83d1434b38154b833d4f115dd1fe48a7a7636"
   }
  }
 },
 "nbformat": 4,
 "nbformat_minor": 4
}
