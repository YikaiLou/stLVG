{
 "cells": [
  {
   "cell_type": "code",
   "execution_count": 1,
   "id": "d30bf42c",
   "metadata": {
    "execution": {
     "iopub.execute_input": "2022-08-31T08:47:21.247295Z",
     "iopub.status.busy": "2022-08-31T08:47:21.246687Z",
     "iopub.status.idle": "2022-08-31T08:47:25.230852Z",
     "shell.execute_reply": "2022-08-31T08:47:25.229799Z"
    },
    "papermill": {
     "duration": 3.998798,
     "end_time": "2022-08-31T08:47:25.234550",
     "exception": false,
     "start_time": "2022-08-31T08:47:21.235752",
     "status": "completed"
    },
    "tags": []
   },
   "outputs": [],
   "source": [
    "import time\n",
    "\n",
    "import numpy as np\n",
    "import pandas as pd\n",
    "import scanpy as sc\n",
    "import scipy\n",
    "import torch\n",
    "import harmonypy as hm\n",
    "import math\n",
    "\n",
    "from scSLAT.utils import global_seed\n",
    "from scSLAT.model import scanpy_workflow\n",
    "from scSLAT.model.prematch import rotate_via_numpy, perturb_data"
   ]
  },
  {
   "cell_type": "code",
   "execution_count": null,
   "id": "8981908d",
   "metadata": {
    "execution": {
     "iopub.execute_input": "2022-08-31T08:47:25.257284Z",
     "iopub.status.busy": "2022-08-31T08:47:25.256160Z",
     "iopub.status.idle": "2022-08-31T08:47:25.263038Z",
     "shell.execute_reply": "2022-08-31T08:47:25.261916Z"
    },
    "papermill": {
     "duration": 0.021026,
     "end_time": "2022-08-31T08:47:25.265866",
     "exception": false,
     "start_time": "2022-08-31T08:47:25.244840",
     "status": "completed"
    },
    "tags": [
     "parameters"
    ]
   },
   "outputs": [],
   "source": [
    "# parameters cell\n",
    "dataset1_file = ''\n",
    "dataset2_file = ''\n",
    "cells = 5000\n",
    "seed = 0\n",
    "leiden_repo = 'X_harmony'\n",
    "adata1_out = ''\n",
    "adata2_out = ''\n",
    "rotation = False\n",
    "perturb = False\n",
    "inverse_noise = 5"
   ]
  },
  {
   "cell_type": "code",
   "execution_count": null,
   "id": "53700ee7",
   "metadata": {},
   "outputs": [],
   "source": [
    "global_seed(seed)"
   ]
  },
  {
   "cell_type": "code",
   "execution_count": null,
   "id": "d7cea0e0",
   "metadata": {
    "execution": {
     "iopub.execute_input": "2022-08-31T08:47:25.335963Z",
     "iopub.status.busy": "2022-08-31T08:47:25.335357Z",
     "iopub.status.idle": "2022-08-31T08:47:26.439051Z",
     "shell.execute_reply": "2022-08-31T08:47:26.437960Z"
    },
    "papermill": {
     "duration": 1.115456,
     "end_time": "2022-08-31T08:47:26.440880",
     "exception": false,
     "start_time": "2022-08-31T08:47:25.325424",
     "status": "completed"
    },
    "tags": []
   },
   "outputs": [],
   "source": [
    "adata1 = sc.read_h5ad(dataset1_file)\n",
    "adata2 = sc.read_h5ad(dataset2_file)\n",
    "adata1 = sc.pp.subsample(adata1, n_obs=cells, copy=True, random_state=seed) if cells>0 and cells<=adata1.shape[0] \\\n",
    "    else adata1.copy()\n",
    "adata2 = sc.pp.subsample(adata2, n_obs=cells, copy=True, random_state=seed) if cells>0 and cells<=adata2.shape[0] \\\n",
    "    else adata2.copy()"
   ]
  },
  {
   "cell_type": "code",
   "execution_count": null,
   "id": "74da4456",
   "metadata": {},
   "outputs": [],
   "source": [
    "if adata1.shape[0] < adata2.shape[0]:\n",
    "    adata2, adata1 = adata1, adata2"
   ]
  },
  {
   "cell_type": "markdown",
   "id": "eb494a65",
   "metadata": {},
   "source": [
    "# Random rotation and perturbation"
   ]
  },
  {
   "cell_type": "code",
   "execution_count": null,
   "id": "127c7516",
   "metadata": {},
   "outputs": [],
   "source": [
    "if cells==0 and rotation:\n",
    "    deg = np.random.randint(0, 360)\n",
    "    rad = np.deg2rad(deg)\n",
    "    adata2.obsm['spatial'] = rotate_via_numpy(adata2.obsm['spatial'], rad)\n",
    "    adata2.uns['rotation'] = deg\n",
    "    \n",
    "if perturb:\n",
    "    adata2 = adata1.copy()\n",
    "    perturb_data(adata2, inverse_noise=inverse_noise)"
   ]
  },
  {
   "cell_type": "code",
   "execution_count": null,
   "id": "6ba71ed3",
   "metadata": {},
   "outputs": [],
   "source": [
    "adata1.layers['counts'] = adata1.X.copy()\n",
    "adata2.layers['counts'] = adata2.X.copy()"
   ]
  },
  {
   "cell_type": "markdown",
   "id": "825cf661",
   "metadata": {
    "papermill": {
     "duration": null,
     "end_time": null,
     "exception": null,
     "start_time": null,
     "status": "pending"
    },
    "tags": []
   },
   "source": [
    "# PCA and Harmony"
   ]
  },
  {
   "cell_type": "code",
   "execution_count": null,
   "id": "2333e07d",
   "metadata": {
    "execution": {
     "iopub.execute_input": "2022-08-31T04:49:14.246316Z",
     "iopub.status.busy": "2022-08-31T04:49:14.245639Z",
     "iopub.status.idle": "2022-08-31T04:49:36.685519Z",
     "shell.execute_reply": "2022-08-31T04:49:36.684365Z"
    },
    "papermill": {
     "duration": null,
     "end_time": null,
     "exception": null,
     "start_time": null,
     "status": "pending"
    },
    "tags": []
   },
   "outputs": [],
   "source": [
    "adata_all = adata1.concatenate(adata2)\n",
    "start = time.time()\n",
    "adata_all = scanpy_workflow(adata_all)\n",
    "end_pca = time.time()\n",
    "harm = hm.run_harmony(adata_all.obsm['X_pca'], adata_all.obs, 'batch', max_iter_harmony=20)\n",
    "Z = harm.Z_corr.T\n",
    "end_harmony = time.time()\n",
    "adata_all.obsm['X_harmony'] = Z"
   ]
  },
  {
   "cell_type": "code",
   "execution_count": null,
   "id": "8fdf1d1d",
   "metadata": {},
   "outputs": [],
   "source": [
    "sc.pp.neighbors(adata_all, use_rep=leiden_repo)\n",
    "sc.tl.leiden(adata_all, resolution=0.5)\n",
    "sc.tl.umap(adata_all)\n",
    "sc.pl.umap(adata_all, color=[\"leiden\", \"batch\"])"
   ]
  },
  {
   "cell_type": "code",
   "execution_count": null,
   "id": "664549d5",
   "metadata": {
    "execution": {
     "iopub.execute_input": "2022-08-31T04:49:36.707625Z",
     "iopub.status.busy": "2022-08-31T04:49:36.707204Z",
     "iopub.status.idle": "2022-08-31T04:49:36.713978Z",
     "shell.execute_reply": "2022-08-31T04:49:36.713292Z"
    },
    "papermill": {
     "duration": null,
     "end_time": null,
     "exception": null,
     "start_time": null,
     "status": "pending"
    },
    "tags": []
   },
   "outputs": [],
   "source": [
    "adata1.obsm['X_harmony'] = Z[:adata1.shape[0],:]\n",
    "adata2.obsm['X_harmony'] = Z[adata1.shape[0]:,:]"
   ]
  },
  {
   "cell_type": "code",
   "execution_count": null,
   "id": "db946894-e73c-4a80-bef8-123185a543e2",
   "metadata": {},
   "outputs": [],
   "source": [
    "adata1.obsm['X_pca'] = adata_all.obsm['X_pca'][:adata1.shape[0],:] \n",
    "adata2.obsm['X_pca'] = adata_all.obsm['X_pca'][adata1.shape[0]:,:]"
   ]
  },
  {
   "cell_type": "code",
   "execution_count": null,
   "id": "2dc65664",
   "metadata": {},
   "outputs": [],
   "source": [
    "adata1.obs['leiden'] = adata_all.obs['leiden'][:adata1.shape[0]].values\n",
    "adata2.obs['leiden'] = adata_all.obs['leiden'][adata1.shape[0]:].values"
   ]
  },
  {
   "cell_type": "markdown",
   "id": "7dc747af",
   "metadata": {},
   "source": [
    "# Save adatas"
   ]
  },
  {
   "cell_type": "code",
   "execution_count": null,
   "id": "d82ebe8d",
   "metadata": {},
   "outputs": [],
   "source": [
    "adata1.uns['pca_time'] = str(end_pca-start)\n",
    "adata1.uns['harmony_time'] = str(end_harmony-start)\n",
    "adata2.uns['pca_time'] = str(end_pca-start)\n",
    "adata2.uns['harmony_time'] = str(end_harmony-start)"
   ]
  },
  {
   "cell_type": "code",
   "execution_count": null,
   "id": "c26b4ecf",
   "metadata": {},
   "outputs": [],
   "source": [
    "adata1.X = adata1.layers['counts'].copy()\n",
    "adata2.X = adata2.layers['counts'].copy()\n",
    "adata1.write_h5ad(adata1_out)\n",
    "adata2.write_h5ad(adata2_out)"
   ]
  }
 ],
 "metadata": {
  "kernelspec": {
   "display_name": "Python 3.8.13 (conda)",
   "language": "python",
   "name": "python3"
  },
  "language_info": {
   "codemirror_mode": {
    "name": "ipython",
    "version": 3
   },
   "file_extension": ".py",
   "mimetype": "text/x-python",
   "name": "python",
   "nbconvert_exporter": "python",
   "pygments_lexer": "ipython3",
   "version": "3.8.17"
  },
  "papermill": {
   "default_parameters": {},
   "duration": 35.020328,
   "end_time": "2022-08-31T08:47:54.620534",
   "environment_variables": {},
   "exception": true,
   "input_path": "workflow/notebooks/prepare_data.ipynb",
   "output_path": "results/stereo_mouse_embryo/cells:5000/node_noise:5-edge_noise:0/prepare_data.ipynb",
   "parameters": {
    "adata1_out": "results/stereo_mouse_embryo/cells:5000/node_noise:5-edge_noise:0/adata1.h5ad",
    "adata2_out": "results/stereo_mouse_embryo/cells:5000/node_noise:5-edge_noise:0/adata2.h5ad",
    "cells": 5000,
    "edge_noise": 0,
    "input": "results/stereo_mouse_embryo/original/spatial_dataset.h5ad",
    "node_noise": 5
   },
   "start_time": "2022-08-31T08:47:19.600206",
   "version": "2.3.4"
  },
  "vscode": {
   "interpreter": {
    "hash": "5d2fce7de3ecd6a4439b82378154cca459b1796e7b54299a12e280fb56a9eaf9"
   }
  }
 },
 "nbformat": 4,
 "nbformat_minor": 5
}
