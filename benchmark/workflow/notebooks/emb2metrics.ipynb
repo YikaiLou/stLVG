{
 "cells": [
  {
   "cell_type": "code",
   "execution_count": null,
   "metadata": {},
   "outputs": [],
   "source": [
    "import os\n",
    "import yaml\n",
    "from pathlib import Path\n",
    "\n",
    "import torch\n",
    "import numpy as np\n",
    "import pandas as pd\n",
    "import scanpy as sc\n",
    "import scipy.sparse as sp\n",
    "import matplotlib.pyplot as plt\n",
    "from sklearn.metrics import f1_score, confusion_matrix, ConfusionMatrixDisplay\n",
    "\n",
    "\n",
    "from scSLAT.model import spatial_match\n",
    "from scSLAT.metrics import global_score, euclidean_dis, rotation_angle\n",
    "from scSLAT.viz import match_3D_multi, matching_2d, Sankey"
   ]
  },
  {
   "cell_type": "code",
   "execution_count": null,
   "metadata": {
    "tags": [
     "parameters"
    ]
   },
   "outputs": [],
   "source": [
    "# parameter cells\n",
    "adata1_file = ''\n",
    "adata2_file = ''\n",
    "emb0_file = ''\n",
    "emb1_file = ''\n",
    "metric_file = ''\n",
    "matching_file = ''\n",
    "ground_truth = 60"
   ]
  },
  {
   "cell_type": "code",
   "execution_count": null,
   "metadata": {},
   "outputs": [],
   "source": [
    "adata1 = sc.read_h5ad(adata1_file)\n",
    "adata2 = sc.read_h5ad(adata2_file)"
   ]
  },
  {
   "cell_type": "markdown",
   "metadata": {},
   "source": [
    "# Matching"
   ]
  },
  {
   "cell_type": "code",
   "execution_count": null,
   "metadata": {},
   "outputs": [],
   "source": [
    "if 'paste' in metric_file.lower():\n",
    "    matching = np.loadtxt(matching_file, dtype=int)\n",
    "else:\n",
    "    if 'harmony' in metric_file.lower():\n",
    "        embd0 = adata1.obsm['X_harmony']\n",
    "        embd1 = adata2.obsm['X_harmony']\n",
    "    elif 'pca' in metric_file.lower():\n",
    "        embd0 = adata1.obsm['X_pca']\n",
    "        embd1 = adata2.obsm['X_pca']\n",
    "    else:\n",
    "        embd0 = np.loadtxt(emb0_file, delimiter=',')\n",
    "        embd1 = np.loadtxt(emb1_file, delimiter=',')\n",
    "        embd0 = torch.from_numpy(embd0)\n",
    "        embd1 = torch.from_numpy(embd1)\n",
    "\n",
    "    best, index, distance = spatial_match([embd0, embd1])\n",
    "    matching = np.array([range(index.shape[0]), best])"
   ]
  },
  {
   "cell_type": "code",
   "execution_count": null,
   "metadata": {},
   "outputs": [],
   "source": [
    "if 'visium' and 'DLPFC' in adata1_file:\n",
    "    biology_meta = 'cell_type'\n",
    "    topology_meta = 'layer_guess'\n",
    "    spot_size = 5\n",
    "elif 'merfish' and 'hypothalamic' in adata1_file:\n",
    "    biology_meta = 'Cell_class'\n",
    "    topology_meta = 'region'\n",
    "    spot_size = 15\n",
    "elif 'stereo' and 'embryo' in adata1_file:\n",
    "    biology_meta = 'annotation'\n",
    "    topology_meta = 'region'\n",
    "    spot_size = 5\n",
    "elif 'brain' in adata1_file:\n",
    "    biology_meta = 'layer_guess'\n",
    "    topology_meta = 'layer_guess'\n",
    "    spot_size = 5"
   ]
  },
  {
   "cell_type": "code",
   "execution_count": null,
   "metadata": {},
   "outputs": [],
   "source": [
    "out_dir = Path(os.path.dirname(metric_file))\n",
    "sc.settings.figdir = out_dir"
   ]
  },
  {
   "cell_type": "markdown",
   "metadata": {},
   "source": [
    "# Metics"
   ]
  },
  {
   "cell_type": "code",
   "execution_count": null,
   "metadata": {},
   "outputs": [],
   "source": [
    "# angle\n",
    "data = np.ones(matching.shape[1])\n",
    "matching_sparse = sp.coo_matrix((data, (matching[1], matching[0])), shape=(adata1.n_obs, adata2.n_obs))\n",
    "angle = rotation_angle(adata1.obsm['spatial'], adata2.obsm['spatial'], matching_sparse.toarray(), ground_truth=ground_truth)"
   ]
  },
  {
   "cell_type": "code",
   "execution_count": null,
   "metadata": {},
   "outputs": [],
   "source": [
    "overall_score = global_score([adata1,adata2], matching.T, biology_meta, topology_meta)\n",
    "celltype_score = global_score([adata1,adata2], matching.T, biology_meta=biology_meta)\n",
    "region_score = global_score([adata1,adata2], matching.T, topology_meta=topology_meta)"
   ]
  },
  {
   "cell_type": "code",
   "execution_count": null,
   "metadata": {},
   "outputs": [],
   "source": [
    "eud = euclidean_dis(adata1, adata2, matching)"
   ]
  },
  {
   "cell_type": "markdown",
   "metadata": {},
   "source": [
    "## F1"
   ]
  },
  {
   "cell_type": "code",
   "execution_count": null,
   "metadata": {},
   "outputs": [],
   "source": [
    "if 'visium' and 'DLPFC' in adata1_file:\n",
    "    adata2.obs[biology_meta] = 'celltype_' + adata2.obs[biology_meta].astype('str')\n",
    "    adata1.obs[biology_meta] = 'celltype_' + adata1.obs[biology_meta].astype('str')\n",
    "\n",
    "adata2.obs['target_celltype'] = adata1.obs.iloc[matching[1,:],:][biology_meta].to_list()\n",
    "adata2.obs['target_region'] = adata1.obs.iloc[matching[1,:],:][topology_meta].to_list()\n",
    "adata2.obs['target_celltype_region'] = adata2.obs['target_celltype'].astype('str') + '_' + adata2.obs['target_region'].astype('str')\n",
    "adata2.obs['celltype_region'] = adata2.obs[biology_meta].astype('str') + '_' + adata2.obs[topology_meta].astype('str')"
   ]
  },
  {
   "cell_type": "code",
   "execution_count": null,
   "metadata": {},
   "outputs": [],
   "source": [
    "celltype_macro_f1 = f1_score(adata2.obs[biology_meta], adata2.obs['target_celltype'], average='macro')\n",
    "celltype_micro_f1 = f1_score(adata2.obs[biology_meta], adata2.obs['target_celltype'], average='micro')\n",
    "\n",
    "region_macro_f1 = f1_score(adata2.obs[topology_meta], adata2.obs['target_region'], average='macro')\n",
    "region_micro_f1 = f1_score(adata2.obs[topology_meta], adata2.obs['target_region'], average='micro')\n",
    "\n",
    "total_macro_f1 = f1_score(adata2.obs['celltype_region'], adata2.obs['target_celltype_region'], average='macro')\n",
    "total_micro_f1 = f1_score(adata2.obs['celltype_region'], adata2.obs['target_celltype_region'], average='micro')"
   ]
  },
  {
   "cell_type": "markdown",
   "metadata": {},
   "source": [
    "## Confusion Matrix"
   ]
  },
  {
   "cell_type": "code",
   "execution_count": null,
   "metadata": {},
   "outputs": [],
   "source": [
    "celltype_label = adata2.obs[biology_meta].unique().tolist()\n",
    "region_label = adata2.obs[topology_meta].unique().tolist()\n",
    "celltype_region_label = adata2.obs['celltype_region'].unique().tolist()"
   ]
  },
  {
   "cell_type": "code",
   "execution_count": null,
   "metadata": {},
   "outputs": [],
   "source": [
    "plt.figure(figsize=(len(celltype_region_label) / 2, len(celltype_region_label) /2))\n",
    "cm = confusion_matrix(adata2.obs['celltype_region'], adata2.obs['target_celltype_region'], labels=celltype_region_label)\n",
    "disp = ConfusionMatrixDisplay(confusion_matrix=cm, display_labels=celltype_region_label)\n",
    "disp.plot(cmap='Reds', xticks_rotation='vertical', ax=plt.gca())\n",
    "plt.savefig(out_dir / 'joint_confusing_matrix.png', dpi=300, bbox_inches='tight')"
   ]
  },
  {
   "cell_type": "code",
   "execution_count": null,
   "metadata": {},
   "outputs": [],
   "source": [
    "plt.figure(figsize=(len(celltype_label) / 2, len(celltype_label) /2))\n",
    "cm = confusion_matrix(adata2.obs[biology_meta], adata2.obs['target_celltype'], labels=celltype_label)\n",
    "disp = ConfusionMatrixDisplay(confusion_matrix=cm, display_labels=celltype_label)\n",
    "disp.plot(cmap='Reds', xticks_rotation='vertical', ax=plt.gca())\n",
    "plt.savefig(out_dir / 'celltype_confusing_matrix.png', dpi=300, bbox_inches='tight')"
   ]
  },
  {
   "cell_type": "code",
   "execution_count": null,
   "metadata": {},
   "outputs": [],
   "source": [
    "plt.figure(figsize=(len(region_label) / 2, len(region_label) /2))\n",
    "cm = confusion_matrix(adata2.obs[topology_meta], adata2.obs['target_region'], labels=region_label)\n",
    "disp = ConfusionMatrixDisplay(confusion_matrix=cm, display_labels=region_label)\n",
    "disp.plot(cmap='Reds', xticks_rotation='vertical', ax=plt.gca())\n",
    "plt.savefig(out_dir / 'region_confusing_matrix.png', dpi=300, bbox_inches='tight')"
   ]
  },
  {
   "cell_type": "markdown",
   "metadata": {},
   "source": [
    "## Ground truth (perturb)"
   ]
  },
  {
   "cell_type": "code",
   "execution_count": null,
   "metadata": {},
   "outputs": [],
   "source": [
    "if 'perturb' in matching_file:\n",
    "    match_ratio =  (matching[0] == matching[1]).sum() / len(matching[0])\n",
    "else:\n",
    "    match_ratio = -1"
   ]
  },
  {
   "attachments": {},
   "cell_type": "markdown",
   "metadata": {},
   "source": [
    "# Save"
   ]
  },
  {
   "cell_type": "code",
   "execution_count": null,
   "metadata": {},
   "outputs": [],
   "source": [
    "# run time\n",
    "if 'harmony' in metric_file.lower():\n",
    "    run_time = adata1.uns['harmony_time']\n",
    "elif 'pca' in metric_file.lower():\n",
    "    run_time = adata1.uns['pca_time']\n",
    "else:\n",
    "    with open(out_dir / 'run_time.yaml', 'r') as stream:\n",
    "        run_time_dic = yaml.safe_load(stream)\n",
    "    run_time = run_time_dic['run_time']"
   ]
  },
  {
   "cell_type": "code",
   "execution_count": null,
   "metadata": {},
   "outputs": [],
   "source": [
    "metric_dic = {}\n",
    "metric_dic['global_score'] = overall_score\n",
    "metric_dic['celltype_score'] = celltype_score\n",
    "metric_dic['region_score'] = region_score\n",
    "metric_dic['euclidean_dis'] = eud\n",
    "metric_dic['angle_delta'] = float(angle)\n",
    "metric_dic['run_time'] = run_time\n",
    "\n",
    "metric_dic['celltype_macro_f1'] = float(celltype_macro_f1)\n",
    "metric_dic['celltype_micro_f1'] = float(celltype_micro_f1)\n",
    "metric_dic['region_macro_f1'] = float(region_macro_f1)\n",
    "metric_dic['region_micro_f1'] = float(region_micro_f1)\n",
    "metric_dic['total_macro_f1'] = float(total_macro_f1)\n",
    "metric_dic['total_micro_f1'] = float(total_micro_f1)\n",
    "\n",
    "metric_dic['match_ratio'] = float(match_ratio)\n",
    "\n",
    "with open(metric_file, \"w\") as f:\n",
    "    yaml.dump(metric_dic, f)\n",
    "\n",
    "if 'paste' not in metric_file.lower():\n",
    "    np.savetxt(matching_file, matching, fmt='%i')"
   ]
  },
  {
   "attachments": {},
   "cell_type": "markdown",
   "metadata": {},
   "source": [
    "# Plot"
   ]
  },
  {
   "cell_type": "code",
   "execution_count": null,
   "metadata": {},
   "outputs": [],
   "source": [
    "adata1_df = pd.DataFrame({'index':range(adata1.shape[0]),\n",
    "                          'x': adata1.obsm['spatial'][:,0],\n",
    "                          'y': adata1.obsm['spatial'][:,1],\n",
    "                          'celltype':adata1.obs[biology_meta],\n",
    "                          'region':adata1.obs[topology_meta]})\n",
    "adata2_df = pd.DataFrame({'index':range(adata2.shape[0]),\n",
    "                          'x': adata2.obsm['spatial'][:,0],\n",
    "                          'y': adata2.obsm['spatial'][:,1],\n",
    "                          'celltype':adata2.obs[biology_meta],\n",
    "                          'region':adata2.obs[topology_meta]})"
   ]
  },
  {
   "cell_type": "code",
   "execution_count": null,
   "metadata": {},
   "outputs": [],
   "source": [
    "multi_align = match_3D_multi(adata1_df, adata2_df, matching, meta='celltype',\n",
    "                             scale_coordinate=True, subsample_size=300, exchange_xy=False)\n",
    "\n",
    "multi_align.draw_3D(size=[7, 8], line_width=1, point_size=[0.8,0.8], \n",
    "                    hide_axis=True, show_error=True, save=out_dir / 'match_by_celltype.pdf')"
   ]
  },
  {
   "cell_type": "code",
   "execution_count": null,
   "metadata": {},
   "outputs": [],
   "source": [
    "multi_align = match_3D_multi(adata1_df, adata2_df, matching, meta='region',\n",
    "                             scale_coordinate=True, subsample_size=300, exchange_xy=False)\n",
    "\n",
    "multi_align.draw_3D(size=[7, 8], line_width=1, point_size=[0.8,0.8], \n",
    "                    hide_axis=True, show_error=True, save=out_dir / 'match_by_region.pdf')"
   ]
  },
  {
   "cell_type": "code",
   "execution_count": null,
   "metadata": {},
   "outputs": [],
   "source": [
    "# 2D matching plot\n",
    "matching_2d(matching, adata1, adata2, biology_meta, topology_meta, spot_size, save='matching_2d.pdf')"
   ]
  },
  {
   "cell_type": "code",
   "execution_count": null,
   "metadata": {},
   "outputs": [],
   "source": [
    "# Sankey plot\n",
    "adata2.obs['target_celltype'] = adata1.obs.iloc[matching[1,:],:][biology_meta].to_list()\n",
    "adata2.obs['target_region'] = adata1.obs.iloc[matching[1,:],:][topology_meta].to_list()\n",
    "## by cell type\n",
    "matching_table = adata2.obs.groupby([biology_meta,'target_celltype']).size().unstack(fill_value=0)\n",
    "matching_table.index = adata2.obs[biology_meta].unique()\n",
    "matching_table.columns = adata2.obs['target_celltype'].unique()\n",
    "print(matching_table)\n",
    "\n",
    "Sankey(matching_table, prefix=['Slide1', 'Slide2'], save_name=str(out_dir/'celltype_sankey'),\n",
    "       format='svg', width=1000, height=1000)\n",
    "\n",
    "## by region\n",
    "matching_table = adata2.obs.groupby([topology_meta,'target_region']).size().unstack(fill_value=0)\n",
    "matching_table.index = adata2.obs[topology_meta].unique()\n",
    "matching_table.columns = adata2.obs['target_region'].unique()\n",
    "print(matching_table)\n",
    "\n",
    "Sankey(matching_table, prefix=['Slide1', 'Slide2'], save_name=str(out_dir/'region_sankey'),\n",
    "       format='svg', width=1000, height=1000)\n"
   ]
  },
  {
   "cell_type": "markdown",
   "metadata": {},
   "source": [
    "# Reverse matching"
   ]
  },
  {
   "cell_type": "code",
   "execution_count": null,
   "metadata": {},
   "outputs": [],
   "source": [
    "if 'paste' in metric_file.lower():\n",
    "    matching_2d(matching, adata1, adata2, biology_meta, topology_meta, spot_size, save='matching_rev_2d.pdf')\n",
    "else:\n",
    "    best_rev, index_rev, _ = spatial_match([embd1, embd0], adatas=[adata2, adata1], reorder=False)\n",
    "    matching_rev = np.array([range(index_rev.shape[0]), best_rev])\n",
    "    matching_2d(matching_rev, adata2, adata1, biology_meta, topology_meta, spot_size, save='matching_rev_2d.pdf')"
   ]
  }
 ],
 "metadata": {
  "kernelspec": {
   "display_name": "Python 3.8.13",
   "language": "python",
   "name": "python3"
  },
  "language_info": {
   "codemirror_mode": {
    "name": "ipython",
    "version": 3
   },
   "file_extension": ".py",
   "mimetype": "text/x-python",
   "name": "python",
   "nbconvert_exporter": "python",
   "pygments_lexer": "ipython3",
   "version": "3.8.17"
  },
  "vscode": {
   "interpreter": {
    "hash": "621de31e2976773a15ee61e49bb83d1434b38154b833d4f115dd1fe48a7a7636"
   }
  }
 },
 "nbformat": 4,
 "nbformat_minor": 4
}
