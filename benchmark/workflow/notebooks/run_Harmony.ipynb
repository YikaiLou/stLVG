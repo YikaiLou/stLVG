{
 "cells": [
  {
   "cell_type": "code",
   "execution_count": null,
   "metadata": {},
   "outputs": [],
   "source": [
    "import os\n",
    "import yaml\n",
    "from pathlib import Path\n",
    "\n",
    "import numpy as np\n",
    "import scanpy as sc\n"
   ]
  },
  {
   "cell_type": "code",
   "execution_count": null,
   "metadata": {
    "tags": [
     "parameters"
    ]
   },
   "outputs": [],
   "source": [
    "# parameters cell\n",
    "adata1_file = \"\"      # input : adata file\n",
    "adata2_file = \"\"      # input : adata with noise\n",
    "emb0_file = \"\"        # output: cca embedding + pca of adata\n",
    "emb1_file = \"\"        # output: cca embedding + pca of adata noise"
   ]
  },
  {
   "cell_type": "code",
   "execution_count": null,
   "metadata": {},
   "outputs": [],
   "source": [
    "adata1 = sc.read_h5ad(adata1_file)\n",
    "adata2 = sc.read_h5ad(adata2_file)"
   ]
  },
  {
   "cell_type": "markdown",
   "metadata": {},
   "source": [
    "# Save"
   ]
  },
  {
   "cell_type": "code",
   "execution_count": null,
   "metadata": {},
   "outputs": [],
   "source": [
    "embd0 = adata1.obsm['X_harmony']\n",
    "embd1 = adata2.obsm['X_harmony']"
   ]
  },
  {
   "cell_type": "code",
   "execution_count": null,
   "metadata": {},
   "outputs": [],
   "source": [
    "time_dic = {}\n",
    "time_dic['run_time'] = adata1.uns['harmony_time'] \n",
    "\n",
    "out_dir = Path(os.path.dirname(emb0_file))\n",
    "with open(out_dir / 'run_time.yaml', \"w\") as f:\n",
    "    yaml.dump(time_dic, f)"
   ]
  },
  {
   "cell_type": "code",
   "execution_count": null,
   "metadata": {},
   "outputs": [],
   "source": [
    "np.savetxt(emb0_file, embd0, delimiter=',')\n",
    "np.savetxt(emb1_file, embd1, delimiter=',')"
   ]
  }
 ],
 "metadata": {
  "kernelspec": {
   "display_name": "Python 3",
   "language": "python",
   "name": "python3"
  },
  "language_info": {
   "name": "python",
   "version": "3.8.17"
  },
  "orig_nbformat": 4
 },
 "nbformat": 4,
 "nbformat_minor": 2
}
