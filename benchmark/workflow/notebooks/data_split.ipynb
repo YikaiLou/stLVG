{
 "cells": [
  {
   "cell_type": "code",
   "execution_count": null,
   "metadata": {},
   "outputs": [],
   "source": [
    "import math\n",
    "import numpy as np\n",
    "import pandas as pd\n",
    "import scanpy as sc\n",
    "\n",
    "from scSLAT.utils import global_seed\n",
    "from scSLAT.model import scanpy_workflow\n",
    "from scSLAT.model.prematch import rotate_via_numpy"
   ]
  },
  {
   "cell_type": "code",
   "execution_count": null,
   "metadata": {
    "tags": [
     "parameters"
    ]
   },
   "outputs": [],
   "source": [
    "# parameters cell\n",
    "adata1_file = \"\"\n",
    "ratio = 0.5  # ratio of two parts\n",
    "adata1_out = \"\"\n",
    "adata2_out = \"\"\n",
    "seed = -1"
   ]
  },
  {
   "cell_type": "code",
   "execution_count": null,
   "metadata": {},
   "outputs": [],
   "source": [
    "adata = sc.read_h5ad(adata1_file)"
   ]
  },
  {
   "cell_type": "code",
   "execution_count": null,
   "metadata": {},
   "outputs": [],
   "source": [
    "# random split adata into two parts\n",
    "global_seed(seed=seed)\n",
    "random_index = np.random.permutation(adata.shape[0])\n",
    "boundary = adata.shape[0] * ratio\n",
    "adata_part0 = adata[random_index[:math.floor(boundary)],:]\n",
    "adata_part1 = adata[random_index[math.floor(boundary):],:]"
   ]
  },
  {
   "cell_type": "code",
   "execution_count": null,
   "metadata": {},
   "outputs": [],
   "source": [
    "if adata_part0.shape[0] < adata_part1.shape[0]:\n",
    "    adata_part0, adata_part1 = adata_part1, adata_part0"
   ]
  },
  {
   "cell_type": "code",
   "execution_count": 1,
   "metadata": {},
   "outputs": [],
   "source": [
    "# save\n",
    "adata_part0.write_h5ad(adata1_out)\n",
    "adata_part1.write_h5ad(adata2_out)"
   ]
  }
 ],
 "metadata": {
  "kernelspec": {
   "display_name": "Python 3",
   "language": "python",
   "name": "python3"
  },
  "language_info": {
   "codemirror_mode": {
    "name": "ipython",
    "version": 3
   },
   "file_extension": ".py",
   "mimetype": "text/x-python",
   "name": "python",
   "nbconvert_exporter": "python",
   "pygments_lexer": "ipython3",
   "version": "3.8.17"
  },
  "orig_nbformat": 4,
  "vscode": {
   "interpreter": {
    "hash": "88786030ea59a7c96004ff67a345d53abff4d58eacfbb401c324cb520462373b"
   }
  }
 },
 "nbformat": 4,
 "nbformat_minor": 2
}
