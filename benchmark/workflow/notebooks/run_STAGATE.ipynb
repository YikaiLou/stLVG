{
 "cells": [
  {
   "cell_type": "code",
   "execution_count": null,
   "metadata": {},
   "outputs": [],
   "source": [
    "import os\n",
    "import yaml\n",
    "import time\n",
    "import random\n",
    "from pathlib import Path\n",
    "\n",
    "import pandas as pd\n",
    "import numpy as np\n",
    "import torch\n",
    "import scanpy as sc\n",
    "\n",
    "import STAGATE_pyG"
   ]
  },
  {
   "cell_type": "code",
   "execution_count": null,
   "metadata": {},
   "outputs": [],
   "source": [
    "sc.set_figure_params(dpi_save=200, dpi=150)\n",
    "os.environ[\"CUDA_VISIBLE_DEVICES\"] = \"1\""
   ]
  },
  {
   "cell_type": "code",
   "execution_count": null,
   "metadata": {},
   "outputs": [],
   "source": [
    "print(torch.cuda.device_count())"
   ]
  },
  {
   "cell_type": "code",
   "execution_count": null,
   "metadata": {
    "tags": [
     "parameters"
    ]
   },
   "outputs": [],
   "source": [
    "# parameter cell\n",
    "adata1_file = ''\n",
    "adata2_file = ''\n",
    "emb0_file = ''\n",
    "emb1_file = ''"
   ]
  },
  {
   "cell_type": "code",
   "execution_count": null,
   "metadata": {},
   "outputs": [],
   "source": [
    "def global_seed(seed: int):\n",
    "    r\"\"\"\n",
    "    Set seed\n",
    "    \n",
    "    Parameters\n",
    "    ----------\n",
    "    seed \n",
    "        int\n",
    "    \"\"\"\n",
    "    seed = seed if seed != -1 else torch.seed()\n",
    "    if seed > 2**32 - 1:\n",
    "        seed = seed >> 32\n",
    "\n",
    "    random.seed(seed)\n",
    "    np.random.seed(seed)\n",
    "    print(f\"Global seed set to {seed}.\")"
   ]
  },
  {
   "cell_type": "code",
   "execution_count": null,
   "metadata": {},
   "outputs": [],
   "source": [
    "adata1 = sc.read_h5ad(adata1_file)\n",
    "adata2 = sc.read_h5ad(adata2_file)\n",
    "adata1.obs.index = adata1.obs.index + '_1'\n",
    "adata2.obs.index = adata2.obs.index + '_2'\n",
    "adata1.obs['dataset'] = 'dataset1'\n",
    "adata2.obs['dataset'] = 'dataset2'"
   ]
  },
  {
   "attachments": {},
   "cell_type": "markdown",
   "metadata": {},
   "source": [
    "# Run STAGATE"
   ]
  },
  {
   "cell_type": "code",
   "execution_count": null,
   "metadata": {},
   "outputs": [],
   "source": [
    "start = time.time()\n",
    "STAGATE_pyG.Cal_Spatial_Net(adata1, k_cutoff=20, model='KNN')\n",
    "STAGATE_pyG.Cal_Spatial_Net(adata2, k_cutoff=20, model='KNN')\n",
    "adata = sc.concat([adata1, adata2])\n",
    "adata.uns['Spatial_Net'] = pd.concat([adata1.uns['Spatial_Net'], adata2.uns['Spatial_Net']])\n",
    "# sc.pp.highly_variable_genes(adata, flavor=\"seurat_v3\", n_top_genes=3000)\n",
    "# sc.pp.normalize_total(adata, target_sum=1e4)\n",
    "# sc.pp.log1p(adata)\n",
    "\n",
    "sc.pp.normalize_total(adata, target_sum=1e4)\n",
    "sc.pp.log1p(adata)\n",
    "sc.pp.highly_variable_genes(adata)\n",
    "adata = STAGATE_pyG.train_STAGATE(adata)\n",
    "run_time = str(time.time() - start)\n",
    "print('Runtime: ' + run_time)\n"
   ]
  },
  {
   "attachments": {},
   "cell_type": "markdown",
   "metadata": {},
   "source": [
    "# Save"
   ]
  },
  {
   "cell_type": "code",
   "execution_count": null,
   "metadata": {},
   "outputs": [],
   "source": [
    "embd0 = adata[adata.obs['dataset']=='dataset1'].obsm['STAGATE']\n",
    "embd1 = adata[adata.obs['dataset']=='dataset2'].obsm['STAGATE']"
   ]
  },
  {
   "cell_type": "code",
   "execution_count": null,
   "metadata": {},
   "outputs": [],
   "source": [
    "time_dic = {}\n",
    "time_dic['run_time'] = run_time\n",
    "\n",
    "out_dir = Path(os.path.dirname(emb0_file))\n",
    "with open(out_dir / 'run_time.yaml', \"w\") as f:\n",
    "    yaml.dump(time_dic, f)"
   ]
  },
  {
   "cell_type": "code",
   "execution_count": null,
   "metadata": {},
   "outputs": [],
   "source": [
    "np.savetxt(emb0_file, embd0, delimiter=',')\n",
    "np.savetxt(emb1_file, embd1, delimiter=',')"
   ]
  }
 ],
 "metadata": {
  "kernelspec": {
   "display_name": "Python 3.8.13",
   "language": "python",
   "name": "python3"
  },
  "language_info": {
   "codemirror_mode": {
    "name": "ipython",
    "version": 3
   },
   "file_extension": ".py",
   "mimetype": "text/x-python",
   "name": "python",
   "nbconvert_exporter": "python",
   "pygments_lexer": "ipython3",
   "version": "3.8.13 | packaged by conda-forge | (default, Mar 25 2022, 06:04:10) \n[GCC 10.3.0]"
  },
  "vscode": {
   "interpreter": {
    "hash": "621de31e2976773a15ee61e49bb83d1434b38154b833d4f115dd1fe48a7a7636"
   }
  }
 },
 "nbformat": 4,
 "nbformat_minor": 4
}
