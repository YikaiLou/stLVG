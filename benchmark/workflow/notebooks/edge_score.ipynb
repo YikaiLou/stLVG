{
 "cells": [
  {
   "cell_type": "code",
   "execution_count": null,
   "metadata": {},
   "outputs": [],
   "source": [
    "import os\n",
    "import yaml\n",
    "import _pickle as cPickle\n",
    "\n",
    "import numpy as np\n",
    "from scSLAT.metrics import edge_score"
   ]
  },
  {
   "cell_type": "code",
   "execution_count": null,
   "metadata": {
    "tags": [
     "parameters"
    ]
   },
   "outputs": [],
   "source": [
    "graphs_file = ''\n",
    "metrics_input = ''\n",
    "matching_file = ''\n",
    "metrics_output = ''"
   ]
  },
  {
   "cell_type": "code",
   "execution_count": null,
   "metadata": {},
   "outputs": [],
   "source": [
    "if 'one2many' not in matching_file:\n",
    "    # read matching\n",
    "    matching = np.loadtxt(matching_file, dtype=np.int64)\n",
    "    # read graphs\n",
    "    with open(graphs_file, \"rb\") as g:\n",
    "        edges = cPickle.load(g)\n",
    "    # compute edge score\n",
    "    edge_score = edge_score(edges, matching)\n",
    "else:\n",
    "    edge_score = -1"
   ]
  },
  {
   "cell_type": "code",
   "execution_count": null,
   "metadata": {},
   "outputs": [],
   "source": [
    "with open(metrics_input) as f:\n",
    "    metric_dic = yaml.load(f, Loader=yaml.FullLoader)\n",
    "\n",
    "metric_dic['edge_score'] = edge_score\n",
    "with open(metrics_output, \"w\") as f:\n",
    "    yaml.dump(metric_dic, f)"
   ]
  }
 ],
 "metadata": {
  "kernelspec": {
   "display_name": "Python 3",
   "language": "python",
   "name": "python3"
  },
  "language_info": {
   "codemirror_mode": {
    "name": "ipython",
    "version": 3
   },
   "file_extension": ".py",
   "mimetype": "text/x-python",
   "name": "python",
   "nbconvert_exporter": "python",
   "pygments_lexer": "ipython3",
   "version": "3.8.13 | packaged by conda-forge | (default, Mar 25 2022, 06:04:18) \n[GCC 10.3.0]"
  },
  "orig_nbformat": 4,
  "vscode": {
   "interpreter": {
    "hash": "88786030ea59a7c96004ff67a345d53abff4d58eacfbb401c324cb520462373b"
   }
  }
 },
 "nbformat": 4,
 "nbformat_minor": 2
}
