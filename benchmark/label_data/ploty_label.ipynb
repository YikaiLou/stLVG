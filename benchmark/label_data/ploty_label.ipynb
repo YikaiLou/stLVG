{
 "cells": [
  {
   "cell_type": "markdown",
   "id": "873a152f-1426-4194-a052-649a13313b58",
   "metadata": {},
   "source": [
    "# Manually label regions in spatial dataset"
   ]
  },
  {
   "cell_type": "code",
   "execution_count": null,
   "id": "314446b4-c268-4c3b-baf3-f88b0d32dcc7",
   "metadata": {},
   "outputs": [],
   "source": [
    "import matplotlib.pyplot as plt\n",
    "import scanpy as sc\n",
    "import cv2\n",
    "\n",
    "import plotly.graph_objs as go\n",
    "import plotly.offline as py\n",
    "\n",
    "import pandas as pd\n",
    "import numpy as np\n",
    "from ipywidgets import interactive, HBox, VBox"
   ]
  },
  {
   "cell_type": "code",
   "execution_count": null,
   "id": "5f530883-2ba0-4f8b-b5c4-ef4a0ac20c4e",
   "metadata": {},
   "outputs": [],
   "source": [
    "adata = sc.read_h5ad('../../../data/stereo_seq/counts/E11.5/count_E11.5_E1S1.MOSTA.h5ad')\n",
    "# adata = sc.pp.subsample(adata, n_obs=500, copy=True)"
   ]
  },
  {
   "cell_type": "code",
   "execution_count": null,
   "id": "f316869f-a2f4-45ee-9b58-009c6ff9c49d",
   "metadata": {},
   "outputs": [],
   "source": [
    "plt.rcParams[\"figure.figsize\"] = [8, 8]\n",
    "png = sc.pl.spatial(adata, spot_size=3, color='annotation',return_fig=True)"
   ]
  },
  {
   "cell_type": "code",
   "execution_count": null,
   "id": "464cbe3f",
   "metadata": {},
   "outputs": [],
   "source": [
    "def var2color(df:pd.DataFrame,col:str)->pd.DataFrame:\n",
    "    r\"\"\"\n",
    "    Random add color by the class of a column in dataframe\n",
    "    \"\"\"\n",
    "    import random\n",
    "    celltypes = list(set(df[col]))\n",
    "    c_map = {}\n",
    "    color = [\"#\"+''.join([random.choice('0123456789ABCDEF') for j in range(6)]) for i in range(len(celltypes))]\n",
    "    for i, celltype in enumerate(celltypes):\n",
    "        c_map[celltype] = color[i]\n",
    "    df['color'] = [*map(c_map.get, df[col])]\n",
    "    return df"
   ]
  },
  {
   "cell_type": "code",
   "execution_count": null,
   "id": "6bfaa3a6-ded0-45d7-b7e6-e28c90acd8bc",
   "metadata": {
    "tags": []
   },
   "outputs": [],
   "source": [
    "# Create dataframe of cell location and cell type\n",
    "df = pd.DataFrame({'cell_name':'adata1-' + adata.obs.index, \n",
    "                    'x':adata.obsm['spatial'][:,0],\n",
    "                    'y':adata.obsm['spatial'][:,1],\n",
    "                    'cell_type':adata.obs['annotation']})\n",
    "df = var2color(df,'cell_type')"
   ]
  },
  {
   "cell_type": "code",
   "execution_count": null,
   "id": "2f24d77c-d7dd-4292-b663-c5511695f358",
   "metadata": {
    "collapsed": true,
    "jupyter": {
     "outputs_hidden": true
    },
    "tags": []
   },
   "outputs": [],
   "source": [
    "df"
   ]
  },
  {
   "cell_type": "code",
   "execution_count": null,
   "id": "cf0961dd-51b1-4bda-bd85-a91a3dd29b8e",
   "metadata": {},
   "outputs": [],
   "source": [
    "# ref https://stackoverflow.com/questions/58102719/creating-pandas-dataframe-from-the-data-points-selected-on-the-plotly-scatter-pl \n",
    "py.init_notebook_mode()\n",
    "f = go.FigureWidget([go.Scatter(y=df['x'], x=df['y'], mode='markers', marker_color=df['color'], marker_size=3)])\n",
    "f.update_layout(\n",
    "    autosize=False,\n",
    "    width=1200,\n",
    "    height=1200)\n",
    "\n",
    "scatter = f.data[0]\n",
    "scatter.x = df['x']\n",
    "scatter.y = df['y']\n",
    "scatter.marker.opacity = 0.5\n",
    "\n",
    "t = go.FigureWidget([go.Table(\n",
    "    header=dict(values=['cell_name','x','y','cell_type'],\n",
    "                fill = dict(color='#C2D4FF'),\n",
    "                align = ['left'] * 5),\n",
    "    cells=dict(values=[df[col] for col in ['cell_name','x','y','cell_type']],\n",
    "               fill = dict(color='#F5F8FF'),\n",
    "               align = ['left'] * 5))])\n",
    "\n",
    "_select_i = {}\n",
    "_i = 0\n",
    "\n",
    "def selection_fn(trace,points,selector):\n",
    "    global _i\n",
    "    global _select_i\n",
    "    _i = int(_i)\n",
    "    print(f'Selecting {str(_i)}th region')\n",
    "    # print(points.point_inds)\n",
    "    t.data[0].cells.values = [df.iloc[points.point_inds][col] for col in ['cell_name','x','y','cell_type']]\n",
    "    _select_i['select_'+str(_i)] = df.iloc[points.point_inds]\n",
    "    _i += 1\n",
    "\n",
    "scatter.on_selection(selection_fn)\n",
    "\n",
    "# Put everything together\n",
    "VBox((f,t))"
   ]
  },
  {
   "cell_type": "code",
   "execution_count": null,
   "id": "90885db5",
   "metadata": {},
   "outputs": [],
   "source": [
    "df_dics = t.to_dict()\n",
    "df_dics.keys()\n"
   ]
  },
  {
   "cell_type": "code",
   "execution_count": null,
   "id": "4aebe3a7",
   "metadata": {},
   "outputs": [],
   "source": [
    "df_dics['data']"
   ]
  },
  {
   "cell_type": "markdown",
   "id": "a7139942",
   "metadata": {},
   "source": [
    "# Napari"
   ]
  },
  {
   "cell_type": "code",
   "execution_count": 1,
   "id": "ee4bc9cd",
   "metadata": {},
   "outputs": [],
   "source": [
    "import napari\n",
    "from skimage import data\n",
    "import squidpy as sq"
   ]
  },
  {
   "cell_type": "code",
   "execution_count": 2,
   "id": "2f08fe41",
   "metadata": {},
   "outputs": [],
   "source": [
    "adata = sq.datasets.visium_hne_adata()\n",
    "img = sq.datasets.visium_hne_image()"
   ]
  },
  {
   "cell_type": "code",
   "execution_count": 3,
   "id": "2e83b068",
   "metadata": {},
   "outputs": [
    {
     "name": "stderr",
     "output_type": "stream",
     "text": [
      "WARNING: could not connect to display \n",
      "WARNING: Could not load the Qt platform plugin \"xcb\" in \"\" even though it was found.\n",
      "WARNING: This application failed to start because no Qt platform plugin could be initialized. Reinstalling the application may fix this problem.\n",
      "\n",
      "Available platform plugins are: eglfs, minimal, minimalegl, offscreen, vnc, webgl, xcb.\n",
      "\n"
     ]
    },
    {
     "ename": "",
     "evalue": "",
     "output_type": "error",
     "traceback": [
      "\u001b[1;31mCanceled future for execute_request message before replies were done"
     ]
    },
    {
     "ename": "",
     "evalue": "",
     "output_type": "error",
     "traceback": [
      "\u001b[1;31mThe Kernel crashed while executing code in the the current cell or a previous cell. Please review the code in the cell(s) to identify a possible cause of the failure. Click <a href='https://aka.ms/vscodeJupyterKernelCrash'>here</a> for more info. View Jupyter <a href='command:jupyter.viewOutput'>log</a> for further details."
     ]
    }
   ],
   "source": [
    "viewer = img.interactive(adata)"
   ]
  }
 ],
 "metadata": {
  "kernelspec": {
   "display_name": "slat",
   "language": "python",
   "name": "slat"
  },
  "language_info": {
   "codemirror_mode": {
    "name": "ipython",
    "version": 3
   },
   "file_extension": ".py",
   "mimetype": "text/x-python",
   "name": "python",
   "nbconvert_exporter": "python",
   "pygments_lexer": "ipython3",
   "version": "3.8.13"
  },
  "vscode": {
   "interpreter": {
    "hash": "e88d4ce70f12d241c2bda44e8ec04ccd79792a1b35dce484f9d5894b45953cd3"
   }
  }
 },
 "nbformat": 4,
 "nbformat_minor": 5
}
