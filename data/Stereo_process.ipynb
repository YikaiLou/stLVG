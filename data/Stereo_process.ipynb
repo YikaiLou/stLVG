{
 "cells": [
  {
   "cell_type": "code",
   "execution_count": null,
   "metadata": {},
   "outputs": [],
   "source": [
    "import os\n",
    "\n",
    "import scanpy as sc\n",
    "import numpy as np\n",
    "from anndata import AnnData\n",
    "\n",
    "from scSLAT.utils import norm_to_raw"
   ]
  },
  {
   "cell_type": "code",
   "execution_count": null,
   "metadata": {},
   "outputs": [],
   "source": [
    "source = '../data/stereo_seq/raw/E15.5/'\n",
    "target = '../data/stereo_seq/counts/E15.5/'\n",
    "os.makedirs(target, exist_ok=True)"
   ]
  },
  {
   "cell_type": "code",
   "execution_count": null,
   "metadata": {},
   "outputs": [],
   "source": [
    "for file in os.listdir(source):\n",
    "    if 'count_' + file in os.listdir(target):\n",
    "        print(f'target file count_{file} has existed, skip')\n",
    "    elif 'h5ad' not in file:\n",
    "        print(f'{file} is not valid h5ad file, skip')\n",
    "    else:\n",
    "        print(f'start trans {file}...')\n",
    "        file_path = os.path.join(source,file)\n",
    "        adata = sc.read_h5ad(file_path)\n",
    "        adata = norm_to_raw(adata,'total_counts')\n",
    "        adata.obs = adata.obs.iloc[:,0:6]\n",
    "        adata.var = adata.var.iloc[:,0:6]\n",
    "        del adata.layers['count'] \n",
    "        adata.write_h5ad(os.path.join(target, 'count_'+file))\n",
    "        print('done')\n",
    "print('Finish all.')"
   ]
  }
 ],
 "metadata": {
  "kernelspec": {
   "display_name": "Python 3",
   "language": "python",
   "name": "python3"
  },
  "language_info": {
   "codemirror_mode": {
    "name": "ipython",
    "version": 3
   },
   "file_extension": ".py",
   "mimetype": "text/x-python",
   "name": "python",
   "nbconvert_exporter": "python",
   "pygments_lexer": "ipython3",
   "version": "3.8.13"
  },
  "vscode": {
   "interpreter": {
    "hash": "88786030ea59a7c96004ff67a345d53abff4d58eacfbb401c324cb520462373b"
   }
  }
 },
 "nbformat": 4,
 "nbformat_minor": 4
}
