{
 "cells": [
  {
   "cell_type": "code",
   "execution_count": 1,
   "metadata": {},
   "outputs": [],
   "source": [
    "import time\n",
    "from pathlib import Path\n",
    "from operator import itemgetter\n",
    "\n",
    "import scanpy as sc\n",
    "import numpy as np\n",
    "import pandas as pd\n",
    "from sklearn.metrics import adjusted_rand_score, normalized_mutual_info_score\n",
    "from scipy.sparse import csr_matrix\n",
    "from joblib import Parallel, delayed\n",
    "import os\n",
    "import torch\n",
    "\n",
    "import scSLAT\n",
    "from scSLAT.model import Cal_Spatial_Net, load_anndatas, run_SLAT_mlp_AGF, spatial_match, run_SLAT, compute_lisi_for_adata, run_SLAT_AGF_contrast\n",
    "from scSLAT.viz import match_3D_multi, hist, Sankey, build_3D\n",
    "from scSLAT.metrics import region_statistics"
   ]
  },
  {
   "cell_type": "code",
   "execution_count": 2,
   "metadata": {},
   "outputs": [
    {
     "data": {
      "text/plain": [
       "AnnData object with n_obs × n_vars = 11529 × 351\n",
       "    obs: 'z', 'uniqueID', 'x_global', 'y_global', 'embryo', 'Estage', 'x_global_affine', 'y_global_affine', 'UMAP1', 'UMAP2', 'cluster', 'celltype_mapped_refined', 'celltype_mapped', 'annotation'\n",
       "    var: 'gene_names'\n",
       "    uns: 'Spatial_Net', 'annotation_colors'\n",
       "    obsm: 'SLAT', 'banksy', 'spatial', 'stLVG'"
      ]
     },
     "execution_count": 2,
     "metadata": {},
     "output_type": "execute_result"
    }
   ],
   "source": [
    "adata_1=sc.read_h5ad('D:\\ppppaper\\data\\Result\\seqFISH.h5ad')\n",
    "adata_1.var_names_make_unique(join=\"++\")\n",
    "adata_1"
   ]
  },
  {
   "cell_type": "code",
   "execution_count": 3,
   "metadata": {},
   "outputs": [
    {
     "data": {
      "text/plain": [
       "AnnData object with n_obs × n_vars = 5031 × 25568\n",
       "    obs: 'n_genes_by_counts', 'log1p_n_genes_by_counts', 'total_counts', 'log1p_total_counts', 'annotation', 'Regulon - 2310011J03Rik', 'Regulon - 5730507C01Rik', 'Regulon - Alx1', 'Regulon - Alx3', 'Regulon - Alx4', 'Regulon - Ar', 'Regulon - Arid3a', 'Regulon - Arid3c', 'Regulon - Arnt2', 'Regulon - Arx', 'Regulon - Ascl1', 'Regulon - Atf1', 'Regulon - Atf4', 'Regulon - Atf5', 'Regulon - Atf6', 'Regulon - Atf7', 'Regulon - Bach1', 'Regulon - Bach2', 'Regulon - Barhl1', 'Regulon - Barx1', 'Regulon - Batf', 'Regulon - Bcl11a', 'Regulon - Bcl3', 'Regulon - Bcl6', 'Regulon - Bcl6b', 'Regulon - Bclaf1', 'Regulon - Bdp1', 'Regulon - Bhlha15', 'Regulon - Bhlhe22', 'Regulon - Bhlhe23', 'Regulon - Bhlhe41', 'Regulon - Bmyc', 'Regulon - Boll', 'Regulon - Bptf', 'Regulon - Brca1', 'Regulon - Brf1', 'Regulon - Brf2', 'Regulon - Bsx', 'Regulon - Cdx1', 'Regulon - Cdx2', 'Regulon - Cebpa', 'Regulon - Cebpz', 'Regulon - Chd1', 'Regulon - Clock', 'Regulon - Creb1', 'Regulon - Creb3', 'Regulon - Creb3l1', 'Regulon - Creb3l2', 'Regulon - Crebl2', 'Regulon - Crem', 'Regulon - Crx', 'Regulon - Ctcf', 'Regulon - Cux1', 'Regulon - D3Ertd254e', 'Regulon - Dbx1', 'Regulon - Dbx2', 'Regulon - Ddit3', 'Regulon - Deaf1', 'Regulon - Dlx1', 'Regulon - Dlx2', 'Regulon - Dlx4', 'Regulon - Dlx5', 'Regulon - Dlx6', 'Regulon - Dmbx1', 'Regulon - Dmrt2', 'Regulon - Dmrt3', 'Regulon - Duxf3', 'Regulon - E2f1', 'Regulon - E2f2', 'Regulon - E2f3', 'Regulon - E2f4', 'Regulon - E2f5', 'Regulon - E2f6', 'Regulon - E2f7', 'Regulon - E2f8', 'Regulon - E4f1', 'Regulon - Ebf1', 'Regulon - Egr2', 'Regulon - Egr3', 'Regulon - Egr4', 'Regulon - Elf1', 'Regulon - Elf2', 'Regulon - Elk1', 'Regulon - Elk3', 'Regulon - Emx1', 'Regulon - Emx2', 'Regulon - En1', 'Regulon - En2', 'Regulon - Ep300', 'Regulon - Erf', 'Regulon - Erg', 'Regulon - Esrra', 'Regulon - Esrrb', 'Regulon - Esrrg', 'Regulon - Ets1', 'Regulon - Ets2', 'Regulon - Etv1', 'Regulon - Etv2', 'Regulon - Etv3', 'Regulon - Etv4', 'Regulon - Etv5', 'Regulon - Etv6', 'Regulon - Evx1', 'Regulon - Evx2', 'Regulon - Ezh2', 'Regulon - Fev', 'Regulon - Figla', 'Regulon - Fli1', 'Regulon - Fos', 'Regulon - Fosb', 'Regulon - Foxa1', 'Regulon - Foxa2', 'Regulon - Foxa3', 'Regulon - Foxc2', 'Regulon - Foxd1', 'Regulon - Foxd3', 'Regulon - Foxf1', 'Regulon - Foxf2', 'Regulon - Foxg1', 'Regulon - Foxj1', 'Regulon - Foxj2', 'Regulon - Foxj3', 'Regulon - Foxk1', 'Regulon - Foxk2', 'Regulon - Foxn3', 'Regulon - Foxn4', 'Regulon - Foxo1', 'Regulon - Foxo4', 'Regulon - Foxp2', 'Regulon - Foxp3', 'Regulon - Foxp4', 'Regulon - Gabpa', 'Regulon - Gata1', 'Regulon - Gata2', 'Regulon - Gata3', 'Regulon - Gata4', 'Regulon - Gata5', 'Regulon - Gata6', 'Regulon - Gbx1', 'Regulon - Gbx2', 'Regulon - Gcm1', 'Regulon - Gcm2', 'Regulon - Gfi1', 'Regulon - Gli1', 'Regulon - Glis2', 'Regulon - Gm14391', 'Regulon - Gm14406', 'Regulon - Gm14440', 'Regulon - Gm14443', 'Regulon - Gm28047', 'Regulon - Gm28308', 'Regulon - Gm4881', 'Regulon - Gmeb1', 'Regulon - Grhl1', 'Regulon - Grhl2', 'Regulon - Gsc2', 'Regulon - Gsx1', 'Regulon - Gtf2f1', 'Regulon - Gtf3c2', 'Regulon - Hcfc1', 'Regulon - Hdac2', 'Regulon - Hes1', 'Regulon - Hic1', 'Regulon - Hic2', 'Regulon - Hivep2', 'Regulon - Hlf', 'Regulon - Hmgb2', 'Regulon - Hmgn3', 'Regulon - Hmx1', 'Regulon - Hmx2', 'Regulon - Hnf1b', 'Regulon - Hnf4a', 'Regulon - Hnf4g', 'Regulon - Hoxa10', 'Regulon - Hoxa3', 'Regulon - Hoxa5', 'Regulon - Hoxa7', 'Regulon - Hoxa9', 'Regulon - Hoxb1', 'Regulon - Hoxb3', 'Regulon - Hoxb4', 'Regulon - Hoxb5', 'Regulon - Hoxb6', 'Regulon - Hoxb7', 'Regulon - Hoxb8', 'Regulon - Hoxb9', 'Regulon - Hoxc10', 'Regulon - Hoxc11', 'Regulon - Hoxc13', 'Regulon - Hoxc4', 'Regulon - Hoxc5', 'Regulon - Hoxc6', 'Regulon - Hoxc8', 'Regulon - Hoxc9', 'Regulon - Hoxd1', 'Regulon - Hoxd3', 'Regulon - Hoxd8', 'Regulon - Hoxd9', 'Regulon - Hsf1', 'Regulon - Hsf4', 'Regulon - Irf1', 'Regulon - Irf2', 'Regulon - Irf3', 'Regulon - Irf4', 'Regulon - Irf5', 'Regulon - Irf6', 'Regulon - Irf7', 'Regulon - Irf8', 'Regulon - Irf9', 'Regulon - Irx1', 'Regulon - Jdp2', 'Regulon - Jun', 'Regulon - Jund', 'Regulon - Kat2a', 'Regulon - Kdm4b', 'Regulon - Kdm5a', 'Regulon - Kdm5b', 'Regulon - Kdm7a', 'Regulon - Klf1', 'Regulon - Klf11', 'Regulon - Klf14', 'Regulon - Klf15', 'Regulon - Klf3', 'Regulon - Klf4', 'Regulon - Klf5', 'Regulon - Klf6', 'Regulon - Klf8', 'Regulon - Klf9', 'Regulon - Lbx1', 'Regulon - Lbx2', 'Regulon - Lef1', 'Regulon - Lhx1', 'Regulon - Lhx2', 'Regulon - Lhx4', 'Regulon - Lhx5', 'Regulon - Lhx6', 'Regulon - Lhx8', 'Regulon - Lhx9', 'Regulon - Lmo2', 'Regulon - Lmx1a', 'Regulon - Lmx1b', 'Regulon - Maf', 'Regulon - Mafa', 'Regulon - Mafb', 'Regulon - Mafg', 'Regulon - Mafk', 'Regulon - Max', 'Regulon - Maz', 'Regulon - Mbd1', 'Regulon - Mbnl2', 'Regulon - Mecom', 'Regulon - Mef2a', 'Regulon - Mef2b', 'Regulon - Mef2c', 'Regulon - Mef2d', 'Regulon - Meis1', 'Regulon - Meox1', 'Regulon - Meox2', 'Regulon - Mesp2', 'Regulon - Mga', 'Regulon - Mitf', 'Regulon - Mlx', 'Regulon - Mnx1', 'Regulon - Msx2', 'Regulon - Msx3', 'Regulon - Mxi1', 'Regulon - Myb', 'Regulon - Mybl1', 'Regulon - Myc', 'Regulon - Mycn', 'Regulon - Myf5', 'Regulon - Myf6', 'Regulon - Myod1', 'Regulon - Myog', 'Regulon - Nelfe', 'Regulon - Neurod1', 'Regulon - Nfatc1', 'Regulon - Nfatc4', 'Regulon - Nfe2', 'Regulon - Nfe2l1', 'Regulon - Nfe2l2', 'Regulon - Nfic', 'Regulon - Nfkb1', 'Regulon - Nfya', 'Regulon - Nfyb', 'Regulon - Nhlh2', 'Regulon - Nkx1-1', 'Regulon - Nkx2-1', 'Regulon - Nkx3-1', 'Regulon - Nkx3-2', 'Regulon - Noto', 'Regulon - Npdc1', 'Regulon - Nr1d1', 'Regulon - Nr1h3', 'Regulon - Nr2c1', 'Regulon - Nr2c2', 'Regulon - Nr2f6', 'Regulon - Nr3c1', 'Regulon - Nr5a2', 'Regulon - Nrf1', 'Regulon - Onecut2', 'Regulon - Onecut3', 'Regulon - Osr2', 'Regulon - Otp', 'Regulon - Ovol1', 'Regulon - Ovol2', 'Regulon - Patz1', 'Regulon - Pax2', 'Regulon - Pax3', 'Regulon - Pax4', 'Regulon - Pax5', 'Regulon - Pax6', 'Regulon - Pbx1', 'Regulon - Pbx2', 'Regulon - Pbx3', 'Regulon - Pck2', 'Regulon - Phf8', 'Regulon - Phox2a', 'Regulon - Phox2b', 'Regulon - Plagl1', 'Regulon - Pml', 'Regulon - Pole3', 'Regulon - Polr3a', 'Regulon - Polr3g', 'Regulon - Pou2f1', 'Regulon - Pou2f3', 'Regulon - Pou3f1', 'Regulon - Pou3f2', 'Regulon - Pou3f3', 'Regulon - Pou3f4', 'Regulon - Pou4f1', 'Regulon - Pou4f2', 'Regulon - Pou4f3', 'Regulon - Pou5f1', 'Regulon - Pou6f1', 'Regulon - Ppara', 'Regulon - Pparg', 'Regulon - Ppargc1a', 'Regulon - Prrx1', 'Regulon - Prrx2', 'Regulon - Rad21', 'Regulon - Rara', 'Regulon - Rarg', 'Regulon - Rax', 'Regulon - Rbbp5', 'Regulon - Rcor1', 'Regulon - Rel', 'Regulon - Rela', 'Regulon - Rest', 'Regulon - Rfx1', 'Regulon - Rfx3', 'Regulon - Rfx4', 'Regulon - Rfxank', 'Regulon - Rfxap', 'Regulon - Rorc', 'Regulon - Rxra', 'Regulon - Rxrb', 'Regulon - Rxrg', 'Regulon - Setbp1', 'Regulon - Setdb1', 'Regulon - Shox2', 'Regulon - Sin3a', 'Regulon - Six1', 'Regulon - Six3', 'Regulon - Six4', 'Regulon - Smad5', 'Regulon - Smarca4', 'Regulon - Smarcc2', 'Regulon - Smc3', 'Regulon - Smok2a', 'Regulon - Smok2b', 'Regulon - Sox10', 'Regulon - Sox11', 'Regulon - Sox12', 'Regulon - Sox13', 'Regulon - Sox15', 'Regulon - Sox17', 'Regulon - Sox18', 'Regulon - Sox2', 'Regulon - Sox21', 'Regulon - Sox3', 'Regulon - Sox4', 'Regulon - Sox5', 'Regulon - Sox6', 'Regulon - Sox7', 'Regulon - Sox8', 'Regulon - Sp1', 'Regulon - Sp2', 'Regulon - Sp3', 'Regulon - Sp4', 'Regulon - Spdef', 'Regulon - Spi1', 'Regulon - Spib', 'Regulon - Srebf1', 'Regulon - Srebf2', 'Regulon - Srf', 'Regulon - Stat1', 'Regulon - Stat3', 'Regulon - Stat4', 'Regulon - Stat5a', 'Regulon - Stat5b', 'Regulon - Supt20', 'Regulon - Suz12', 'Regulon - T', 'Regulon - Taf1', 'Regulon - Taf7', 'Regulon - Tal1', 'Regulon - Tbl1xr1', 'Regulon - Tbpl2', 'Regulon - Tbx10', 'Regulon - Tbx21', 'Regulon - Tbx22', 'Regulon - Tbx4', 'Regulon - Tbx5', 'Regulon - Tbx6', 'Regulon - Tcf21', 'Regulon - Tcf3', 'Regulon - Tcf7', 'Regulon - Tcf7l1', 'Regulon - Tcf7l2', 'Regulon - Tead2', 'Regulon - Tead3', 'Regulon - Tead4', 'Regulon - Tef', 'Regulon - Tfdp1', 'Regulon - Tfdp2', 'Regulon - Tfeb', 'Regulon - Tfec', 'Regulon - Tff3', 'Regulon - Tgif1', 'Regulon - Tgif2', 'Regulon - Thra', 'Regulon - Thrb', 'Regulon - Tlx1', 'Regulon - Tlx2', 'Regulon - Tlx3', 'Regulon - Trim28', 'Regulon - Trp53', 'Regulon - Twist1', 'Regulon - Twist2', 'Regulon - Ubtf', 'Regulon - Uncx', 'Regulon - Usf2', 'Regulon - Vax1', 'Regulon - Vsx1', 'Regulon - Vsx2', 'Regulon - Wrnip1', 'Regulon - Wt1', 'Regulon - Yeats4', 'Regulon - Yy1', 'Regulon - Zbtb14', 'Regulon - Zbtb17', 'Regulon - Zbtb2', 'Regulon - Zbtb33', 'Regulon - Zbtb37', 'Regulon - Zbtb49', 'Regulon - Zbtb7a', 'Regulon - Zeb1', 'Regulon - Zfhx2', 'Regulon - Zfhx3', 'Regulon - Zfp110', 'Regulon - Zfp119b', 'Regulon - Zfp143', 'Regulon - Zfp148', 'Regulon - Zfp184', 'Regulon - Zfp239', 'Regulon - Zfp263', 'Regulon - Zfp281', 'Regulon - Zfp362', 'Regulon - Zfp369', 'Regulon - Zfp407', 'Regulon - Zfp433', 'Regulon - Zfp523', 'Regulon - Zfp560', 'Regulon - Zfp583', 'Regulon - Zfp595', 'Regulon - Zfp639', 'Regulon - Zfp64', 'Regulon - Zfp683', 'Regulon - Zfp708', 'Regulon - Zfp729b', 'Regulon - Zfp740', 'Regulon - Zfp771', 'Regulon - Zfp846', 'Regulon - Zfp872', 'Regulon - Zfp930', 'Regulon - Zfp932', 'Regulon - Zfp950', 'Regulon - Zfp960', 'Regulon - Zfp97', 'Regulon - Zfp973', 'Regulon - Zfx', 'Regulon - Zkscan7', 'Regulon - Zmiz1', 'Regulon - Zscan20', 'Regulon - Zscan22', 'Regulon - Zscan4c', 'Regulon - Zscan5b', 'Module_1', 'Module_2', 'Module_3', 'Module_4', 'Module_5', 'Module_6', 'Module_7', 'Module_8', 'Module_9', 'Module_10', 'Module_11', 'Module_12', 'Module_13', 'Module_14', 'Module_15', 'Module_16', 'Module_17', 'Module_18', 'Module_19', 'Module_20', 'Module_21', 'Module_22', 'Module_23', 'Module_24', 'Module_25', 'Module_26', 'Module_27', 'Module_28', 'Module_29', 'Module_30', 'pct_counts_in_top_50_genes', 'pct_counts_in_top_100_genes', 'pct_counts_in_top_200_genes', 'pct_counts_in_top_500_genes'\n",
       "    var: 'n_cells', 'n_cells_by_counts', 'mean_counts', 'log1p_mean_counts', 'pct_dropout_by_counts', 'total_counts', 'log1p_total_counts', 'Regulon - Aco1', 'Regulon - Adarb1', 'Regulon - Anxa1', 'Regulon - Arid3c', 'Regulon - Atf2', 'Regulon - Atf6b', 'Regulon - Atoh1', 'Regulon - Barhl1', 'Regulon - Barhl2', 'Regulon - Bclaf1', 'Regulon - Bdp1', 'Regulon - Borcs8', 'Regulon - Brca1', 'Regulon - Cebpd', 'Regulon - Creb3l2', 'Regulon - Cux1', 'Regulon - Dbp', 'Regulon - Dbx1', 'Regulon - Dlx1', 'Regulon - Dlx2', 'Regulon - Dlx5', 'Regulon - Dlx6', 'Regulon - E2f1', 'Regulon - E2f2', 'Regulon - E2f3', 'Regulon - E2f4', 'Regulon - E2f5', 'Regulon - E2f6', 'Regulon - E2f7', 'Regulon - E2f8', 'Regulon - Elf1', 'Regulon - Elf2', 'Regulon - Elk3', 'Regulon - Emx1', 'Regulon - Emx2', 'Regulon - Esrra', 'Regulon - Esrrg', 'Regulon - Ets1', 'Regulon - Ets2', 'Regulon - Etv5', 'Regulon - Evx1', 'Regulon - Evx2', 'Regulon - Ezh2', 'Regulon - Fli1', 'Regulon - Foxa1', 'Regulon - Foxa2', 'Regulon - Foxf2', 'Regulon - Foxl2', 'Regulon - Foxn4', 'Regulon - Foxp1', 'Regulon - Gabpa', 'Regulon - Gata1', 'Regulon - Gata2', 'Regulon - Gata3', 'Regulon - Gata5', 'Regulon - Gli1', 'Regulon - Grhpr', 'Regulon - Gsx1', 'Regulon - Gsx2', 'Regulon - Gtf2b', 'Regulon - Gtf2f1', 'Regulon - Gtf2ird1', 'Regulon - Gtf3c2', 'Regulon - Hdac2', 'Regulon - Hdx', 'Regulon - Hes1', 'Regulon - Hesx1', 'Regulon - Hinfp', 'Regulon - Hmg20a', 'Regulon - Hmgb3', 'Regulon - Hoxa2', 'Regulon - Hoxa3', 'Regulon - Hoxa4', 'Regulon - Hoxa5', 'Regulon - Hoxa9', 'Regulon - Hoxb1', 'Regulon - Hoxb4', 'Regulon - Hoxb5', 'Regulon - Hoxb6', 'Regulon - Hoxb8', 'Regulon - Hoxb9', 'Regulon - Hoxc5', 'Regulon - Hoxc9', 'Regulon - Hoxd9', 'Regulon - Hsf2', 'Regulon - Ikzf2', 'Regulon - Irf5', 'Regulon - Irf8', 'Regulon - Irx1', 'Regulon - Irx4', 'Regulon - Irx6', 'Regulon - Isl2', 'Regulon - Jdp2', 'Regulon - Jun', 'Regulon - Junb', 'Regulon - Jund', 'Regulon - Kat2a', 'Regulon - Kdm5a', 'Regulon - Kdm5b', 'Regulon - Klf15', 'Regulon - Klf2', 'Regulon - Klf6', 'Regulon - Kmt2a', 'Regulon - Lbx1', 'Regulon - Lef1', 'Regulon - Lhx1', 'Regulon - Lhx2', 'Regulon - Lhx3', 'Regulon - Lhx4', 'Regulon - Lhx5', 'Regulon - Lhx6', 'Regulon - Lhx8', 'Regulon - Lhx9', 'Regulon - Lmx1a', 'Regulon - Lmx1b', 'Regulon - Maff', 'Regulon - Mafg', 'Regulon - Mbd1', 'Regulon - Mef2d', 'Regulon - Myb', 'Regulon - Mybl1', 'Regulon - Mycn', 'Regulon - Myog', 'Regulon - Nanos1', 'Regulon - Neurod1', 'Regulon - Nfat5', 'Regulon - Nfatc4', 'Regulon - Nfe2', 'Regulon - Nfe2l1', 'Regulon - Nfe2l2', 'Regulon - Nfia', 'Regulon - Nfil3', 'Regulon - Nfkb1', 'Regulon - Nhlh1', 'Regulon - Nkx1-1', 'Regulon - Nkx1-2', 'Regulon - Nkx6-1', 'Regulon - Nkx6-2', 'Regulon - Nkx6-3', 'Regulon - Nr2c1', 'Regulon - Nr2e1', 'Regulon - Nr2f6', 'Regulon - Onecut1', 'Regulon - Onecut2', 'Regulon - Onecut3', 'Regulon - Otp', 'Regulon - Otx1', 'Regulon - Otx2', 'Regulon - Patz1', 'Regulon - Pax5', 'Regulon - Pax8', 'Regulon - Phf8', 'Regulon - Phox2a', 'Regulon - Phox2b', 'Regulon - Pitx3', 'Regulon - Pole4', 'Regulon - Pou2f1', 'Regulon - Pou3f1', 'Regulon - Pou3f2', 'Regulon - Pou3f3', 'Regulon - Pou3f4', 'Regulon - Pou4f3', 'Regulon - Pou6f1', 'Regulon - Ppara', 'Regulon - Prdx5', 'Regulon - Prrxl1', 'Regulon - Rax', 'Regulon - Rela', 'Regulon - Rfx1', 'Regulon - Rfx2', 'Regulon - Rfx3', 'Regulon - Rora', 'Regulon - Sall2', 'Regulon - Sf1', 'Regulon - Shox2', 'Regulon - Six1', 'Regulon - Six2', 'Regulon - Smad1', 'Regulon - Smad5', 'Regulon - Smarca4', 'Regulon - Sox11', 'Regulon - Sox12', 'Regulon - Sox14', 'Regulon - Sox17', 'Regulon - Sox4', 'Regulon - Sox9', 'Regulon - Sp1', 'Regulon - Sp2', 'Regulon - Spats2', 'Regulon - Spi1', 'Regulon - Srebf1', 'Regulon - Srebf2', 'Regulon - Srf', 'Regulon - Stat6', 'Regulon - Taf1', 'Regulon - Tagln2', 'Regulon - Tal1', 'Regulon - Tbp', 'Regulon - Tbr1', 'Regulon - Tbx19', 'Regulon - Tcf7', 'Regulon - Tcf7l1', 'Regulon - Tcf7l2', 'Regulon - Tead1', 'Regulon - Tfap4', 'Regulon - Tfdp1', 'Regulon - Tfdp2', 'Regulon - Thap11', 'Regulon - Tia1', 'Regulon - Tlx1', 'Regulon - Tlx3', 'Regulon - Trim28', 'Regulon - Twist1', 'Regulon - Ubp1', 'Regulon - Uncx', 'Regulon - Usf1', 'Regulon - Usf2', 'Regulon - Vax1', 'Regulon - Vsx1', 'Regulon - Wt1', 'Regulon - Xbp1', 'Regulon - Yy1', 'Regulon - Zbtb14', 'Regulon - Zbtb33', 'Regulon - Zeb1', 'Regulon - Zfhx2', 'Regulon - Zfp143', 'Regulon - Zfp362', 'Regulon - Zfp740', 'Regulon - Zfp770', 'Regulon - Zic2', 'Regulon - Zmat4'\n",
       "    uns: 'Spatial_Net', 'annotation_colors'\n",
       "    obsm: 'SLAT', 'banksy', 'spatial', 'stLVG'\n",
       "    varm: 'PCs'\n",
       "    layers: 'count'"
      ]
     },
     "execution_count": 3,
     "metadata": {},
     "output_type": "execute_result"
    }
   ],
   "source": [
    "adata_2=sc.read_h5ad('D:\\ppppaper\\data\\Result\\Stereo_seq.h5ad')\n",
    "adata_2.var_names_make_unique(join=\"++\")\n",
    "adata_2"
   ]
  },
  {
   "cell_type": "code",
   "execution_count": 17,
   "metadata": {},
   "outputs": [],
   "source": [
    "embd0 = adata_1.obsm['stLVG']\n",
    "embd1 = adata_2.obsm['stLVG']"
   ]
  },
  {
   "cell_type": "code",
   "execution_count": 18,
   "metadata": {},
   "outputs": [],
   "source": [
    "best, index, distance = spatial_match([embd0, embd1], adatas=[adata_1, adata_2])\n",
    "adata1_df = pd.DataFrame({'index': range(embd0.shape[0]),\n",
    "                        'x': adata_1.obsm['spatial'][:,0],\n",
    "                        'y': adata_1.obsm['spatial'][:,1],\n",
    "                        'celltype': adata_1.obs['annotation']})\n",
    "adata2_df = pd.DataFrame({'index': range(embd1.shape[0]),\n",
    "                        'x': adata_2.obsm['spatial'][:,0],\n",
    "                        'y': adata_2.obsm['spatial'][:,1],\n",
    "                        'celltype': adata_2.obs['annotation']})\n",
    "\n",
    "matching = np.array([range(index.shape[0]), best])\n",
    "best_match = distance[:,0]"
   ]
  },
  {
   "cell_type": "code",
   "execution_count": 19,
   "metadata": {},
   "outputs": [],
   "source": [
    "adata2_df['target_celltype'] = adata1_df.iloc[matching[1,:],:]['celltype'].to_list()\n",
    "matching_table = adata2_df.groupby(['celltype','target_celltype']).size().unstack(fill_value=0)"
   ]
  },
  {
   "cell_type": "code",
   "execution_count": 20,
   "metadata": {},
   "outputs": [],
   "source": [
    "# import pandas as pd\n",
    "# import plotly.graph_objects as go\n",
    "# from typing import Optional, List\n",
    "\n",
    "# def Sankey(matching_table: pd.DataFrame,\n",
    "#            filter_num: Optional[int] = 50,\n",
    "#            color: Optional[List[str]] = 'red',\n",
    "#            title: Optional[str] = '',\n",
    "#            prefix: Optional[List[str]] = ['E11.5', 'E12.5'],\n",
    "#            layout: Optional[List[int]] = [1300, 900],\n",
    "#            font_size: Optional[float] = 15,\n",
    "#            font_color: Optional[str] = 'Black',\n",
    "#            save_name: Optional[str] = None,\n",
    "#            format: Optional[str] = 'png',\n",
    "#            width: Optional[int] = 1200,\n",
    "#            height: Optional[int] = 1000,\n",
    "#            return_fig: Optional[bool] = False\n",
    "#            ) -> None:\n",
    "#     source, target, value = [], [], []\n",
    "#     label_ref = [a + f'_{prefix[0]}' for a in matching_table.columns.to_list()]\n",
    "#     label_query = [a + f'_{prefix[1]}' for a in matching_table.index.to_list()]\n",
    "#     label_all = label_query + label_ref\n",
    "#     label2index = dict(zip(label_all, list(range(len(label_all)))))\n",
    "\n",
    "#     for i, query in enumerate(label_query):\n",
    "#         for j, ref in enumerate(label_ref):\n",
    "#             if int(matching_table.iloc[i, j]) > filter_num:\n",
    "#                 target.append(label2index[query])\n",
    "#                 source.append(label2index[ref])\n",
    "#                 value.append(int(matching_table.iloc[i, j]))\n",
    "\n",
    "#     fig = go.Figure(\n",
    "#         data=[go.Sankey(\n",
    "#             node=dict(\n",
    "#                 pad=50,\n",
    "#                 thickness=50,\n",
    "#                 line=dict(color=\"green\", width=0.5),\n",
    "#                 label=[''] * len(label_all),  # 将所有标签设置为空字符串\n",
    "#                 color=color\n",
    "#             ),\n",
    "#             link=dict(\n",
    "#                 source=source,  # indices correspond to labels, eg A1, A2, A1, B1, ...\n",
    "#                 target=target,\n",
    "#                 value=value\n",
    "#             )\n",
    "#         )],\n",
    "#         layout=go.Layout(autosize=False, width=layout[0], height=layout[1])\n",
    "#     )\n",
    "\n",
    "#     fig.update_layout(title_text=title, font_size=font_size, font_color=font_color)\n",
    "#     fig.show()\n",
    "#     if save_name is not None:\n",
    "#         fig.write_image(save_name + f'.{format}', width=width, height=height)\n",
    "#     if return_fig:\n",
    "#         return fig"
   ]
  },
  {
   "cell_type": "code",
   "execution_count": 21,
   "metadata": {},
   "outputs": [
    {
     "data": {
      "application/vnd.plotly.v1+json": {
       "config": {
        "plotlyServerURL": "https://plot.ly"
       },
       "data": [
        {
         "link": {
          "source": [
           27,
           20,
           25,
           23,
           16,
           22,
           13,
           16,
           14,
           20,
           28,
           20,
           26
          ],
          "target": [
           0,
           1,
           1,
           3,
           4,
           4,
           5,
           7,
           8,
           8,
           8,
           9,
           10
          ],
          "value": [
           275,
           1319,
           96,
           210,
           128,
           75,
           337,
           140,
           419,
           245,
           148,
           169,
           66
          ]
         },
         "node": {
          "color": "red",
          "label": [
           "AGM_Stereo-seq",
           "Brain_Stereo-seq",
           "Branchial arch_Stereo-seq",
           "Connective tissue_Stereo-seq",
           "Dermomyotome_Stereo-seq",
           "Heart_Stereo-seq",
           "Liver_Stereo-seq",
           "Mesenchyme_Stereo-seq",
           "Neural crest_Stereo-seq",
           "Notochord_Stereo-seq",
           "Sclerotome_Stereo-seq",
           "Allantois_seqFISH",
           "Anterior somitic tissues_seqFISH",
           "Cardiomyocytes_seqFISH",
           "Cranial mesoderm_seqFISH",
           "Definitive endoderm_seqFISH",
           "Dermomyotome_seqFISH",
           "Endothelium_seqFISH",
           "Erythroid_seqFISH",
           "ExE endoderm_seqFISH",
           "Forebrain/Midbrain/Hindbrain_seqFISH",
           "Haematoendothelial progenitors_seqFISH",
           "Intermediate mesoderm_seqFISH",
           "Mixed mesenchymal mesoderm_seqFISH",
           "NMP_seqFISH",
           "Neural crest_seqFISH",
           "Sclerotome_seqFISH",
           "Splanchnic mesoderm_seqFISH",
           "Surface ectoderm_seqFISH"
          ],
          "line": {
           "color": "green",
           "width": 0.5
          },
          "pad": 50,
          "thickness": 50
         },
         "type": "sankey"
        }
       ],
       "layout": {
        "autosize": false,
        "font": {
         "color": "Black",
         "size": 15
        },
        "height": 900,
        "template": {
         "data": {
          "bar": [
           {
            "error_x": {
             "color": "#2a3f5f"
            },
            "error_y": {
             "color": "#2a3f5f"
            },
            "marker": {
             "line": {
              "color": "#E5ECF6",
              "width": 0.5
             },
             "pattern": {
              "fillmode": "overlay",
              "size": 10,
              "solidity": 0.2
             }
            },
            "type": "bar"
           }
          ],
          "barpolar": [
           {
            "marker": {
             "line": {
              "color": "#E5ECF6",
              "width": 0.5
             },
             "pattern": {
              "fillmode": "overlay",
              "size": 10,
              "solidity": 0.2
             }
            },
            "type": "barpolar"
           }
          ],
          "carpet": [
           {
            "aaxis": {
             "endlinecolor": "#2a3f5f",
             "gridcolor": "white",
             "linecolor": "white",
             "minorgridcolor": "white",
             "startlinecolor": "#2a3f5f"
            },
            "baxis": {
             "endlinecolor": "#2a3f5f",
             "gridcolor": "white",
             "linecolor": "white",
             "minorgridcolor": "white",
             "startlinecolor": "#2a3f5f"
            },
            "type": "carpet"
           }
          ],
          "choropleth": [
           {
            "colorbar": {
             "outlinewidth": 0,
             "ticks": ""
            },
            "type": "choropleth"
           }
          ],
          "contour": [
           {
            "colorbar": {
             "outlinewidth": 0,
             "ticks": ""
            },
            "colorscale": [
             [
              0,
              "#0d0887"
             ],
             [
              0.1111111111111111,
              "#46039f"
             ],
             [
              0.2222222222222222,
              "#7201a8"
             ],
             [
              0.3333333333333333,
              "#9c179e"
             ],
             [
              0.4444444444444444,
              "#bd3786"
             ],
             [
              0.5555555555555556,
              "#d8576b"
             ],
             [
              0.6666666666666666,
              "#ed7953"
             ],
             [
              0.7777777777777778,
              "#fb9f3a"
             ],
             [
              0.8888888888888888,
              "#fdca26"
             ],
             [
              1,
              "#f0f921"
             ]
            ],
            "type": "contour"
           }
          ],
          "contourcarpet": [
           {
            "colorbar": {
             "outlinewidth": 0,
             "ticks": ""
            },
            "type": "contourcarpet"
           }
          ],
          "heatmap": [
           {
            "colorbar": {
             "outlinewidth": 0,
             "ticks": ""
            },
            "colorscale": [
             [
              0,
              "#0d0887"
             ],
             [
              0.1111111111111111,
              "#46039f"
             ],
             [
              0.2222222222222222,
              "#7201a8"
             ],
             [
              0.3333333333333333,
              "#9c179e"
             ],
             [
              0.4444444444444444,
              "#bd3786"
             ],
             [
              0.5555555555555556,
              "#d8576b"
             ],
             [
              0.6666666666666666,
              "#ed7953"
             ],
             [
              0.7777777777777778,
              "#fb9f3a"
             ],
             [
              0.8888888888888888,
              "#fdca26"
             ],
             [
              1,
              "#f0f921"
             ]
            ],
            "type": "heatmap"
           }
          ],
          "heatmapgl": [
           {
            "colorbar": {
             "outlinewidth": 0,
             "ticks": ""
            },
            "colorscale": [
             [
              0,
              "#0d0887"
             ],
             [
              0.1111111111111111,
              "#46039f"
             ],
             [
              0.2222222222222222,
              "#7201a8"
             ],
             [
              0.3333333333333333,
              "#9c179e"
             ],
             [
              0.4444444444444444,
              "#bd3786"
             ],
             [
              0.5555555555555556,
              "#d8576b"
             ],
             [
              0.6666666666666666,
              "#ed7953"
             ],
             [
              0.7777777777777778,
              "#fb9f3a"
             ],
             [
              0.8888888888888888,
              "#fdca26"
             ],
             [
              1,
              "#f0f921"
             ]
            ],
            "type": "heatmapgl"
           }
          ],
          "histogram": [
           {
            "marker": {
             "pattern": {
              "fillmode": "overlay",
              "size": 10,
              "solidity": 0.2
             }
            },
            "type": "histogram"
           }
          ],
          "histogram2d": [
           {
            "colorbar": {
             "outlinewidth": 0,
             "ticks": ""
            },
            "colorscale": [
             [
              0,
              "#0d0887"
             ],
             [
              0.1111111111111111,
              "#46039f"
             ],
             [
              0.2222222222222222,
              "#7201a8"
             ],
             [
              0.3333333333333333,
              "#9c179e"
             ],
             [
              0.4444444444444444,
              "#bd3786"
             ],
             [
              0.5555555555555556,
              "#d8576b"
             ],
             [
              0.6666666666666666,
              "#ed7953"
             ],
             [
              0.7777777777777778,
              "#fb9f3a"
             ],
             [
              0.8888888888888888,
              "#fdca26"
             ],
             [
              1,
              "#f0f921"
             ]
            ],
            "type": "histogram2d"
           }
          ],
          "histogram2dcontour": [
           {
            "colorbar": {
             "outlinewidth": 0,
             "ticks": ""
            },
            "colorscale": [
             [
              0,
              "#0d0887"
             ],
             [
              0.1111111111111111,
              "#46039f"
             ],
             [
              0.2222222222222222,
              "#7201a8"
             ],
             [
              0.3333333333333333,
              "#9c179e"
             ],
             [
              0.4444444444444444,
              "#bd3786"
             ],
             [
              0.5555555555555556,
              "#d8576b"
             ],
             [
              0.6666666666666666,
              "#ed7953"
             ],
             [
              0.7777777777777778,
              "#fb9f3a"
             ],
             [
              0.8888888888888888,
              "#fdca26"
             ],
             [
              1,
              "#f0f921"
             ]
            ],
            "type": "histogram2dcontour"
           }
          ],
          "mesh3d": [
           {
            "colorbar": {
             "outlinewidth": 0,
             "ticks": ""
            },
            "type": "mesh3d"
           }
          ],
          "parcoords": [
           {
            "line": {
             "colorbar": {
              "outlinewidth": 0,
              "ticks": ""
             }
            },
            "type": "parcoords"
           }
          ],
          "pie": [
           {
            "automargin": true,
            "type": "pie"
           }
          ],
          "scatter": [
           {
            "fillpattern": {
             "fillmode": "overlay",
             "size": 10,
             "solidity": 0.2
            },
            "type": "scatter"
           }
          ],
          "scatter3d": [
           {
            "line": {
             "colorbar": {
              "outlinewidth": 0,
              "ticks": ""
             }
            },
            "marker": {
             "colorbar": {
              "outlinewidth": 0,
              "ticks": ""
             }
            },
            "type": "scatter3d"
           }
          ],
          "scattercarpet": [
           {
            "marker": {
             "colorbar": {
              "outlinewidth": 0,
              "ticks": ""
             }
            },
            "type": "scattercarpet"
           }
          ],
          "scattergeo": [
           {
            "marker": {
             "colorbar": {
              "outlinewidth": 0,
              "ticks": ""
             }
            },
            "type": "scattergeo"
           }
          ],
          "scattergl": [
           {
            "marker": {
             "colorbar": {
              "outlinewidth": 0,
              "ticks": ""
             }
            },
            "type": "scattergl"
           }
          ],
          "scattermapbox": [
           {
            "marker": {
             "colorbar": {
              "outlinewidth": 0,
              "ticks": ""
             }
            },
            "type": "scattermapbox"
           }
          ],
          "scatterpolar": [
           {
            "marker": {
             "colorbar": {
              "outlinewidth": 0,
              "ticks": ""
             }
            },
            "type": "scatterpolar"
           }
          ],
          "scatterpolargl": [
           {
            "marker": {
             "colorbar": {
              "outlinewidth": 0,
              "ticks": ""
             }
            },
            "type": "scatterpolargl"
           }
          ],
          "scatterternary": [
           {
            "marker": {
             "colorbar": {
              "outlinewidth": 0,
              "ticks": ""
             }
            },
            "type": "scatterternary"
           }
          ],
          "surface": [
           {
            "colorbar": {
             "outlinewidth": 0,
             "ticks": ""
            },
            "colorscale": [
             [
              0,
              "#0d0887"
             ],
             [
              0.1111111111111111,
              "#46039f"
             ],
             [
              0.2222222222222222,
              "#7201a8"
             ],
             [
              0.3333333333333333,
              "#9c179e"
             ],
             [
              0.4444444444444444,
              "#bd3786"
             ],
             [
              0.5555555555555556,
              "#d8576b"
             ],
             [
              0.6666666666666666,
              "#ed7953"
             ],
             [
              0.7777777777777778,
              "#fb9f3a"
             ],
             [
              0.8888888888888888,
              "#fdca26"
             ],
             [
              1,
              "#f0f921"
             ]
            ],
            "type": "surface"
           }
          ],
          "table": [
           {
            "cells": {
             "fill": {
              "color": "#EBF0F8"
             },
             "line": {
              "color": "white"
             }
            },
            "header": {
             "fill": {
              "color": "#C8D4E3"
             },
             "line": {
              "color": "white"
             }
            },
            "type": "table"
           }
          ]
         },
         "layout": {
          "annotationdefaults": {
           "arrowcolor": "#2a3f5f",
           "arrowhead": 0,
           "arrowwidth": 1
          },
          "autotypenumbers": "strict",
          "coloraxis": {
           "colorbar": {
            "outlinewidth": 0,
            "ticks": ""
           }
          },
          "colorscale": {
           "diverging": [
            [
             0,
             "#8e0152"
            ],
            [
             0.1,
             "#c51b7d"
            ],
            [
             0.2,
             "#de77ae"
            ],
            [
             0.3,
             "#f1b6da"
            ],
            [
             0.4,
             "#fde0ef"
            ],
            [
             0.5,
             "#f7f7f7"
            ],
            [
             0.6,
             "#e6f5d0"
            ],
            [
             0.7,
             "#b8e186"
            ],
            [
             0.8,
             "#7fbc41"
            ],
            [
             0.9,
             "#4d9221"
            ],
            [
             1,
             "#276419"
            ]
           ],
           "sequential": [
            [
             0,
             "#0d0887"
            ],
            [
             0.1111111111111111,
             "#46039f"
            ],
            [
             0.2222222222222222,
             "#7201a8"
            ],
            [
             0.3333333333333333,
             "#9c179e"
            ],
            [
             0.4444444444444444,
             "#bd3786"
            ],
            [
             0.5555555555555556,
             "#d8576b"
            ],
            [
             0.6666666666666666,
             "#ed7953"
            ],
            [
             0.7777777777777778,
             "#fb9f3a"
            ],
            [
             0.8888888888888888,
             "#fdca26"
            ],
            [
             1,
             "#f0f921"
            ]
           ],
           "sequentialminus": [
            [
             0,
             "#0d0887"
            ],
            [
             0.1111111111111111,
             "#46039f"
            ],
            [
             0.2222222222222222,
             "#7201a8"
            ],
            [
             0.3333333333333333,
             "#9c179e"
            ],
            [
             0.4444444444444444,
             "#bd3786"
            ],
            [
             0.5555555555555556,
             "#d8576b"
            ],
            [
             0.6666666666666666,
             "#ed7953"
            ],
            [
             0.7777777777777778,
             "#fb9f3a"
            ],
            [
             0.8888888888888888,
             "#fdca26"
            ],
            [
             1,
             "#f0f921"
            ]
           ]
          },
          "colorway": [
           "#636efa",
           "#EF553B",
           "#00cc96",
           "#ab63fa",
           "#FFA15A",
           "#19d3f3",
           "#FF6692",
           "#B6E880",
           "#FF97FF",
           "#FECB52"
          ],
          "font": {
           "color": "#2a3f5f"
          },
          "geo": {
           "bgcolor": "white",
           "lakecolor": "white",
           "landcolor": "#E5ECF6",
           "showlakes": true,
           "showland": true,
           "subunitcolor": "white"
          },
          "hoverlabel": {
           "align": "left"
          },
          "hovermode": "closest",
          "mapbox": {
           "style": "light"
          },
          "paper_bgcolor": "white",
          "plot_bgcolor": "#E5ECF6",
          "polar": {
           "angularaxis": {
            "gridcolor": "white",
            "linecolor": "white",
            "ticks": ""
           },
           "bgcolor": "#E5ECF6",
           "radialaxis": {
            "gridcolor": "white",
            "linecolor": "white",
            "ticks": ""
           }
          },
          "scene": {
           "xaxis": {
            "backgroundcolor": "#E5ECF6",
            "gridcolor": "white",
            "gridwidth": 2,
            "linecolor": "white",
            "showbackground": true,
            "ticks": "",
            "zerolinecolor": "white"
           },
           "yaxis": {
            "backgroundcolor": "#E5ECF6",
            "gridcolor": "white",
            "gridwidth": 2,
            "linecolor": "white",
            "showbackground": true,
            "ticks": "",
            "zerolinecolor": "white"
           },
           "zaxis": {
            "backgroundcolor": "#E5ECF6",
            "gridcolor": "white",
            "gridwidth": 2,
            "linecolor": "white",
            "showbackground": true,
            "ticks": "",
            "zerolinecolor": "white"
           }
          },
          "shapedefaults": {
           "line": {
            "color": "#2a3f5f"
           }
          },
          "ternary": {
           "aaxis": {
            "gridcolor": "white",
            "linecolor": "white",
            "ticks": ""
           },
           "baxis": {
            "gridcolor": "white",
            "linecolor": "white",
            "ticks": ""
           },
           "bgcolor": "#E5ECF6",
           "caxis": {
            "gridcolor": "white",
            "linecolor": "white",
            "ticks": ""
           }
          },
          "title": {
           "x": 0.05
          },
          "xaxis": {
           "automargin": true,
           "gridcolor": "white",
           "linecolor": "white",
           "ticks": "",
           "title": {
            "standoff": 15
           },
           "zerolinecolor": "white",
           "zerolinewidth": 2
          },
          "yaxis": {
           "automargin": true,
           "gridcolor": "white",
           "linecolor": "white",
           "ticks": "",
           "title": {
            "standoff": 15
           },
           "zerolinecolor": "white",
           "zerolinewidth": 2
          }
         }
        },
        "title": {
         "text": ""
        },
        "width": 1600
       }
      }
     },
     "metadata": {},
     "output_type": "display_data"
    }
   ],
   "source": [
    "num_nodes = len(matching_table.columns) + len(matching_table.index)\n",
    "# fig = Sankey(matching_table, prefix=['seqFISH', 'Stereo-seq'], filter_num=60, layout=[1600,900], format='pdf')\n",
    "\n",
    "fig = Sankey(\n",
    "    matching_table,\n",
    "    filter_num=60,\n",
    "    color='red',\n",
    "    prefix=['seqFISH', 'Stereo-seq'],\n",
    "    layout=[1600, 900],\n",
    "    format='pdf',\n",
    "    # return_fig=True  # 确保返回fig对象\n",
    ")"
   ]
  },
  {
   "cell_type": "code",
   "execution_count": 22,
   "metadata": {},
   "outputs": [],
   "source": [
    "# fig.write_image('./sankey_stLVG.pdf', engine=\"kaleido\")"
   ]
  },
  {
   "cell_type": "code",
   "execution_count": null,
   "metadata": {},
   "outputs": [],
   "source": []
  }
 ],
 "metadata": {
  "kernelspec": {
   "display_name": "scSLAT",
   "language": "python",
   "name": "python3"
  },
  "language_info": {
   "codemirror_mode": {
    "name": "ipython",
    "version": 3
   },
   "file_extension": ".py",
   "mimetype": "text/x-python",
   "name": "python",
   "nbconvert_exporter": "python",
   "pygments_lexer": "ipython3",
   "version": "3.8.19"
  }
 },
 "nbformat": 4,
 "nbformat_minor": 2
}
