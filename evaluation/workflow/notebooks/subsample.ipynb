{
 "cells": [
  {
   "cell_type": "code",
   "execution_count": null,
   "metadata": {},
   "outputs": [],
   "source": [
    "import scanpy as sc"
   ]
  },
  {
   "cell_type": "code",
   "execution_count": null,
   "metadata": {
    "tags": [
     "parameters"
    ]
   },
   "outputs": [],
   "source": [
    "# parameter cell\n",
    "## file\n",
    "dataset1_file = ''\n",
    "dataset2_file = ''\n",
    "output1_file = ''\n",
    "output2_file = ''\n",
    "cells = -1"
   ]
  },
  {
   "cell_type": "code",
   "execution_count": null,
   "metadata": {},
   "outputs": [],
   "source": [
    "adata1 = sc.read_h5ad(dataset1_file)\n",
    "adata2 = sc.read_h5ad(dataset2_file)"
   ]
  },
  {
   "cell_type": "code",
   "execution_count": null,
   "metadata": {},
   "outputs": [],
   "source": [
    "assert adata1.obsm['spatial'] is not None   # ensure spatial info\n",
    "if cells > 0 and cells < adata1.shape[0] and cells < adata2.shape[0]:\n",
    "    adata1 = sc.pp.subsample(adata1, n_obs=cells, copy=True)\n",
    "    adata2 = sc.pp.subsample(adata2, n_obs=cells, copy=True)"
   ]
  },
  {
   "cell_type": "code",
   "execution_count": null,
   "metadata": {},
   "outputs": [],
   "source": [
    "adata1.write_h5ad(output1_file)\n",
    "adata2.write_h5ad(output2_file)"
   ]
  }
 ],
 "metadata": {
  "kernelspec": {
   "display_name": "Python 3.8.13 (conda)",
   "language": "python",
   "name": "python3"
  },
  "language_info": {
   "name": "python",
   "version": "3.8.17"
  },
  "orig_nbformat": 4,
  "vscode": {
   "interpreter": {
    "hash": "5d2fce7de3ecd6a4439b82378154cca459b1796e7b54299a12e280fb56a9eaf9"
   }
  }
 },
 "nbformat": 4,
 "nbformat_minor": 2
}
