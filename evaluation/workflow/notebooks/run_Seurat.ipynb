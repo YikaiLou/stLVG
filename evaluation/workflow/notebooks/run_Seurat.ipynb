{
 "cells": [
  {
   "cell_type": "code",
   "execution_count": null,
   "id": "f35dfee4",
   "metadata": {
    "execution": {
     "iopub.execute_input": "2022-08-31T07:39:00.440489Z",
     "iopub.status.busy": "2022-08-31T07:39:00.438643Z",
     "iopub.status.idle": "2022-08-31T07:39:06.238021Z",
     "shell.execute_reply": "2022-08-31T07:39:06.236239Z"
    },
    "papermill": {
     "duration": 5.845433,
     "end_time": "2022-08-31T07:39:06.241763",
     "exception": false,
     "start_time": "2022-08-31T07:39:00.396330",
     "status": "completed"
    },
    "tags": [],
    "vscode": {
     "languageId": "r"
    }
   },
   "outputs": [],
   "source": [
    "setwd('../')\n",
    "source(\".Rprofile\")\n",
    "setwd('./evaluation')\n",
    "print(.libPaths())\n",
    "library(Seurat)\n",
    "library(tidyverse)\n",
    "library(reticulate)\n",
    "library(data.table)\n",
    "library(yaml)"
   ]
  },
  {
   "cell_type": "code",
   "execution_count": null,
   "id": "7ade5826",
   "metadata": {
    "execution": {
     "iopub.execute_input": "2022-08-31T07:39:06.305018Z",
     "iopub.status.busy": "2022-08-31T07:39:06.259912Z",
     "iopub.status.idle": "2022-08-31T07:39:06.321779Z",
     "shell.execute_reply": "2022-08-31T07:39:06.320332Z"
    },
    "papermill": {
     "duration": 0.076429,
     "end_time": "2022-08-31T07:39:06.324055",
     "exception": false,
     "start_time": "2022-08-31T07:39:06.247626",
     "status": "completed"
    },
    "tags": [
     "parameters"
    ],
    "vscode": {
     "languageId": "r"
    }
   },
   "outputs": [],
   "source": [
    "# parameters cell\n",
    "adata1_file <- \"\"      # input : adata file\n",
    "adata2_file <- \"\"      # input : adata with noise\n",
    "emb0_file <- \"\"        # output: cca embedding + pca of adata\n",
    "emb1_file <- \"\"        # output: cca embedding + pca of adata noise\n",
    "\n",
    "# hyperparameters\n",
    "anchor_feature <- 0\n",
    "dim <- 0\n",
    "k_anchor <- 0\n",
    "k_filter <- 0\n",
    "k_score <- 0"
   ]
  },
  {
   "cell_type": "code",
   "execution_count": null,
   "id": "6f7c1d81",
   "metadata": {
    "execution": {
     "iopub.execute_input": "2022-08-31T07:39:06.372970Z",
     "iopub.status.busy": "2022-08-31T07:39:06.371680Z",
     "iopub.status.idle": "2022-08-31T07:39:29.513163Z",
     "shell.execute_reply": "2022-08-31T07:39:29.511595Z"
    },
    "papermill": {
     "duration": 23.151361,
     "end_time": "2022-08-31T07:39:29.516160",
     "exception": false,
     "start_time": "2022-08-31T07:39:06.364799",
     "status": "completed"
    },
    "tags": [],
    "vscode": {
     "languageId": "r"
    }
   },
   "outputs": [],
   "source": [
    "adata1 <- read.h5ad(adata1_file)\n",
    "adata2 <- read.h5ad(adata2_file)"
   ]
  },
  {
   "cell_type": "code",
   "execution_count": null,
   "id": "fc24abd1",
   "metadata": {
    "vscode": {
     "languageId": "r"
    }
   },
   "outputs": [],
   "source": [
    "mat1 <- Matrix::t(adata1$X)\n",
    "colnames(mat1) <- rownames(adata1$obs)\n",
    "rownames(mat1) <- rownames(adata1$var)\n",
    "mat2 <- Matrix::t(adata2$X)\n",
    "colnames(mat2) <- rownames(adata2$obs)\n",
    "rownames(mat2) <- rownames(adata2$var)"
   ]
  },
  {
   "cell_type": "code",
   "execution_count": null,
   "id": "e4f83a95",
   "metadata": {
    "execution": {
     "iopub.execute_input": "2022-08-31T07:39:29.533785Z",
     "iopub.status.busy": "2022-08-31T07:39:29.532126Z",
     "iopub.status.idle": "2022-08-31T07:40:41.319416Z",
     "shell.execute_reply": "2022-08-31T07:40:41.317905Z"
    },
    "papermill": {
     "duration": 71.7998,
     "end_time": "2022-08-31T07:40:41.327256",
     "exception": false,
     "start_time": "2022-08-31T07:39:29.527456",
     "status": "completed"
    },
    "tags": [],
    "vscode": {
     "languageId": "r"
    }
   },
   "outputs": [],
   "source": [
    "# NOTE: we must use name slide-seq because seurat only support slide-seq yet\n",
    "slide.seq.1 <- CreateSeuratObject(counts = mat1, meta.data = adata1$obs, assay = \"Spatial\")\n",
    "slide.seq.2 <- CreateSeuratObject(counts = mat2, meta.data = adata2$obs, assay = \"Spatial\")"
   ]
  },
  {
   "cell_type": "code",
   "execution_count": null,
   "id": "00bfa592",
   "metadata": {
    "execution": {
     "iopub.execute_input": "2022-08-31T07:40:41.336157Z",
     "iopub.status.busy": "2022-08-31T07:40:41.334987Z",
     "iopub.status.idle": "2022-08-31T07:40:41.354291Z",
     "shell.execute_reply": "2022-08-31T07:40:41.352940Z"
    },
    "papermill": {
     "duration": 0.025449,
     "end_time": "2022-08-31T07:40:41.356179",
     "exception": false,
     "start_time": "2022-08-31T07:40:41.330730",
     "status": "completed"
    },
    "tags": [],
    "vscode": {
     "languageId": "r"
    }
   },
   "outputs": [],
   "source": [
    "Cells(slide.seq.1) %>% length()"
   ]
  },
  {
   "cell_type": "code",
   "execution_count": null,
   "id": "123ca1f8",
   "metadata": {
    "execution": {
     "iopub.execute_input": "2022-08-31T07:40:41.374708Z",
     "iopub.status.busy": "2022-08-31T07:40:41.373252Z",
     "iopub.status.idle": "2022-08-31T07:40:43.997963Z",
     "shell.execute_reply": "2022-08-31T07:40:43.996371Z"
    },
    "papermill": {
     "duration": 2.653002,
     "end_time": "2022-08-31T07:40:44.014064",
     "exception": false,
     "start_time": "2022-08-31T07:40:41.361062",
     "status": "completed"
    },
    "tags": [],
    "vscode": {
     "languageId": "r"
    }
   },
   "outputs": [],
   "source": [
    "coord.df.1 <- data.frame(x = adata1$obsm$spatial[, 1], y = adata1$obsm$spatial[, 2], stringsAsFactors = FALSE)\n",
    "rownames(coord.df.1) <- Cells(slide.seq.1)\n",
    "slide.seq.1@images$image <-  new(\n",
    "    Class = \"SlideSeq\", # can not change class name\n",
    "    assay = \"Spatial\",\n",
    "    key = \"image_\",\n",
    "    coordinates = coord.df.1\n",
    "  )\n",
    "\n",
    "coord.df.2 <- data.frame(x = adata2$obsm$spatial[, 1], y = adata2$obsm$spatial[, 2], stringsAsFactors = FALSE)\n",
    "rownames(coord.df.2) <- Cells(slide.seq.2)\n",
    "slide.seq.2@images$image <- new(\n",
    "    Class = \"SlideSeq\", # can not change class name\n",
    "    assay = \"Spatial\",\n",
    "    key = \"image_\",\n",
    "    coordinates = coord.df.2\n",
    "  )\n",
    "SpatialFeaturePlot(slide.seq.1, features = \"nCount_Spatial\") + theme(legend.position = \"right\")\n",
    "SpatialFeaturePlot(slide.seq.2, features = \"nCount_Spatial\") + theme(legend.position = \"right\")\n"
   ]
  },
  {
   "cell_type": "code",
   "execution_count": null,
   "id": "912e01c9",
   "metadata": {
    "execution": {
     "iopub.execute_input": "2022-08-31T07:40:44.076083Z",
     "iopub.status.busy": "2022-08-31T07:40:44.073740Z",
     "iopub.status.idle": "2022-08-31T07:41:09.870094Z",
     "shell.execute_reply": "2022-08-31T07:41:09.868046Z"
    },
    "papermill": {
     "duration": 25.841654,
     "end_time": "2022-08-31T07:41:09.873119",
     "exception": true,
     "start_time": "2022-08-31T07:40:44.031465",
     "status": "failed"
    },
    "tags": [],
    "vscode": {
     "languageId": "r"
    }
   },
   "outputs": [],
   "source": [
    "start <- proc.time()\n",
    "slide.seq.1@meta.data[\"batch\"] <- \"a1\"\n",
    "slide.seq.2@meta.data[\"batch\"] <- \"a2\"\n",
    "seu_list <- list(slide.seq.1, slide.seq.2)\n",
    "seu_list <- lapply(X = seu_list, FUN = function(x) {\n",
    "    x <- NormalizeData(x) # has been normalized\n",
    "    x <- FindVariableFeatures(x, selection.method = \"vst\", nfeatures = anchor_feature)\n",
    "})\n",
    "\n",
    "# select features that are repeatedly variable across datasets for integration\n",
    "features <- SelectIntegrationFeatures(object.list = seu_list, nfeatures = anchor_feature)"
   ]
  },
  {
   "cell_type": "code",
   "execution_count": null,
   "id": "1a199fbd",
   "metadata": {
    "papermill": {
     "duration": null,
     "end_time": null,
     "exception": null,
     "start_time": null,
     "status": "pending"
    },
    "tags": [],
    "vscode": {
     "languageId": "r"
    }
   },
   "outputs": [],
   "source": [
    "plan(\"sequential\")\n",
    "seu.anchors <- FindIntegrationAnchors(object.list = seu_list, anchor.features = features, verbose = FALSE,\n",
    "                                        k.filter = k_filter, dims = 1:dim, k.anchor = k_anchor, k.score = k_score)\n",
    "plan(\"sequential\")\n",
    "seu_combined <- IntegrateData(anchorset = seu.anchors, verbose = FALSE)"
   ]
  },
  {
   "cell_type": "code",
   "execution_count": null,
   "id": "d57c9739",
   "metadata": {
    "papermill": {
     "duration": null,
     "end_time": null,
     "exception": null,
     "start_time": null,
     "status": "pending"
    },
    "tags": [],
    "vscode": {
     "languageId": "r"
    }
   },
   "outputs": [],
   "source": [
    "DefaultAssay(seu_combined) <- \"integrated\"\n",
    "seu_combined <- ScaleData(seu_combined, verbose = FALSE)\n",
    "seu_combined <- RunPCA(seu_combined, npcs = 50, verbose = FALSE)\n",
    "run_time <- as.numeric((proc.time() - start)[3])"
   ]
  },
  {
   "cell_type": "code",
   "execution_count": null,
   "id": "acada643",
   "metadata": {
    "papermill": {
     "duration": null,
     "end_time": null,
     "exception": null,
     "start_time": null,
     "status": "pending"
    },
    "tags": [],
    "vscode": {
     "languageId": "r"
    }
   },
   "outputs": [],
   "source": [
    "embd1 <- seu_combined@reductions$pca@cell.embeddings[1:dim(slide.seq.1)[2], ]\n",
    "embd2 <- seu_combined@reductions$pca@cell.embeddings[-c(1:dim(slide.seq.1)[2]), ]\n",
    "fwrite(embd1, sep = \",\", file = emb0_file, col.names = FALSE)\n",
    "fwrite(embd2, sep = \",\", file = emb1_file, col.names = FALSE)"
   ]
  },
  {
   "cell_type": "code",
   "execution_count": null,
   "id": "e013e97a",
   "metadata": {
    "vscode": {
     "languageId": "r"
    }
   },
   "outputs": [],
   "source": [
    "if (grepl(\"visium\", adata1_file) & grepl(\"DLPFC\", adata1_file)) {\n",
    "    biology_meta <- \"leiden\"\n",
    "    topology_meta <- \"layer_guess\"\n",
    "}else if (grepl(\"merfish\", adata1_file) & grepl(\"hypothalamic\", adata1_file)) {\n",
    "    biology_meta <- \"Cell_class\"\n",
    "    topology_meta <- \"region\"\n",
    "}else if (grepl(\"stereo\", adata1_file) & grepl(\"embryo\", adata1_file)) {\n",
    "    biology_meta <- \"annotation\"\n",
    "    topology_meta <- \"region\"\n",
    "}"
   ]
  },
  {
   "attachments": {},
   "cell_type": "markdown",
   "id": "fa2ea93f",
   "metadata": {},
   "source": [
    "# Plot"
   ]
  },
  {
   "cell_type": "code",
   "execution_count": null,
   "id": "ff0524c3",
   "metadata": {
    "vscode": {
     "languageId": "r"
    }
   },
   "outputs": [],
   "source": [
    "out_dir <- dirname(normalizePath(emb0_file))"
   ]
  },
  {
   "cell_type": "code",
   "execution_count": null,
   "id": "bd350f87",
   "metadata": {
    "papermill": {
     "duration": null,
     "end_time": null,
     "exception": null,
     "start_time": null,
     "status": "pending"
    },
    "tags": [],
    "vscode": {
     "languageId": "r"
    }
   },
   "outputs": [],
   "source": [
    "# seu_combined <- RunUMAP(seu_combined, reduction = \"pca\", dims = 1:30, verbose = FALSE)\n",
    "# seu_combined <- FindNeighbors(seu_combined, reduction = \"pca\", dims = 1:30, verbose = FALSE)\n",
    "# seu_combined <- FindClusters(seu_combined, resolution = 0.5, verbose = FALSE)\n",
    "# options(repr.plot.width = 10, repr.plot.height = 8)\n",
    "# fig1 <- DimPlot(seu_combined, reduction = \"umap\", group.by = \"batch\")\n",
    "# fig2 <- DimPlot(seu_combined, reduction = \"umap\", group.by = biology_meta)\n",
    "# fig3 <- DimPlot(seu_combined, reduction = \"umap\", group.by = topology_meta)\n"
   ]
  },
  {
   "cell_type": "code",
   "execution_count": null,
   "id": "b1a192d7",
   "metadata": {
    "papermill": {
     "duration": null,
     "end_time": null,
     "exception": null,
     "start_time": null,
     "status": "pending"
    },
    "tags": [],
    "vscode": {
     "languageId": "r"
    }
   },
   "outputs": [],
   "source": [
    "# out_dir <- dirname(normalizePath(emb0_file))\n",
    "# ggsave(paste0(out_dir, \"/batch.pdf\"), plot = fig1, device = \"pdf\", dpi = 600, bg = \"transparent\")\n",
    "# ggsave(paste0(out_dir, \"/biology.pdf\"), plot = fig2, device = \"pdf\", dpi = 600, bg = \"transparent\")\n",
    "# ggsave(paste0(out_dir, \"/topology.pdf\"), plot = fig3, device = \"pdf\", dpi = 600, bg = \"transparent\")"
   ]
  },
  {
   "attachments": {},
   "cell_type": "markdown",
   "id": "0f0a94d3",
   "metadata": {},
   "source": [
    "# Save"
   ]
  },
  {
   "cell_type": "code",
   "execution_count": null,
   "id": "2b26cbe6",
   "metadata": {
    "vscode": {
     "languageId": "r"
    }
   },
   "outputs": [],
   "source": [
    "write_yaml(list(\n",
    "    run_time = run_time\n",
    "    ),\n",
    "    paste0(out_dir, \"/run_time.yaml\")\n",
    ")"
   ]
  },
  {
   "cell_type": "code",
   "execution_count": null,
   "id": "72f248bd",
   "metadata": {
    "papermill": {
     "duration": null,
     "end_time": null,
     "exception": null,
     "start_time": null,
     "status": "pending"
    },
    "tags": [],
    "vscode": {
     "languageId": "r"
    }
   },
   "outputs": [],
   "source": [
    "# saveRDS(seu_combined, seurat_RDS_file)\n",
    "sessionInfo()"
   ]
  }
 ],
 "metadata": {
  "kernelspec": {
   "display_name": "slat_r",
   "language": "R",
   "name": "slat_r"
  },
  "language_info": {
   "codemirror_mode": "r",
   "file_extension": ".r",
   "mimetype": "text/x-r-source",
   "name": "R",
   "pygments_lexer": "r",
   "version": "3.8.13"
  },
  "papermill": {
   "default_parameters": {},
   "duration": 131.397906,
   "end_time": "2022-08-31T07:41:10.716678",
   "environment_variables": {},
   "exception": true,
   "input_path": "workflow/notebooks/run_Seurat.ipynb",
   "output_path": "results/stereo_mouse_embryo/cells:5000/node_noise:5-edge_noise:0/Seurat/seed:0/run_Seurat.ipynb",
   "parameters": {
    "adata_file": "results/stereo_mouse_embryo/cells:5000/node_noise:5-edge_noise:0/adata.h5ad",
    "adata_noise_file": "results/stereo_mouse_embryo/cells:5000/node_noise:5-edge_noise:0/adata_noise.h5ad",
    "emb0_file": "results/stereo_mouse_embryo/cells:5000/node_noise:5-edge_noise:0/Seurat/seed:0/emb0.csv",
    "emb1_file": "results/stereo_mouse_embryo/cells:5000/node_noise:5-edge_noise:0/Seurat/seed:0/emb1.csv",
    "seurat_RDS_file": "results/stereo_mouse_embryo/cells:5000/node_noise:5-edge_noise:0/Seurat/seed:0/seurat_combine.rds"
   },
   "start_time": "2022-08-31T07:38:59.318772",
   "version": "2.3.4"
  },
  "vscode": {
   "interpreter": {
    "hash": "621de31e2976773a15ee61e49bb83d1434b38154b833d4f115dd1fe48a7a7636"
   }
  }
 },
 "nbformat": 4,
 "nbformat_minor": 5
}
