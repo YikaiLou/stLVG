{
 "cells": [
  {
   "cell_type": "code",
   "execution_count": null,
   "id": "d30bf42c",
   "metadata": {
    "execution": {
     "iopub.execute_input": "2022-08-31T08:47:21.247295Z",
     "iopub.status.busy": "2022-08-31T08:47:21.246687Z",
     "iopub.status.idle": "2022-08-31T08:47:25.230852Z",
     "shell.execute_reply": "2022-08-31T08:47:25.229799Z"
    },
    "papermill": {
     "duration": 3.998798,
     "end_time": "2022-08-31T08:47:25.234550",
     "exception": false,
     "start_time": "2022-08-31T08:47:21.235752",
     "status": "completed"
    },
    "tags": []
   },
   "outputs": [],
   "source": [
    "import time\n",
    "import yaml\n",
    "\n",
    "import numpy as np\n",
    "import pandas as pd\n",
    "import scanpy as sc\n",
    "import harmonypy as hm\n",
    "\n",
    "from scSLAT.utils import global_seed\n",
    "from scSLAT.model import Cal_Spatial_Net, load_anndatas, run_SLAT, spatial_match, scanpy_workflow\n",
    "from scSLAT.metrics import global_score, euclidean_dis"
   ]
  },
  {
   "cell_type": "code",
   "execution_count": null,
   "id": "8981908d",
   "metadata": {
    "execution": {
     "iopub.execute_input": "2022-08-31T08:47:25.257284Z",
     "iopub.status.busy": "2022-08-31T08:47:25.256160Z",
     "iopub.status.idle": "2022-08-31T08:47:25.263038Z",
     "shell.execute_reply": "2022-08-31T08:47:25.261916Z"
    },
    "papermill": {
     "duration": 0.021026,
     "end_time": "2022-08-31T08:47:25.265866",
     "exception": false,
     "start_time": "2022-08-31T08:47:25.244840",
     "status": "completed"
    },
    "tags": [
     "parameters"
    ]
   },
   "outputs": [],
   "source": [
    "# parameters cell\n",
    "adata1_file = ''\n",
    "adata2_file = ''\n",
    "seed = 0\n",
    "\n",
    "# hyperparameters\n",
    "feature_dim = 0\n",
    "theta = 0\n",
    "lamb = 0\n",
    "\n",
    "# output\n",
    "emb0_file = ''\n",
    "emb1_file = ''\n",
    "metrics_file = ''"
   ]
  },
  {
   "cell_type": "code",
   "execution_count": null,
   "id": "53700ee7",
   "metadata": {},
   "outputs": [],
   "source": [
    "global_seed(seed)"
   ]
  },
  {
   "cell_type": "code",
   "execution_count": null,
   "id": "d7cea0e0",
   "metadata": {
    "execution": {
     "iopub.execute_input": "2022-08-31T08:47:25.335963Z",
     "iopub.status.busy": "2022-08-31T08:47:25.335357Z",
     "iopub.status.idle": "2022-08-31T08:47:26.439051Z",
     "shell.execute_reply": "2022-08-31T08:47:26.437960Z"
    },
    "papermill": {
     "duration": 1.115456,
     "end_time": "2022-08-31T08:47:26.440880",
     "exception": false,
     "start_time": "2022-08-31T08:47:25.325424",
     "status": "completed"
    },
    "tags": []
   },
   "outputs": [],
   "source": [
    "adata1 = sc.read_h5ad(adata1_file)\n",
    "adata2 = sc.read_h5ad(adata2_file)\n",
    "adata1.layers['counts'] = adata1.X.copy()\n",
    "adata2.layers['counts'] = adata2.X.copy()"
   ]
  },
  {
   "attachments": {},
   "cell_type": "markdown",
   "id": "825cf661",
   "metadata": {
    "papermill": {
     "duration": null,
     "end_time": null,
     "exception": null,
     "start_time": null,
     "status": "pending"
    },
    "tags": []
   },
   "source": [
    "# PCA and Harmony"
   ]
  },
  {
   "cell_type": "code",
   "execution_count": null,
   "id": "2333e07d",
   "metadata": {
    "execution": {
     "iopub.execute_input": "2022-08-31T04:49:14.246316Z",
     "iopub.status.busy": "2022-08-31T04:49:14.245639Z",
     "iopub.status.idle": "2022-08-31T04:49:36.685519Z",
     "shell.execute_reply": "2022-08-31T04:49:36.684365Z"
    },
    "papermill": {
     "duration": null,
     "end_time": null,
     "exception": null,
     "start_time": null,
     "status": "pending"
    },
    "tags": []
   },
   "outputs": [],
   "source": [
    "adata_all = adata1.concatenate(adata2)\n",
    "start = time.time()\n",
    "adata_all = scanpy_workflow(adata_all, n_comps=feature_dim)\n",
    "harm = hm.run_harmony(adata_all.obsm['X_pca'], adata_all.obs, 'batch',\n",
    "                      theta=theta, lamb=lamb, max_iter_harmony=20)\n",
    "Z = harm.Z_corr.T\n",
    "end = time.time()\n",
    "adata_all.obsm['X_harmony'] = Z\n",
    "run_time = str(end-start)"
   ]
  },
  {
   "cell_type": "code",
   "execution_count": null,
   "id": "664549d5",
   "metadata": {
    "execution": {
     "iopub.execute_input": "2022-08-31T04:49:36.707625Z",
     "iopub.status.busy": "2022-08-31T04:49:36.707204Z",
     "iopub.status.idle": "2022-08-31T04:49:36.713978Z",
     "shell.execute_reply": "2022-08-31T04:49:36.713292Z"
    },
    "papermill": {
     "duration": null,
     "end_time": null,
     "exception": null,
     "start_time": null,
     "status": "pending"
    },
    "tags": []
   },
   "outputs": [],
   "source": [
    "adata1.obsm['X_harmony'] = Z[:adata1.shape[0],:]\n",
    "adata2.obsm['X_harmony'] = Z[adata1.shape[0]:,:]"
   ]
  },
  {
   "attachments": {},
   "cell_type": "markdown",
   "id": "7dc747af",
   "metadata": {},
   "source": [
    "# Calculate metric"
   ]
  },
  {
   "cell_type": "code",
   "execution_count": null,
   "id": "c26b4ecf",
   "metadata": {},
   "outputs": [],
   "source": [
    "if 'visium' and 'DLPFC' in adata1_file:\n",
    "    biology_meta = 'cell_type'\n",
    "    topology_meta = 'layer_guess'\n",
    "elif 'merfish' and 'hypothalamic' in adata1_file:\n",
    "    biology_meta = 'Cell_class'\n",
    "    topology_meta = 'region'\n",
    "elif 'stereo' and 'embryo' in adata1_file:\n",
    "    biology_meta = 'annotation'\n",
    "    topology_meta = 'region'"
   ]
  },
  {
   "cell_type": "code",
   "execution_count": null,
   "id": "a7c4bfe4",
   "metadata": {},
   "outputs": [],
   "source": [
    "embd0 = adata1.obsm['X_harmony']\n",
    "embd1 = adata2.obsm['X_harmony']\n",
    "best, index, distance = spatial_match([embd0, embd1])\n",
    "matching = np.array([range(index.shape[0]), best])\n",
    "\n",
    "overall_score = global_score([adata1,adata2], matching.T, biology_meta, topology_meta)\n",
    "celltype_score = global_score([adata1,adata2], matching.T, biology_meta=biology_meta)\n",
    "region_score = global_score([adata1,adata2], matching.T, topology_meta=topology_meta)"
   ]
  },
  {
   "cell_type": "code",
   "execution_count": null,
   "id": "07889743",
   "metadata": {},
   "outputs": [],
   "source": [
    "eud = euclidean_dis(adata1, adata2, matching)"
   ]
  },
  {
   "attachments": {},
   "cell_type": "markdown",
   "id": "ffb6b786",
   "metadata": {},
   "source": [
    "# Save"
   ]
  },
  {
   "cell_type": "code",
   "execution_count": null,
   "id": "9469e94b",
   "metadata": {},
   "outputs": [],
   "source": [
    "metric_dic = {}\n",
    "metric_dic['global_score'] = overall_score\n",
    "metric_dic['celltype_score'] = celltype_score\n",
    "metric_dic['region_score'] = region_score\n",
    "metric_dic['euclidean_dis'] = eud\n",
    "metric_dic['run_time'] = run_time\n",
    "\n",
    "with open(metrics_file, \"w\") as f:\n",
    "    yaml.dump(metric_dic, f)\n",
    "\n",
    "np.savetxt(emb0_file, adata1.obsm['X_harmony'], delimiter=',')\n",
    "np.savetxt(emb1_file, adata2.obsm['X_harmony'], delimiter=',')"
   ]
  }
 ],
 "metadata": {
  "kernelspec": {
   "display_name": "Python 3.8.13 (conda)",
   "language": "python",
   "name": "python3"
  },
  "language_info": {
   "codemirror_mode": {
    "name": "ipython",
    "version": 3
   },
   "file_extension": ".py",
   "mimetype": "text/x-python",
   "name": "python",
   "nbconvert_exporter": "python",
   "pygments_lexer": "ipython3",
   "version": "3.8.17"
  },
  "papermill": {
   "default_parameters": {},
   "duration": 35.020328,
   "end_time": "2022-08-31T08:47:54.620534",
   "environment_variables": {},
   "exception": true,
   "input_path": "workflow/notebooks/prepare_data.ipynb",
   "output_path": "results/stereo_mouse_embryo/cells:5000/node_noise:5-edge_noise:0/prepare_data.ipynb",
   "parameters": {
    "adata1_out": "results/stereo_mouse_embryo/cells:5000/node_noise:5-edge_noise:0/adata1.h5ad",
    "adata2_out": "results/stereo_mouse_embryo/cells:5000/node_noise:5-edge_noise:0/adata2.h5ad",
    "cells": 5000,
    "edge_noise": 0,
    "input": "results/stereo_mouse_embryo/original/spatial_dataset.h5ad",
    "node_noise": 5
   },
   "start_time": "2022-08-31T08:47:19.600206",
   "version": "2.3.4"
  },
  "vscode": {
   "interpreter": {
    "hash": "5d2fce7de3ecd6a4439b82378154cca459b1796e7b54299a12e280fb56a9eaf9"
   }
  }
 },
 "nbformat": 4,
 "nbformat_minor": 5
}
