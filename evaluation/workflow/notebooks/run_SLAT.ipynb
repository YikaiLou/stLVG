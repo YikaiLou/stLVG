{
 "cells": [
  {
   "cell_type": "code",
   "execution_count": 5,
   "metadata": {},
   "outputs": [],
   "source": [
    "import pickle\n",
    "import os\n",
    "import itertools\n",
    "import time\n",
    "import yaml\n",
    "from pathlib import Path\n",
    "\n",
    "import torch_geometric\n",
    "import scanpy as sc\n",
    "import torch\n",
    "import numpy as np\n",
    "\n",
    "from scSLAT.utils import global_seed\n",
    "from scSLAT.model import Cal_Spatial_Net, load_anndatas, run_SLAT, spatial_match\n",
    "from scSLAT.metrics import global_score, euclidean_dis"
   ]
  },
  {
   "cell_type": "code",
   "execution_count": null,
   "metadata": {},
   "outputs": [],
   "source": []
  },
  {
   "cell_type": "code",
   "execution_count": null,
   "metadata": {
    "tags": [
     "parameters"
    ]
   },
   "outputs": [],
   "source": [
    "# parameter cell\n",
    "# input\n",
    "adata1_file = ''\n",
    "adata2_file = ''\n",
    "\n",
    "# graph hyperparameter\n",
    "k_cutoff = -1\n",
    "\n",
    "# embed hyperparameter\n",
    "feature_type = ''\n",
    "feature_dim = 0\n",
    "\n",
    "# model hyperparameter\n",
    "epochs = 0\n",
    "LGCN_layer = 0\n",
    "mlp_hidden = 0\n",
    "hidden_size = 0\n",
    "alpha = 0.0\n",
    "anchor_scale = 1\n",
    "lr_mlp = 0\n",
    "lr_wd = 0.0\n",
    "lr_recon = 0.0\n",
    "batch_d_per_iter = 0\n",
    "batch_r_per_iter = 0\n",
    "\n",
    "# alignment hyperparameter\n",
    "smooth = -1\n",
    "\n",
    "# seed\n",
    "seed = -1\n",
    "\n",
    "# output\n",
    "emb0_file = ''\n",
    "emb1_file = ''\n",
    "metrics_file = ''"
   ]
  },
  {
   "cell_type": "code",
   "execution_count": null,
   "metadata": {},
   "outputs": [],
   "source": [
    "adata1 = sc.read_h5ad(adata1_file)\n",
    "adata2 = sc.read_h5ad(adata2_file)"
   ]
  },
  {
   "attachments": {},
   "cell_type": "markdown",
   "metadata": {},
   "source": [
    "# Run model"
   ]
  },
  {
   "cell_type": "code",
   "execution_count": null,
   "metadata": {},
   "outputs": [],
   "source": [
    "global_seed(seed)\n",
    "start = time.time()\n",
    "Cal_Spatial_Net(adata1, k_cutoff=50, model='KNN')\n",
    "Cal_Spatial_Net(adata2, k_cutoff=50, model='KNN')\n",
    "edges, features = load_anndatas([adata1, adata2], feature=feature_type, dim=feature_dim)\n",
    "embd0, embd1, time1 = run_SLAT(features, edges,\n",
    "                                 epochs=epochs, \n",
    "                                 LGCN_layer=LGCN_layer,\n",
    "                                 mlp_hidden=mlp_hidden,\n",
    "                                 hidden_size=hidden_size,\n",
    "                                 alpha=alpha,\n",
    "                                 anchor_scale=anchor_scale,\n",
    "                                 lr_mlp=lr_mlp,\n",
    "                                 lr_wd=lr_wd,\n",
    "                                 lr_recon=lr_recon,\n",
    "                                 batch_d_per_iter=batch_d_per_iter,\n",
    "                                 batch_r_per_iter=batch_r_per_iter\n",
    "                                 )\n",
    "print('Runtime: ' + str(time.time() - start))\n",
    "run_time = str(time.time() - start)"
   ]
  },
  {
   "attachments": {},
   "cell_type": "markdown",
   "metadata": {},
   "source": [
    "# Calculate metric"
   ]
  },
  {
   "cell_type": "code",
   "execution_count": null,
   "metadata": {},
   "outputs": [],
   "source": [
    "adata1.obsm['X_slat'] = embd0.cpu().detach().numpy()\n",
    "adata2.obsm['X_slat'] = embd1.cpu().detach().numpy()"
   ]
  },
  {
   "cell_type": "code",
   "execution_count": null,
   "metadata": {},
   "outputs": [],
   "source": [
    "if 'visium' and 'DLPFC' in adata1_file:\n",
    "    biology_meta = 'cell_type'\n",
    "    topology_meta = 'layer_guess'\n",
    "elif 'merfish' and 'hypothalamic' in adata1_file:\n",
    "    biology_meta = 'Cell_class'\n",
    "    topology_meta = 'region'\n",
    "elif 'stereo' and 'embryo' in adata1_file:\n",
    "    biology_meta = 'annotation'\n",
    "    topology_meta = 'region'"
   ]
  },
  {
   "cell_type": "code",
   "execution_count": null,
   "metadata": {},
   "outputs": [],
   "source": [
    "embd0 = adata1.obsm['X_slat']\n",
    "embd1 = adata2.obsm['X_slat']\n",
    "best, index, distance = spatial_match([embd0, embd1], adatas=[adata1,adata2], smooth_range=smooth)\n",
    "matching = np.array([range(index.shape[0]), best])\n",
    "\n",
    "overall_score = global_score([adata1,adata2], matching.T, biology_meta, topology_meta)\n",
    "celltype_score = global_score([adata1,adata2], matching.T, biology_meta=biology_meta)\n",
    "region_score = global_score([adata1,adata2], matching.T, topology_meta=topology_meta)"
   ]
  },
  {
   "cell_type": "code",
   "execution_count": null,
   "metadata": {},
   "outputs": [],
   "source": [
    "eud = euclidean_dis(adata1, adata2, matching)"
   ]
  },
  {
   "attachments": {},
   "cell_type": "markdown",
   "metadata": {},
   "source": [
    "# Save"
   ]
  },
  {
   "cell_type": "code",
   "execution_count": null,
   "metadata": {},
   "outputs": [],
   "source": [
    "metric_dic = {}\n",
    "metric_dic['global_score'] = overall_score\n",
    "metric_dic['celltype_score'] = celltype_score\n",
    "metric_dic['region_score'] = region_score\n",
    "metric_dic['euclidean_dis'] = eud\n",
    "metric_dic['run_time'] = run_time\n",
    "\n",
    "with open(metrics_file, \"w\") as f:\n",
    "    yaml.dump(metric_dic, f)\n",
    "\n",
    "np.savetxt(emb0_file, adata1.obsm['X_slat'], delimiter=',')\n",
    "np.savetxt(emb1_file, adata2.obsm['X_slat'], delimiter=',')"
   ]
  },
  {
   "attachments": {},
   "cell_type": "markdown",
   "metadata": {},
   "source": [
    "# Plot"
   ]
  },
  {
   "cell_type": "code",
   "execution_count": null,
   "metadata": {},
   "outputs": [],
   "source": [
    "# adata_all = adata1.concatenate(adata2)\n",
    "# out_dir = Path(os.path.dirname(metrics_file))\n",
    "# sc.pp.neighbors(adata_all, metric=\"cosine\", use_rep='X_slat')\n",
    "# sc.tl.umap(adata_all)\n",
    "# sc.pl.umap(adata_all, color=biology_meta,save=out_dir / 'biology.pdf')\n",
    "# sc.pl.umap(adata_all, color=topology_meta,save=out_dir / 'topology.pdf')\n",
    "# sc.pl.umap(adata_all, color=\"batch\",save=out_dir / 'batch.pdf')"
   ]
  }
 ],
 "metadata": {
  "kernelspec": {
   "display_name": "Python 3.8.13 (conda)",
   "language": "python",
   "name": "python3"
  },
  "language_info": {
   "codemirror_mode": {
    "name": "ipython",
    "version": 3
   },
   "file_extension": ".py",
   "mimetype": "text/x-python",
   "name": "python",
   "nbconvert_exporter": "python",
   "pygments_lexer": "ipython3",
   "version": "3.8.17"
  },
  "orig_nbformat": 4,
  "vscode": {
   "interpreter": {
    "hash": "5d2fce7de3ecd6a4439b82378154cca459b1796e7b54299a12e280fb56a9eaf9"
   }
  }
 },
 "nbformat": 4,
 "nbformat_minor": 2
}
