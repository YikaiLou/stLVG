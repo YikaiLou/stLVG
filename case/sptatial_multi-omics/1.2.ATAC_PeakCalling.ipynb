{
 "cells": [
  {
   "cell_type": "markdown",
   "id": "476c4feb",
   "metadata": {},
   "source": [
    "# STEP 1.2: spatial-ATAC-seq peak calling\n",
    "We use `Signac` to call peaks from spatial-ATAC-seq datasets.\n",
    "> NOTE: Please install R packages used."
   ]
  },
  {
   "cell_type": "code",
   "execution_count": null,
   "id": "4cf07e63-79d4-4308-b911-bfdb932407e6",
   "metadata": {
    "tags": [],
    "vscode": {
     "languageId": "r"
    }
   },
   "outputs": [],
   "source": [
    "# install.packages(\"Signac\")\n",
    "# install.packages(\"EnsDb.Mmusculus.v79\")\n",
    "# install.packages(\"BSgenome.Mmusculus.UCSC.mm10\")"
   ]
  },
  {
   "cell_type": "code",
   "execution_count": 3,
   "id": "e1872c8a-6905-4c53-bc64-bba8b226f86f",
   "metadata": {
    "tags": [],
    "vscode": {
     "languageId": "r"
    }
   },
   "outputs": [],
   "source": [
    "library(Seurat)\n",
    "library(GenomeInfoDb)\n",
    "library(EnsDb.Mmusculus.v79)\n",
    "library(ggplot2)\n",
    "library(patchwork)\n",
    "library(tidyverse)\n",
    "library(data.table)\n",
    "library(Signac)"
   ]
  },
  {
   "cell_type": "code",
   "execution_count": 4,
   "id": "263eefa7-d648-4be1-b4e9-398d23dc8a91",
   "metadata": {
    "vscode": {
     "languageId": "r"
    }
   },
   "outputs": [],
   "source": [
    "# need check numpy version if error\n",
    "peaks <- CallPeaks(\"../../data/spatial_ATAC/ME11_20um/GSM6043255_ME11_20um_fragments.tsv.gz\",\n",
    "                   macs2.path = '/bin/macs2')"
   ]
  },
  {
   "cell_type": "code",
   "execution_count": 5,
   "id": "8515ba8c-b30e-4fee-a273-f37d2e4d7c7b",
   "metadata": {
    "vscode": {
     "languageId": "r"
    }
   },
   "outputs": [
    {
     "data": {
      "image/png": "[encoded data removed]",
      "text/plain": [
       "Plot with title \"Histogram of log10(totals$frequency_count)\""
      ]
     },
     "metadata": {
      "image/png": {
       "height": 420,
       "width": 420
      }
     },
     "output_type": "display_data"
    }
   ],
   "source": [
    "totals <- CountFragments(fragments = \"../../data/spatial_ATAC/ME11_20um/GSM6043255_ME11_20um_fragments.tsv.gz\")\n",
    "hist(log10(totals$frequency_count), breaks = 100)\n",
    "# cells.use <- totals[totals$frequency_count > 1000, \"CB\"]"
   ]
  },
  {
   "cell_type": "code",
   "execution_count": null,
   "id": "35ec1a9c-e1b9-4f17-bf22-bedf0e57e8fa",
   "metadata": {
    "tags": [],
    "vscode": {
     "languageId": "r"
    }
   },
   "outputs": [],
   "source": [
    "totals"
   ]
  },
  {
   "cell_type": "code",
   "execution_count": 6,
   "id": "8ca002a6-1fe7-4b82-b4a4-86a92a829e85",
   "metadata": {
    "vscode": {
     "languageId": "r"
    }
   },
   "outputs": [
    {
     "name": "stderr",
     "output_type": "stream",
     "text": [
      "Computing hash\n",
      "\n",
      "Extracting reads overlapping genomic regions\n",
      "\n"
     ]
    }
   ],
   "source": [
    "# NOTE: We need use ArchR re tabix file before run this\n",
    "fragments <- CreateFragmentObject(\"../../data/spatial_ATAC/ME11_20um/GSM6043255_ME11_20um_fragments.tsv.gz\")\n",
    "plan(\"multicore\", workers = 16)\n",
    "counts <- FeatureMatrix(fragments = fragments, features = peaks)\n",
    "plan(\"sequential\")"
   ]
  },
  {
   "cell_type": "code",
   "execution_count": 7,
   "id": "988b1b7a-4187-4359-8f7f-6d034b4adf1b",
   "metadata": {
    "vscode": {
     "languageId": "r"
    }
   },
   "outputs": [],
   "source": [
    "fwrite(as.data.table(peaks), \"./seurat_var.csv\", sep = \",\")"
   ]
  },
  {
   "cell_type": "code",
   "execution_count": 8,
   "id": "f6acaae2-9ef1-4d00-9602-e6c4daf5202f",
   "metadata": {
    "vscode": {
     "languageId": "r"
    }
   },
   "outputs": [],
   "source": [
    "counts <- as.data.table(counts)"
   ]
  },
  {
   "cell_type": "code",
   "execution_count": 9,
   "id": "ed5fc013-ce9e-4685-b9ab-615783aa11fc",
   "metadata": {
    "tags": [],
    "vscode": {
     "languageId": "r"
    }
   },
   "outputs": [
    {
     "data": {
      "text/html": [
       "<style>\n",
       ".list-inline {list-style: none; margin:0; padding: 0}\n",
       ".list-inline>li {display: inline-block}\n",
       ".list-inline>li:not(:last-child)::after {content: \"\\00b7\"; padding: 0 .5ex}\n",
       "</style>\n",
       "<ol class=list-inline><li>33480</li><li>2500</li></ol>\n"
      ],
      "text/latex": [
       "\\begin{enumerate*}\n",
       "\\item 33480\n",
       "\\item 2500\n",
       "\\end{enumerate*}\n"
      ],
      "text/markdown": [
       "1. 33480\n",
       "2. 2500\n",
       "\n",
       "\n"
      ],
      "text/plain": [
       "[1] 33480  2500"
      ]
     },
     "metadata": {},
     "output_type": "display_data"
    },
    {
     "name": "stderr",
     "output_type": "stream",
     "text": [
      "\u001b[1mRows: \u001b[22m\u001b[34m2500\u001b[39m \u001b[1mColumns: \u001b[22m\u001b[34m6\u001b[39m\n",
      "\u001b[36m──\u001b[39m \u001b[1mColumn specification\u001b[22m \u001b[36m────────────────────────────────────────────────────────────────────────────────────────────────\u001b[39m\n",
      "\u001b[1mDelimiter:\u001b[22m \",\"\n",
      "\u001b[31mchr\u001b[39m (1): X1\n",
      "\u001b[32mdbl\u001b[39m (5): X2, X3, X4, X5, X6\n",
      "\n",
      "\u001b[36mℹ\u001b[39m Use `spec()` to retrieve the full column specification for this data.\n",
      "\u001b[36mℹ\u001b[39m Specify the column types or set `show_col_types = FALSE` to quiet this message.\n"
     ]
    },
    {
     "data": {
      "text/html": [
       "<table class=\"dataframe\">\n",
       "<caption>A tibble: 6 × 7</caption>\n",
       "<thead>\n",
       "\t<tr><th scope=col>X1</th><th scope=col>X2</th><th scope=col>X3</th><th scope=col>X4</th><th scope=col>X5</th><th scope=col>X6</th><th scope=col>barcode</th></tr>\n",
       "\t<tr><th scope=col>&lt;chr&gt;</th><th scope=col>&lt;dbl&gt;</th><th scope=col>&lt;dbl&gt;</th><th scope=col>&lt;dbl&gt;</th><th scope=col>&lt;dbl&gt;</th><th scope=col>&lt;dbl&gt;</th><th scope=col>&lt;chr&gt;</th></tr>\n",
       "</thead>\n",
       "<tbody>\n",
       "\t<tr><td>AACGTGATAACGTGAT</td><td>1</td><td>0</td><td>0</td><td>491</td><td>1203</td><td>AACGTGATAACGTGAT-1</td></tr>\n",
       "\t<tr><td>AACGTGATAAACATCG</td><td>1</td><td>1</td><td>0</td><td>504</td><td>1203</td><td>AACGTGATAAACATCG-1</td></tr>\n",
       "\t<tr><td>AACGTGATATGCCTAA</td><td>1</td><td>2</td><td>0</td><td>517</td><td>1203</td><td>AACGTGATATGCCTAA-1</td></tr>\n",
       "\t<tr><td>AACGTGATAGTGGTCA</td><td>1</td><td>3</td><td>0</td><td>529</td><td>1203</td><td>AACGTGATAGTGGTCA-1</td></tr>\n",
       "\t<tr><td>AACGTGATACCACTGT</td><td>1</td><td>4</td><td>0</td><td>542</td><td>1203</td><td>AACGTGATACCACTGT-1</td></tr>\n",
       "\t<tr><td>AACGTGATACATTGGC</td><td>1</td><td>5</td><td>0</td><td>555</td><td>1203</td><td>AACGTGATACATTGGC-1</td></tr>\n",
       "</tbody>\n",
       "</table>\n"
      ],
      "text/latex": [
       "A tibble: 6 × 7\n",
       "\\begin{tabular}{lllllll}\n",
       " X1 & X2 & X3 & X4 & X5 & X6 & barcode\\\\\n",
       " <chr> & <dbl> & <dbl> & <dbl> & <dbl> & <dbl> & <chr>\\\\\n",
       "\\hline\n",
       "\t AACGTGATAACGTGAT & 1 & 0 & 0 & 491 & 1203 & AACGTGATAACGTGAT-1\\\\\n",
       "\t AACGTGATAAACATCG & 1 & 1 & 0 & 504 & 1203 & AACGTGATAAACATCG-1\\\\\n",
       "\t AACGTGATATGCCTAA & 1 & 2 & 0 & 517 & 1203 & AACGTGATATGCCTAA-1\\\\\n",
       "\t AACGTGATAGTGGTCA & 1 & 3 & 0 & 529 & 1203 & AACGTGATAGTGGTCA-1\\\\\n",
       "\t AACGTGATACCACTGT & 1 & 4 & 0 & 542 & 1203 & AACGTGATACCACTGT-1\\\\\n",
       "\t AACGTGATACATTGGC & 1 & 5 & 0 & 555 & 1203 & AACGTGATACATTGGC-1\\\\\n",
       "\\end{tabular}\n"
      ],
      "text/markdown": [
       "\n",
       "A tibble: 6 × 7\n",
       "\n",
       "| X1 &lt;chr&gt; | X2 &lt;dbl&gt; | X3 &lt;dbl&gt; | X4 &lt;dbl&gt; | X5 &lt;dbl&gt; | X6 &lt;dbl&gt; | barcode &lt;chr&gt; |\n",
       "|---|---|---|---|---|---|---|\n",
       "| AACGTGATAACGTGAT | 1 | 0 | 0 | 491 | 1203 | AACGTGATAACGTGAT-1 |\n",
       "| AACGTGATAAACATCG | 1 | 1 | 0 | 504 | 1203 | AACGTGATAAACATCG-1 |\n",
       "| AACGTGATATGCCTAA | 1 | 2 | 0 | 517 | 1203 | AACGTGATATGCCTAA-1 |\n",
       "| AACGTGATAGTGGTCA | 1 | 3 | 0 | 529 | 1203 | AACGTGATAGTGGTCA-1 |\n",
       "| AACGTGATACCACTGT | 1 | 4 | 0 | 542 | 1203 | AACGTGATACCACTGT-1 |\n",
       "| AACGTGATACATTGGC | 1 | 5 | 0 | 555 | 1203 | AACGTGATACATTGGC-1 |\n",
       "\n"
      ],
      "text/plain": [
       "  X1               X2 X3 X4 X5  X6   barcode           \n",
       "1 AACGTGATAACGTGAT 1  0  0  491 1203 AACGTGATAACGTGAT-1\n",
       "2 AACGTGATAAACATCG 1  1  0  504 1203 AACGTGATAAACATCG-1\n",
       "3 AACGTGATATGCCTAA 1  2  0  517 1203 AACGTGATATGCCTAA-1\n",
       "4 AACGTGATAGTGGTCA 1  3  0  529 1203 AACGTGATAGTGGTCA-1\n",
       "5 AACGTGATACCACTGT 1  4  0  542 1203 AACGTGATACCACTGT-1\n",
       "6 AACGTGATACATTGGC 1  5  0  555 1203 AACGTGATACATTGGC-1"
      ]
     },
     "metadata": {},
     "output_type": "display_data"
    }
   ],
   "source": [
    "counts %>% dim()\n",
    "anno <- read_csv(\"../../data/spatial_ATAC/ME11_20um/ME11_20um_spatial/tissue_positions_list.csv\", col_names = FALSE)\n",
    "anno$barcode <- paste(anno$X1, \"1\", sep = \"-\")\n",
    "head(anno)"
   ]
  },
  {
   "cell_type": "code",
   "execution_count": 10,
   "id": "60a29c83-4f63-4703-9ab3-77d151d633a4",
   "metadata": {
    "vscode": {
     "languageId": "r"
    }
   },
   "outputs": [
    {
     "data": {
      "text/html": [
       "2500"
      ],
      "text/latex": [
       "2500"
      ],
      "text/markdown": [
       "2500"
      ],
      "text/plain": [
       "[1] 2500"
      ]
     },
     "metadata": {},
     "output_type": "display_data"
    }
   ],
   "source": [
    "length(intersect(anno$barcode, colnames(counts)))"
   ]
  },
  {
   "cell_type": "code",
   "execution_count": 11,
   "id": "f46a1fac-4e3f-42ee-8137-15547e66f426",
   "metadata": {
    "vscode": {
     "languageId": "r"
    }
   },
   "outputs": [],
   "source": [
    "fwrite(counts, \"./seurat_peaks.csv\", sep = \",\", col.names = T)"
   ]
  }
 ],
 "metadata": {
  "kernelspec": {
   "display_name": "slat_r",
   "language": "R",
   "name": "slat_r"
  },
  "language_info": {
   "codemirror_mode": "r",
   "file_extension": ".r",
   "mimetype": "text/x-r-source",
   "name": "R",
   "pygments_lexer": "r",
   "version": "4.1.3"
  }
 },
 "nbformat": 4,
 "nbformat_minor": 5
}
