{
 "cells": [
  {
   "cell_type": "code",
   "execution_count": 1,
   "metadata": {},
   "outputs": [],
   "source": [
    "import numpy as np\n",
    "import pandas as pd\n",
    "import scanpy as sc\n",
    "\n",
    "import scSLAT\n",
    "from scSLAT.metrics import global_score"
   ]
  },
  {
   "cell_type": "code",
   "execution_count": 9,
   "metadata": {},
   "outputs": [],
   "source": [
    "adata1 = sc.read_h5ad('../Stereo_filter_labeled.h5ad')\n",
    "adata2 = sc.read_h5ad('../spatialATAC_filter_labeled.h5ad')"
   ]
  },
  {
   "cell_type": "code",
   "execution_count": 10,
   "metadata": {},
   "outputs": [],
   "source": [
    "results = pd.DataFrame(columns=['method', 'joint_accuracy', 'celltype_accuracy', 'region_accuracy'])"
   ]
  },
  {
   "cell_type": "code",
   "execution_count": 11,
   "metadata": {},
   "outputs": [
    {
     "name": "stdout",
     "output_type": "stream",
     "text": [
      "Warning! column  not in adata.obs \n",
      "Warning! column  not in adata.obs \n"
     ]
    }
   ],
   "source": [
    "# SLAT\n",
    "matching_slat = np.loadtxt('../slat_matching.txt',dtype=int)\n",
    "overall_score = global_score([adata1, adata2], matching_slat.T, 'annotation', 'region')\n",
    "celltype_score = global_score([adata1, adata2], matching_slat.T, biology_meta='annotation')\n",
    "region_score = global_score([adata1, adata2], matching_slat.T, topology_meta='region')\n",
    "# add new row of results\n",
    "results.loc[len(results.index)] = ['SLAT', overall_score, celltype_score, region_score]"
   ]
  },
  {
   "cell_type": "code",
   "execution_count": 12,
   "metadata": {},
   "outputs": [],
   "source": [
    "# GLUE\n",
    "matching_glue = np.loadtxt('./glue_matching.txt',dtype=int)\n",
    "overall_score = global_score([adata1, adata2], matching_glue.T, 'annotation', 'region')\n",
    "celltype_score = global_score([adata1, adata2], matching_glue.T, biology_meta='annotation')\n",
    "region_score = global_score([adata1, adata2], matching_glue.T, topology_meta='region')\n",
    "results.loc[len(results.index)] = ['GLUE', overall_score, celltype_score, region_score]"
   ]
  },
  {
   "cell_type": "code",
   "execution_count": 13,
   "metadata": {},
   "outputs": [],
   "source": [
    "# Harmony\n",
    "matching_harmony = np.loadtxt('./harmony_matching.txt',dtype=int)\n",
    "overall_score = global_score([adata1, adata2], matching_harmony.T, 'annotation', 'region')\n",
    "celltype_score = global_score([adata1, adata2], matching_harmony.T, biology_meta='annotation')\n",
    "region_score = global_score([adata1, adata2], matching_harmony.T, topology_meta='region')\n",
    "results.loc[len(results.index)] = ['Harmony', overall_score, celltype_score, region_score]"
   ]
  },
  {
   "cell_type": "code",
   "execution_count": 14,
   "metadata": {},
   "outputs": [],
   "source": [
    "results.to_csv('heterogenous_benchmark_results.csv')"
   ]
  }
 ],
 "metadata": {
  "kernelspec": {
   "display_name": "Python 3",
   "language": "python",
   "name": "python3"
  },
  "language_info": {
   "codemirror_mode": {
    "name": "ipython",
    "version": 3
   },
   "file_extension": ".py",
   "mimetype": "text/x-python",
   "name": "python",
   "nbconvert_exporter": "python",
   "pygments_lexer": "ipython3",
   "version": "3.8.13"
  },
  "orig_nbformat": 4
 },
 "nbformat": 4,
 "nbformat_minor": 2
}
