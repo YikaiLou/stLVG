{
 "cells": [
  {
   "cell_type": "code",
   "execution_count": 16,
   "metadata": {},
   "outputs": [],
   "source": [
    "import sys\n",
    "from typing import List, Mapping, Optional, Union\n",
    "\n",
    "import torch\n",
    "import numpy as np\n",
    "import pandas as pd\n",
    "import scanpy as sc\n",
    "import faiss\n",
    "from sklearn.neighbors import NearestNeighbors\n",
    "from sklearn.metrics.pairwise import euclidean_distances\n",
    "from anndata import AnnData\n",
    "\n",
    "import STAGATE_pyG"
   ]
  },
  {
   "cell_type": "code",
   "execution_count": 17,
   "metadata": {},
   "outputs": [],
   "source": [
    "def spatial_match(embds:List[torch.Tensor],\n",
    "                  reorder:Optional[bool]=True,\n",
    "                  top_n:Optional[int]=20,\n",
    "                  smooth:Optional[bool]=True,\n",
    "                  smooth_range:Optional[int]=20,\n",
    "                  scale_coord:Optional[bool]=True,\n",
    "                  adatas:Optional[List[AnnData]]=None,\n",
    "                  verbose:Optional[bool]=False\n",
    "    )-> List[Union[np.ndarray,torch.Tensor]]:\n",
    "    r\"\"\"\n",
    "    Use embedding to match cells from different datasets based on cosine similarity\n",
    "    \n",
    "    Parameters\n",
    "    ----------\n",
    "    embds\n",
    "        list of embeddings\n",
    "    reorder\n",
    "        if reorder embedding by cell numbers\n",
    "    top_n\n",
    "        return top n of cosine similarity\n",
    "    smooth\n",
    "        if smooth the mapping by Euclid distance\n",
    "    smooth_range\n",
    "        use how many candidates to do smooth\n",
    "    scale_coord\n",
    "        if scale the coordinate to [0,1]\n",
    "    adatas\n",
    "        list of adata object\n",
    "    verbose\n",
    "        if print log\n",
    "    \n",
    "    Note\n",
    "    ----------\n",
    "    Automatically use larger dataset as source\n",
    "    \n",
    "    Return\n",
    "    ----------\n",
    "    Best matching, Top n matching and cosine similarity matrix of top n  \n",
    "    \n",
    "    Note\n",
    "    ----------\n",
    "    Use faiss to accelerate, refer https://github.com/facebookresearch/faiss/issues/95\n",
    "    \"\"\"\n",
    "    if reorder and embds[0].shape[0] < embds[1].shape[0]:\n",
    "        embd0 = embds[1]\n",
    "        embd1 = embds[0]\n",
    "        adatas = adatas[::-1] if adatas is not None else None\n",
    "    else:\n",
    "        embd0 = embds[0]\n",
    "        embd1 = embds[1]\n",
    "    index = faiss.index_factory(embd1.shape[1], \"Flat\", faiss.METRIC_INNER_PRODUCT)\n",
    "    embd0_np = embd0.detach().cpu().numpy() if torch.is_tensor(embd0) else embd0\n",
    "    embd1_np = embd1.detach().cpu().numpy() if torch.is_tensor(embd1) else embd1\n",
    "    embd0_np = embd0_np.copy().astype('float32')\n",
    "    embd1_np = embd1_np.copy().astype('float32')\n",
    "    faiss.normalize_L2(embd0_np)\n",
    "    faiss.normalize_L2(embd1_np)\n",
    "    index.add(embd0_np)\n",
    "    distance, order = index.search(embd1_np, top_n)\n",
    "    best = []\n",
    "    if smooth and adatas != None:\n",
    "        smooth_range = min(smooth_range, top_n)\n",
    "        if verbose:\n",
    "            print('Smoothing mapping, make sure object is in same direction')\n",
    "        if scale_coord:\n",
    "            # scale spatial coordinate of every adata to [0,1]\n",
    "            adata1_coord = adatas[0].obsm['spatial'].copy()\n",
    "            adata2_coord = adatas[1].obsm['spatial'].copy()\n",
    "            for i in range(2):\n",
    "                    adata1_coord[:,i] = (adata1_coord[:,i]-np.min(adata1_coord[:,i]))/(np.max(adata1_coord[:,i])-np.min(adata1_coord[:,i]))\n",
    "                    adata2_coord[:,i] = (adata2_coord[:,i]-np.min(adata2_coord[:,i]))/(np.max(adata2_coord[:,i])-np.min(adata2_coord[:,i]))\n",
    "        for query in range(embd1_np.shape[0]):\n",
    "            ref_list = order[query, :smooth_range]\n",
    "            dis = euclidean_distances(adata2_coord[query,:].reshape(1, -1), \n",
    "                                      adata1_coord[ref_list,:])\n",
    "            best.append(ref_list[np.argmin(dis)])\n",
    "    else:\n",
    "        best = order[:,0]\n",
    "    return np.array(best), order, distance\n"
   ]
  },
  {
   "cell_type": "code",
   "execution_count": 13,
   "metadata": {},
   "outputs": [],
   "source": [
    "sys.path.append(\"../../../scSLAT/viz\")\n",
    "from multi_dataset import match_3D_celltype, match_3D_multi"
   ]
  },
  {
   "cell_type": "code",
   "execution_count": null,
   "metadata": {},
   "outputs": [],
   "source": [
    "rna = sc.read_h5ad('../glue_rna-E11_20um.h5ad')\n",
    "atac = sc.read_h5ad('../glue_atac-E11_20um.h5ad')"
   ]
  },
  {
   "cell_type": "code",
   "execution_count": null,
   "metadata": {},
   "outputs": [],
   "source": [
    "atac.obsm['spatial_bak'] = atac.obsm['spatial'].copy()\n",
    "atac.obsm['spatial'] = np.array([atac.obsm['spatial_bak'][:,0],-atac.obsm['spatial_bak'][:,1]]).T"
   ]
  },
  {
   "cell_type": "code",
   "execution_count": null,
   "metadata": {},
   "outputs": [],
   "source": [
    "STAGATE_pyG.Cal_Spatial_Net(rna, k_cutoff=20, model='KNN')\n",
    "STAGATE_pyG.Cal_Spatial_Net(atac, k_cutoff=20, model='KNN')\n",
    "adata = sc.concat([rna, atac])\n",
    "adata.uns['Spatial_Net'] = pd.concat([rna.uns['Spatial_Net'], atac.uns['Spatial_Net']])"
   ]
  },
  {
   "attachments": {},
   "cell_type": "markdown",
   "metadata": {},
   "source": [
    "# Failed\n",
    "STAGATE_pyG only can receive HVGs as input. ([raw code](https://github.com/QIFEIDKN/STAGATE_pyG/blob/main/STAGATE_pyG/Train_STAGATE.py))"
   ]
  },
  {
   "cell_type": "code",
   "execution_count": null,
   "metadata": {},
   "outputs": [],
   "source": [
    "# adata = STAGATE_pyG.train_STAGATE(adata, device='cuda')"
   ]
  }
 ],
 "metadata": {
  "kernelspec": {
   "display_name": "STAGATE_pyG",
   "language": "python",
   "name": "stagate_pyg"
  },
  "language_info": {
   "codemirror_mode": {
    "name": "ipython",
    "version": 3
   },
   "file_extension": ".py",
   "mimetype": "text/x-python",
   "name": "python",
   "nbconvert_exporter": "python",
   "pygments_lexer": "ipython3",
   "version": "3.8.13"
  },
  "orig_nbformat": 4,
  "vscode": {
   "interpreter": {
    "hash": "88786030ea59a7c96004ff67a345d53abff4d58eacfbb401c324cb520462373b"
   }
  }
 },
 "nbformat": 4,
 "nbformat_minor": 2
}
