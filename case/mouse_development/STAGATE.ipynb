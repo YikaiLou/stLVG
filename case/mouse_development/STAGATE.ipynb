{
 "cells": [
  {
   "cell_type": "code",
   "execution_count": 1,
   "metadata": {},
   "outputs": [
    {
     "name": "stderr",
     "output_type": "stream",
     "text": [
      "/rd2/user/xiacr/spatialGLUE/env/stagate/conda/lib/python3.8/site-packages/tqdm/auto.py:22: TqdmWarning: IProgress not found. Please update jupyter and ipywidgets. See https://ipywidgets.readthedocs.io/en/stable/user_install.html\n",
      "  from .autonotebook import tqdm as notebook_tqdm\n"
     ]
    }
   ],
   "source": [
    "import os\n",
    "import yaml\n",
    "import time\n",
    "import random\n",
    "from pathlib import Path\n",
    "\n",
    "import pandas as pd\n",
    "import numpy as np\n",
    "import torch\n",
    "import scanpy as sc\n",
    "\n",
    "import STAGATE_pyG"
   ]
  },
  {
   "cell_type": "code",
   "execution_count": 10,
   "metadata": {},
   "outputs": [],
   "source": [
    "adata1 = sc.read_h5ad('./adata1.h5ad')\n",
    "adata2 = sc.read_h5ad('./adata2.h5ad')\n",
    "adata1.obs['dataset'] = 'dataset1'\n",
    "adata2.obs['dataset'] = 'dataset2'"
   ]
  },
  {
   "cell_type": "code",
   "execution_count": 11,
   "metadata": {},
   "outputs": [
    {
     "name": "stdout",
     "output_type": "stream",
     "text": [
      "------Calculating spatial graph...\n",
      "The graph contains 200000 edges, 10000 cells.\n",
      "20.0000 neighbors per cell on average.\n",
      "------Calculating spatial graph...\n",
      "The graph contains 200020 edges, 10001 cells.\n",
      "20.0000 neighbors per cell on average.\n"
     ]
    },
    {
     "name": "stderr",
     "output_type": "stream",
     "text": [
      "/rd2/user/xiacr/spatialGLUE/env/stagate/conda/lib/python3.8/site-packages/anndata/_core/anndata.py:1828: UserWarning: Observation names are not unique. To make them unique, call `.obs_names_make_unique`.\n",
      "  utils.warn_names_duplicates(\"obs\")\n"
     ]
    }
   ],
   "source": [
    "STAGATE_pyG.Cal_Spatial_Net(adata1, k_cutoff=20, model='KNN')\n",
    "STAGATE_pyG.Cal_Spatial_Net(adata2, k_cutoff=20, model='KNN')\n",
    "adata = sc.concat([adata1, adata2])\n",
    "adata.uns['Spatial_Net'] = pd.concat([adata1.uns['Spatial_Net'], adata2.uns['Spatial_Net']])\n",
    "\n",
    "sc.pp.normalize_total(adata, target_sum=1e4)\n",
    "sc.pp.log1p(adata)\n",
    "sc.pp.highly_variable_genes(adata)"
   ]
  },
  {
   "cell_type": "code",
   "execution_count": 12,
   "metadata": {},
   "outputs": [
    {
     "name": "stdout",
     "output_type": "stream",
     "text": [
      "Size of Input:  (20001, 3957)\n"
     ]
    },
    {
     "name": "stderr",
     "output_type": "stream",
     "text": [
      "100%|██████████| 1000/1000 [01:33<00:00, 10.65it/s]\n"
     ]
    }
   ],
   "source": [
    "adata = STAGATE_pyG.train_STAGATE(adata, device='cuda:4')"
   ]
  },
  {
   "cell_type": "code",
   "execution_count": 15,
   "metadata": {},
   "outputs": [],
   "source": [
    "embd0 = adata[adata.obs['dataset']=='dataset1'].obsm['STAGATE']\n",
    "embd1 = adata[adata.obs['dataset']=='dataset2'].obsm['STAGATE']"
   ]
  },
  {
   "cell_type": "code",
   "execution_count": 16,
   "metadata": {},
   "outputs": [],
   "source": [
    "np.savetxt('./stagate_emb0.csv', embd0, delimiter=',')\n",
    "np.savetxt('./stagate_emb1.csv', embd1, delimiter=',')"
   ]
  }
 ],
 "metadata": {
  "kernelspec": {
   "display_name": "STAGATE_pyG",
   "language": "python",
   "name": "stagate_pyg"
  },
  "language_info": {
   "codemirror_mode": {
    "name": "ipython",
    "version": 3
   },
   "file_extension": ".py",
   "mimetype": "text/x-python",
   "name": "python",
   "nbconvert_exporter": "python",
   "pygments_lexer": "ipython3",
   "version": "3.8.13"
  },
  "orig_nbformat": 4,
  "vscode": {
   "interpreter": {
    "hash": "88786030ea59a7c96004ff67a345d53abff4d58eacfbb401c324cb520462373b"
   }
  }
 },
 "nbformat": 4,
 "nbformat_minor": 2
}
