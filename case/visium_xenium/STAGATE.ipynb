{
 "cells": [
  {
   "cell_type": "code",
   "execution_count": null,
   "metadata": {},
   "outputs": [],
   "source": [
    "import os\n",
    "import yaml\n",
    "import time\n",
    "import random\n",
    "from pathlib import Path\n",
    "\n",
    "import pandas as pd\n",
    "import numpy as np\n",
    "import torch\n",
    "import scanpy as sc\n",
    "\n",
    "import STAGATE_pyG"
   ]
  },
  {
   "cell_type": "code",
   "execution_count": null,
   "metadata": {},
   "outputs": [],
   "source": [
    "adata1 = sc.read_h5ad('../../data/xenium/breast/data1_split.h5ad')\n",
    "adata2 = sc.read_h5ad('../../data/visium/breast/data3_split.h5ad')\n",
    "adata1.obs['dataset'] = 'dataset1'\n",
    "adata2.obs['dataset'] = 'dataset2'"
   ]
  },
  {
   "cell_type": "code",
   "execution_count": null,
   "metadata": {},
   "outputs": [],
   "source": [
    "STAGATE_pyG.Cal_Spatial_Net(adata1, k_cutoff=20, model='KNN')\n",
    "STAGATE_pyG.Cal_Spatial_Net(adata2, k_cutoff=20, model='KNN')\n",
    "adata = sc.concat([adata1, adata2])\n",
    "adata.uns['Spatial_Net'] = pd.concat([adata1.uns['Spatial_Net'], adata2.uns['Spatial_Net']])\n",
    "# sc.pp.highly_variable_genes(adata, flavor=\"seurat_v3\", n_top_genes=3000)\n",
    "# sc.pp.normalize_total(adata, target_sum=1e4)\n",
    "# sc.pp.log1p(adata)\n",
    "\n",
    "sc.pp.normalize_total(adata, target_sum=1e4)\n",
    "sc.pp.log1p(adata)\n",
    "sc.pp.highly_variable_genes(adata)\n",
    "adata = STAGATE_pyG.train_STAGATE(adata)"
   ]
  },
  {
   "cell_type": "code",
   "execution_count": null,
   "metadata": {},
   "outputs": [],
   "source": [
    "embd0 = adata[adata.obs['dataset']=='dataset1'].obsm['STAGATE']\n",
    "embd1 = adata[adata.obs['dataset']=='dataset2'].obsm['STAGATE']"
   ]
  },
  {
   "cell_type": "code",
   "execution_count": null,
   "metadata": {},
   "outputs": [],
   "source": [
    "np.savetxt('./stagate_emb0.csv', embd0, delimiter=',')\n",
    "np.savetxt('./stagate_emb1.csv', embd1, delimiter=',')"
   ]
  }
 ],
 "metadata": {
  "kernelspec": {
   "display_name": "STAGATE_pyG",
   "language": "python",
   "name": "stagate_pyg"
  },
  "language_info": {
   "codemirror_mode": {
    "name": "ipython",
    "version": 3
   },
   "file_extension": ".py",
   "mimetype": "text/x-python",
   "name": "python",
   "nbconvert_exporter": "python",
   "pygments_lexer": "ipython3",
   "version": "3.8.13"
  }
 },
 "nbformat": 4,
 "nbformat_minor": 4
}
